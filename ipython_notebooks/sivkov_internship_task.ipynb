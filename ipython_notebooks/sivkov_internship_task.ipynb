{
 "cells": [
  {
   "cell_type": "markdown",
   "metadata": {},
   "source": [
    "    Тестовое задание для стажировки BostonGene, выполнил Сивков Антон"
   ]
  },
  {
   "cell_type": "code",
   "execution_count": 1,
   "metadata": {},
   "outputs": [],
   "source": [
    "import pandas as pd\n",
    "import numpy as np\n",
    "from sklearn import preprocessing"
   ]
  },
  {
   "cell_type": "code",
   "execution_count": 2,
   "metadata": {},
   "outputs": [],
   "source": [
    "gene_train = pd.read_csv('./GSE24080.csv')\n",
    "annotation_train = pd.read_csv('./GSE24080_annotation.csv')"
   ]
  },
  {
   "cell_type": "code",
   "execution_count": 3,
   "metadata": {
    "scrolled": true
   },
   "outputs": [
    {
     "data": {
      "text/html": [
       "<div>\n",
       "<style scoped>\n",
       "    .dataframe tbody tr th:only-of-type {\n",
       "        vertical-align: middle;\n",
       "    }\n",
       "\n",
       "    .dataframe tbody tr th {\n",
       "        vertical-align: top;\n",
       "    }\n",
       "\n",
       "    .dataframe thead th {\n",
       "        text-align: right;\n",
       "    }\n",
       "</style>\n",
       "<table border=\"1\" class=\"dataframe\">\n",
       "  <thead>\n",
       "    <tr style=\"text-align: right;\">\n",
       "      <th></th>\n",
       "      <th>Unnamed: 0</th>\n",
       "      <th>GSM592391</th>\n",
       "      <th>GSM592392</th>\n",
       "      <th>GSM592393</th>\n",
       "      <th>GSM592394</th>\n",
       "      <th>GSM592395</th>\n",
       "      <th>GSM592396</th>\n",
       "      <th>GSM592397</th>\n",
       "      <th>GSM592398</th>\n",
       "      <th>GSM592399</th>\n",
       "      <th>...</th>\n",
       "      <th>GSM592651</th>\n",
       "      <th>GSM592652</th>\n",
       "      <th>GSM592653</th>\n",
       "      <th>GSM592654</th>\n",
       "      <th>GSM592655</th>\n",
       "      <th>GSM592657</th>\n",
       "      <th>GSM592658</th>\n",
       "      <th>GSM592659</th>\n",
       "      <th>GSM592660</th>\n",
       "      <th>GSM592661</th>\n",
       "    </tr>\n",
       "  </thead>\n",
       "  <tbody>\n",
       "    <tr>\n",
       "      <th>0</th>\n",
       "      <td>1</td>\n",
       "      <td>6.320592</td>\n",
       "      <td>7.841437</td>\n",
       "      <td>7.236905</td>\n",
       "      <td>7.357953</td>\n",
       "      <td>7.575249</td>\n",
       "      <td>6.582377</td>\n",
       "      <td>7.353350</td>\n",
       "      <td>7.851279</td>\n",
       "      <td>6.520901</td>\n",
       "      <td>...</td>\n",
       "      <td>6.557048</td>\n",
       "      <td>6.292696</td>\n",
       "      <td>7.101230</td>\n",
       "      <td>6.475890</td>\n",
       "      <td>7.249549</td>\n",
       "      <td>7.573189</td>\n",
       "      <td>7.019407</td>\n",
       "      <td>7.347394</td>\n",
       "      <td>7.092173</td>\n",
       "      <td>6.567255</td>\n",
       "    </tr>\n",
       "    <tr>\n",
       "      <th>1</th>\n",
       "      <td>10</td>\n",
       "      <td>6.524870</td>\n",
       "      <td>6.748844</td>\n",
       "      <td>6.474852</td>\n",
       "      <td>6.531814</td>\n",
       "      <td>6.203069</td>\n",
       "      <td>7.322368</td>\n",
       "      <td>6.201412</td>\n",
       "      <td>6.423229</td>\n",
       "      <td>6.580801</td>\n",
       "      <td>...</td>\n",
       "      <td>6.207441</td>\n",
       "      <td>6.564342</td>\n",
       "      <td>6.480877</td>\n",
       "      <td>6.635799</td>\n",
       "      <td>6.717914</td>\n",
       "      <td>7.153402</td>\n",
       "      <td>7.097871</td>\n",
       "      <td>6.843511</td>\n",
       "      <td>7.213132</td>\n",
       "      <td>6.663122</td>\n",
       "    </tr>\n",
       "    <tr>\n",
       "      <th>2</th>\n",
       "      <td>100</td>\n",
       "      <td>6.154809</td>\n",
       "      <td>8.255445</td>\n",
       "      <td>6.606431</td>\n",
       "      <td>6.736690</td>\n",
       "      <td>7.737661</td>\n",
       "      <td>7.210040</td>\n",
       "      <td>8.569865</td>\n",
       "      <td>8.919523</td>\n",
       "      <td>8.794633</td>\n",
       "      <td>...</td>\n",
       "      <td>8.486530</td>\n",
       "      <td>6.867678</td>\n",
       "      <td>5.690035</td>\n",
       "      <td>7.836123</td>\n",
       "      <td>7.102903</td>\n",
       "      <td>6.946071</td>\n",
       "      <td>7.671558</td>\n",
       "      <td>8.236551</td>\n",
       "      <td>8.704792</td>\n",
       "      <td>7.821050</td>\n",
       "    </tr>\n",
       "    <tr>\n",
       "      <th>3</th>\n",
       "      <td>1000</td>\n",
       "      <td>7.914991</td>\n",
       "      <td>7.447350</td>\n",
       "      <td>5.754499</td>\n",
       "      <td>6.558732</td>\n",
       "      <td>6.952457</td>\n",
       "      <td>5.911639</td>\n",
       "      <td>7.890182</td>\n",
       "      <td>6.099293</td>\n",
       "      <td>5.991005</td>\n",
       "      <td>...</td>\n",
       "      <td>6.050995</td>\n",
       "      <td>6.069393</td>\n",
       "      <td>5.714169</td>\n",
       "      <td>8.458218</td>\n",
       "      <td>6.148825</td>\n",
       "      <td>7.473370</td>\n",
       "      <td>6.783394</td>\n",
       "      <td>6.987677</td>\n",
       "      <td>7.102996</td>\n",
       "      <td>6.961492</td>\n",
       "    </tr>\n",
       "    <tr>\n",
       "      <th>4</th>\n",
       "      <td>10000</td>\n",
       "      <td>5.727344</td>\n",
       "      <td>5.450691</td>\n",
       "      <td>5.591459</td>\n",
       "      <td>5.866231</td>\n",
       "      <td>5.650703</td>\n",
       "      <td>5.682895</td>\n",
       "      <td>5.268059</td>\n",
       "      <td>5.268848</td>\n",
       "      <td>5.765158</td>\n",
       "      <td>...</td>\n",
       "      <td>6.204692</td>\n",
       "      <td>5.810871</td>\n",
       "      <td>6.184398</td>\n",
       "      <td>5.360577</td>\n",
       "      <td>6.343051</td>\n",
       "      <td>5.867253</td>\n",
       "      <td>5.903853</td>\n",
       "      <td>5.619115</td>\n",
       "      <td>5.570919</td>\n",
       "      <td>5.833500</td>\n",
       "    </tr>\n",
       "  </tbody>\n",
       "</table>\n",
       "<p>5 rows × 560 columns</p>\n",
       "</div>"
      ],
      "text/plain": [
       "   Unnamed: 0  GSM592391  GSM592392  GSM592393  GSM592394  GSM592395  \\\n",
       "0           1   6.320592   7.841437   7.236905   7.357953   7.575249   \n",
       "1          10   6.524870   6.748844   6.474852   6.531814   6.203069   \n",
       "2         100   6.154809   8.255445   6.606431   6.736690   7.737661   \n",
       "3        1000   7.914991   7.447350   5.754499   6.558732   6.952457   \n",
       "4       10000   5.727344   5.450691   5.591459   5.866231   5.650703   \n",
       "\n",
       "   GSM592396  GSM592397  GSM592398  GSM592399    ...      GSM592651  \\\n",
       "0   6.582377   7.353350   7.851279   6.520901    ...       6.557048   \n",
       "1   7.322368   6.201412   6.423229   6.580801    ...       6.207441   \n",
       "2   7.210040   8.569865   8.919523   8.794633    ...       8.486530   \n",
       "3   5.911639   7.890182   6.099293   5.991005    ...       6.050995   \n",
       "4   5.682895   5.268059   5.268848   5.765158    ...       6.204692   \n",
       "\n",
       "   GSM592652  GSM592653  GSM592654  GSM592655  GSM592657  GSM592658  \\\n",
       "0   6.292696   7.101230   6.475890   7.249549   7.573189   7.019407   \n",
       "1   6.564342   6.480877   6.635799   6.717914   7.153402   7.097871   \n",
       "2   6.867678   5.690035   7.836123   7.102903   6.946071   7.671558   \n",
       "3   6.069393   5.714169   8.458218   6.148825   7.473370   6.783394   \n",
       "4   5.810871   6.184398   5.360577   6.343051   5.867253   5.903853   \n",
       "\n",
       "   GSM592659  GSM592660  GSM592661  \n",
       "0   7.347394   7.092173   6.567255  \n",
       "1   6.843511   7.213132   6.663122  \n",
       "2   8.236551   8.704792   7.821050  \n",
       "3   6.987677   7.102996   6.961492  \n",
       "4   5.619115   5.570919   5.833500  \n",
       "\n",
       "[5 rows x 560 columns]"
      ]
     },
     "execution_count": 3,
     "metadata": {},
     "output_type": "execute_result"
    }
   ],
   "source": [
    "gene_train.head()"
   ]
  },
  {
   "cell_type": "code",
   "execution_count": 4,
   "metadata": {},
   "outputs": [
    {
     "data": {
      "text/plain": [
       "(20514, 560)"
      ]
     },
     "execution_count": 4,
     "metadata": {},
     "output_type": "execute_result"
    }
   ],
   "source": [
    "gene_train.shape"
   ]
  },
  {
   "cell_type": "code",
   "execution_count": 5,
   "metadata": {},
   "outputs": [],
   "source": [
    "gene_train = gene_train.T"
   ]
  },
  {
   "cell_type": "code",
   "execution_count": 6,
   "metadata": {
    "scrolled": true
   },
   "outputs": [
    {
     "data": {
      "text/html": [
       "<div>\n",
       "<style scoped>\n",
       "    .dataframe tbody tr th:only-of-type {\n",
       "        vertical-align: middle;\n",
       "    }\n",
       "\n",
       "    .dataframe tbody tr th {\n",
       "        vertical-align: top;\n",
       "    }\n",
       "\n",
       "    .dataframe thead th {\n",
       "        text-align: right;\n",
       "    }\n",
       "</style>\n",
       "<table border=\"1\" class=\"dataframe\">\n",
       "  <thead>\n",
       "    <tr style=\"text-align: right;\">\n",
       "      <th></th>\n",
       "      <th>Patient</th>\n",
       "      <th>D_Age</th>\n",
       "      <th>D_Gender</th>\n",
       "      <th>D_ISS</th>\n",
       "      <th>HR_FLAG</th>\n",
       "    </tr>\n",
       "  </thead>\n",
       "  <tbody>\n",
       "    <tr>\n",
       "      <th>0</th>\n",
       "      <td>GSM592391</td>\n",
       "      <td>53.356211</td>\n",
       "      <td>Female</td>\n",
       "      <td>1.0</td>\n",
       "      <td>FALSE</td>\n",
       "    </tr>\n",
       "    <tr>\n",
       "      <th>1</th>\n",
       "      <td>GSM592392</td>\n",
       "      <td>52.705559</td>\n",
       "      <td>Female</td>\n",
       "      <td>1.0</td>\n",
       "      <td>FALSE</td>\n",
       "    </tr>\n",
       "    <tr>\n",
       "      <th>2</th>\n",
       "      <td>GSM592393</td>\n",
       "      <td>62.028826</td>\n",
       "      <td>Male</td>\n",
       "      <td>3.0</td>\n",
       "      <td>FALSE</td>\n",
       "    </tr>\n",
       "    <tr>\n",
       "      <th>3</th>\n",
       "      <td>GSM592394</td>\n",
       "      <td>60.312972</td>\n",
       "      <td>Male</td>\n",
       "      <td>1.0</td>\n",
       "      <td>FALSE</td>\n",
       "    </tr>\n",
       "    <tr>\n",
       "      <th>4</th>\n",
       "      <td>GSM592395</td>\n",
       "      <td>66.921071</td>\n",
       "      <td>Male</td>\n",
       "      <td>2.0</td>\n",
       "      <td>FALSE</td>\n",
       "    </tr>\n",
       "  </tbody>\n",
       "</table>\n",
       "</div>"
      ],
      "text/plain": [
       "     Patient      D_Age D_Gender  D_ISS HR_FLAG\n",
       "0  GSM592391  53.356211   Female    1.0   FALSE\n",
       "1  GSM592392  52.705559   Female    1.0   FALSE\n",
       "2  GSM592393  62.028826     Male    3.0   FALSE\n",
       "3  GSM592394  60.312972     Male    1.0   FALSE\n",
       "4  GSM592395  66.921071     Male    2.0   FALSE"
      ]
     },
     "execution_count": 6,
     "metadata": {},
     "output_type": "execute_result"
    }
   ],
   "source": [
    "annotation_train.head()"
   ]
  },
  {
   "cell_type": "code",
   "execution_count": 7,
   "metadata": {},
   "outputs": [],
   "source": [
    "gene_validate = pd.read_csv('./GSE19784.csv')\n",
    "annotation_validate = pd.read_csv('./GSE19784_annotation.csv')"
   ]
  },
  {
   "cell_type": "code",
   "execution_count": 8,
   "metadata": {},
   "outputs": [
    {
     "data": {
      "text/plain": [
       "(283, 20514)"
      ]
     },
     "execution_count": 8,
     "metadata": {},
     "output_type": "execute_result"
    }
   ],
   "source": [
    "gene_validate = gene_validate.T\n",
    "gene_validate.shape"
   ]
  },
  {
   "cell_type": "code",
   "execution_count": 9,
   "metadata": {},
   "outputs": [],
   "source": [
    "X_t = np.array(gene_train.iloc[1:, :])\n",
    "y_t = preprocessing.LabelEncoder().fit_transform(annotation_train.iloc[:, 4])"
   ]
  },
  {
   "cell_type": "code",
   "execution_count": 11,
   "metadata": {},
   "outputs": [
    {
     "data": {
      "text/plain": [
       "array([  1, 470,  88])"
      ]
     },
     "execution_count": 11,
     "metadata": {},
     "output_type": "execute_result"
    }
   ],
   "source": [
    "np.bincount(y_t)"
   ]
  },
  {
   "cell_type": "markdown",
   "metadata": {},
   "source": [
    "Видно, что в датасетах есть неразмеченные данные (HR_FLAG = CENSORED), от них можно избавится"
   ]
  },
  {
   "cell_type": "code",
   "execution_count": 12,
   "metadata": {},
   "outputs": [],
   "source": [
    "mask_cens_t = y_t != 0\n",
    "X_t = X_t[mask_cens_t]\n",
    "y_t = y_t[mask_cens_t]\n",
    "y_t[y_t == 1] = 0\n",
    "y_t[y_t == 2] = 1"
   ]
  },
  {
   "cell_type": "code",
   "execution_count": 13,
   "metadata": {},
   "outputs": [],
   "source": [
    "X_v = np.array(gene_validate.iloc[1:, :])\n",
    "y_v = preprocessing.LabelEncoder().fit_transform(annotation_validate.iloc[:, 4])"
   ]
  },
  {
   "cell_type": "code",
   "execution_count": 15,
   "metadata": {},
   "outputs": [
    {
     "data": {
      "text/plain": [
       "array([  8, 182,  92])"
      ]
     },
     "execution_count": 15,
     "metadata": {},
     "output_type": "execute_result"
    }
   ],
   "source": [
    "np.bincount(y_v)"
   ]
  },
  {
   "cell_type": "code",
   "execution_count": 16,
   "metadata": {},
   "outputs": [],
   "source": [
    "mask_cens_v = y_v != 0\n",
    "X_v = X_v[mask_cens_v]\n",
    "y_v = y_v[mask_cens_v]\n",
    "y_v[y_v == 1] = 0\n",
    "y_v[y_v == 2] = 1"
   ]
  },
  {
   "cell_type": "markdown",
   "metadata": {},
   "source": [
    "Сравнение мат ожиданий в X_t и X_v"
   ]
  },
  {
   "cell_type": "code",
   "execution_count": 17,
   "metadata": {},
   "outputs": [
    {
     "data": {
      "text/plain": [
       "0.77160209418413728"
      ]
     },
     "execution_count": 17,
     "metadata": {},
     "output_type": "execute_result"
    }
   ],
   "source": [
    "np.abs(X_t.mean(axis=0) - X_v.mean(axis=0)).mean()"
   ]
  },
  {
   "cell_type": "code",
   "execution_count": 18,
   "metadata": {},
   "outputs": [
    {
     "data": {
      "text/plain": [
       "0.5777867172490897"
      ]
     },
     "execution_count": 18,
     "metadata": {},
     "output_type": "execute_result"
    }
   ],
   "source": [
    "(X_t.mean(axis=0) - X_v.mean(axis=0)).mean()"
   ]
  },
  {
   "cell_type": "code",
   "execution_count": 19,
   "metadata": {},
   "outputs": [
    {
     "data": {
      "text/plain": [
       "0.59252479626665255"
      ]
     },
     "execution_count": 19,
     "metadata": {},
     "output_type": "execute_result"
    }
   ],
   "source": [
    "((X_t[y_t == 1]).mean(axis=0) - (X_v[y_v == 1]).mean(axis=0)).mean()"
   ]
  },
  {
   "cell_type": "code",
   "execution_count": 20,
   "metadata": {},
   "outputs": [
    {
     "data": {
      "text/plain": [
       "0.57169762038263128"
      ]
     },
     "execution_count": 20,
     "metadata": {},
     "output_type": "execute_result"
    }
   ],
   "source": [
    "((X_t[y_t == 0]).mean(axis=0) - (X_v[y_v == 0]).mean(axis=0)).mean()"
   ]
  },
  {
   "cell_type": "markdown",
   "metadata": {},
   "source": [
    "Видно, что в обучающей выборке средние значения экспрессии в среднем чуть выше, чем в валидационной, не совсем понятно что это характеризует, не уверен что нужно центрировать данные, т. к. значения экспресии имеют биологический смысл"
   ]
  },
  {
   "cell_type": "code",
   "execution_count": 21,
   "metadata": {},
   "outputs": [],
   "source": [
    "import matplotlib.pyplot as plt\n",
    "import seaborn as sns\n",
    "%matplotlib inline\n",
    "plt.style.use('ggplot')\n",
    "plt.rcParams['figure.figsize'] = (12,5)"
   ]
  },
  {
   "cell_type": "markdown",
   "metadata": {},
   "source": [
    "Размеры классов"
   ]
  },
  {
   "cell_type": "code",
   "execution_count": 22,
   "metadata": {
    "scrolled": true
   },
   "outputs": [
    {
     "data": {
      "text/plain": [
       "<Container object of 2 artists>"
      ]
     },
     "execution_count": 22,
     "metadata": {},
     "output_type": "execute_result"
    },
    {
     "data": {
      "image/png": "[encoded data removed]",
      "text/plain": [
       "<matplotlib.figure.Figure at 0x7f5136304518>"
      ]
     },
     "metadata": {},
     "output_type": "display_data"
    }
   ],
   "source": [
    "plt.bar(['false', 'true'], np.bincount(y_t))"
   ]
  },
  {
   "cell_type": "code",
   "execution_count": 23,
   "metadata": {},
   "outputs": [
    {
     "data": {
      "text/plain": [
       "<Container object of 2 artists>"
      ]
     },
     "execution_count": 23,
     "metadata": {},
     "output_type": "execute_result"
    },
    {
     "data": {
      "image/png": "[encoded data removed]",
      "text/plain": [
       "<matplotlib.figure.Figure at 0x7f5136304588>"
      ]
     },
     "metadata": {},
     "output_type": "display_data"
    }
   ],
   "source": [
    "plt.bar(['false', 'true'], np.bincount(y_v))"
   ]
  },
  {
   "cell_type": "markdown",
   "metadata": {},
   "source": [
    "Если предположить, что признаки получены в одинаковых условиях и имеют схожую природу, по kdeplot случайных признаков выходит, что данные достаточно централизованно распределены и измерения не зашумлены"
   ]
  },
  {
   "cell_type": "code",
   "execution_count": 24,
   "metadata": {
    "scrolled": true
   },
   "outputs": [
    {
     "data": {
      "text/plain": [
       "<matplotlib.axes._subplots.AxesSubplot at 0x7f5132b26cc0>"
      ]
     },
     "execution_count": 24,
     "metadata": {},
     "output_type": "execute_result"
    },
    {
     "data": {
      "image/png": "[encoded data removed]",
      "text/plain": [
       "<matplotlib.figure.Figure at 0x7f5136304198>"
      ]
     },
     "metadata": {},
     "output_type": "display_data"
    }
   ],
   "source": [
    "sns.kdeplot(X_t[:, np.random.randint(0, X_t.shape[1])])"
   ]
  },
  {
   "cell_type": "code",
   "execution_count": 25,
   "metadata": {},
   "outputs": [
    {
     "data": {
      "text/plain": [
       "<matplotlib.axes._subplots.AxesSubplot at 0x7f5132aeb588>"
      ]
     },
     "execution_count": 25,
     "metadata": {},
     "output_type": "execute_result"
    },
    {
     "data": {
      "image/png": "[encoded data removed]",
      "text/plain": [
       "<matplotlib.figure.Figure at 0x7f5132b41048>"
      ]
     },
     "metadata": {},
     "output_type": "display_data"
    }
   ],
   "source": [
    "sns.kdeplot(X_v[:, np.random.randint(0, X_v.shape[1])])"
   ]
  },
  {
   "cell_type": "markdown",
   "metadata": {},
   "source": [
    "Шкалированние и центрирование"
   ]
  },
  {
   "cell_type": "code",
   "execution_count": 27,
   "metadata": {},
   "outputs": [],
   "source": [
    "scaler = preprocessing.StandardScaler()\n",
    "X_t_scaled = scaler.fit_transform(X_t)\n",
    "X_v_scaled = scaler.fit_transform(X_v)"
   ]
  },
  {
   "cell_type": "markdown",
   "metadata": {},
   "source": [
    "Я хотел отчистить данные от выбросов / похожих объектов, для этого написал небольшой класс, основанный на Local Sensitive Hash и косинусном расстоянии между объектами (позже понял что в данном случае вычислительно проще просто считать расстояния между объектами, но дискретные функции расстояния проще интерпретировать)"
   ]
  },
  {
   "cell_type": "code",
   "execution_count": 28,
   "metadata": {},
   "outputs": [],
   "source": [
    "class LSH_cleaner:\n",
    "\n",
    "    def __init__(self, hash_size=256):\n",
    "        self.hash_size = hash_size\n",
    "        self.neighbors = None\n",
    "\n",
    "    def fit(self, X, k_neighbors=1):\n",
    "        \"\"\"\n",
    "        Calculate k nearest neighbors of every X sample\n",
    "        \"\"\"\n",
    "        hashes = np.empty((X.shape[0], self.hash_size), dtype=np.int32)\n",
    "        \n",
    "        for i in range(X.shape[0]):\n",
    "            vectors = np.random.uniform(low=-1.0, high=1.0, size=(self.hash_size, X.shape[1]))\n",
    "            hashes[i] = (X[i] * vectors).sum(axis=1) > 0\n",
    "\n",
    "        self.neighbors = np.empty((X.shape[0], k_neighbors * 2), dtype=np.int32)\n",
    "\n",
    "        for i in range(X.shape[0]):\n",
    "            dist = np.abs(hashes[i] - hashes).sum(axis=1)\n",
    "            neigh_args = np.argpartition(dist, k_neighbors + 1)[:(k_neighbors + 1)]\n",
    "            self.neighbors[i, :k_neighbors] = neigh_args[np.argsort(dist[neigh_args])][1:]\n",
    "            self.neighbors[i, k_neighbors:] = dist[self.neighbors[i, :k_neighbors]]\n",
    "        return self.neighbors\n",
    "    \n",
    "    def clear_mask(self, n_neighbors, threshold):\n",
    "        \"\"\"\n",
    "        Return mask for X transferred to fit, mask represent dataset with n_neighbors nearest\n",
    "        neighbors removed for every sample (not for already removed)\n",
    "        \"\"\"\n",
    "        res = np.ones(self.neighbors.shape[0], dtype=np.bool)\n",
    "        calc_neighbors = self.neighbors.shape[1] // 2\n",
    "        for i in range(self.neighbors.shape[0]):\n",
    "            \n",
    "            for j in range(n_neighbors):\n",
    "                \n",
    "                if (self.neighbors[i, j + calc_neighbors] < threshold) and self.neighbors[i, j] > i:\n",
    "                    res[self.neighbors[i, j]] = False\n",
    "        return res                    "
   ]
  },
  {
   "cell_type": "code",
   "execution_count": 29,
   "metadata": {},
   "outputs": [],
   "source": [
    "cln = LSH_cleaner(hash_size=512)\n",
    "k_neighbors = 2"
   ]
  },
  {
   "cell_type": "code",
   "execution_count": 30,
   "metadata": {
    "scrolled": false
   },
   "outputs": [
    {
     "name": "stdout",
     "output_type": "stream",
     "text": [
      "CPU times: user 1min 25s, sys: 29.5 s, total: 1min 55s\n",
      "Wall time: 1min 55s\n"
     ]
    }
   ],
   "source": [
    "%time dst = cln.fit(X_t_scaled, k_neighbors)"
   ]
  },
  {
   "cell_type": "markdown",
   "metadata": {},
   "source": [
    "Из графиков ниже видно, что ближайший сосед некоторых объектов значительно ближе, чем второй по дальности, также видно что в датасете нет объектов, далеко отстоящих от остальных"
   ]
  },
  {
   "cell_type": "code",
   "execution_count": 31,
   "metadata": {},
   "outputs": [
    {
     "data": {
      "image/png": "[encoded data removed]",
      "text/plain": [
       "<matplotlib.figure.Figure at 0x7f5132b470f0>"
      ]
     },
     "metadata": {},
     "output_type": "display_data"
    },
    {
     "data": {
      "image/png": "[encoded data removed]",
      "text/plain": [
       "<matplotlib.figure.Figure at 0x7f51329d4550>"
      ]
     },
     "metadata": {},
     "output_type": "display_data"
    },
    {
     "data": {
      "text/plain": [
       "<matplotlib.figure.Figure at 0x7f51329c1828>"
      ]
     },
     "metadata": {},
     "output_type": "display_data"
    }
   ],
   "source": [
    "args = np.unique(dst[:, k_neighbors])\n",
    "xlim = [np.min(args), np.max(args)]\n",
    "\n",
    "for i in range(2):\n",
    "    tmp = np.unique(dst[:, i + 2], return_counts=True)\n",
    "    plt.title('%d neighbor distance' % (i + 1))\n",
    "    plt.xlabel('Hamming distance')   \n",
    "    plt.ylabel('number of objects')\n",
    "    plt.xlim(xlim)\n",
    "    \n",
    "    plt.bar(tmp[0], tmp[1])\n",
    "    plt.figure()"
   ]
  },
  {
   "cell_type": "markdown",
   "metadata": {},
   "source": [
    "Уберем по 1 объекту из нескольких \"близких\" пар в обучающей выборке"
   ]
  },
  {
   "cell_type": "code",
   "execution_count": 39,
   "metadata": {},
   "outputs": [],
   "source": [
    "mask = cln.clear_mask(n_neighbors=1, threshold=214)\n",
    "X_t_scaled_cleaned = X_t_scaled[mask]\n",
    "y_t_cleaned = y_t[mask]"
   ]
  },
  {
   "cell_type": "code",
   "execution_count": 40,
   "metadata": {},
   "outputs": [
    {
     "data": {
      "text/plain": [
       "(549, 20514)"
      ]
     },
     "execution_count": 40,
     "metadata": {},
     "output_type": "execute_result"
    }
   ],
   "source": [
    "X_t_scaled_cleaned.shape"
   ]
  },
  {
   "cell_type": "markdown",
   "metadata": {},
   "source": [
    "    Тестирование svm"
   ]
  },
  {
   "cell_type": "code",
   "execution_count": 35,
   "metadata": {},
   "outputs": [],
   "source": [
    "from sklearn.svm import SVC\n",
    "from sklearn.metrics import roc_auc_score\n",
    "from sklearn.model_selection import cross_val_score"
   ]
  },
  {
   "cell_type": "markdown",
   "metadata": {},
   "source": [
    "Функция, рассчитывающая roc auc score для 2 случаев, я решил что roc auc score наиболее подходящая метрика для данной задачи бинарной классификации"
   ]
  },
  {
   "cell_type": "code",
   "execution_count": 36,
   "metadata": {},
   "outputs": [],
   "source": [
    "def scores(clf, X_t, y_t, X_v, y_v):\n",
    "    \"\"\"\n",
    "    Function that calculate cross_val_score for clf on X_t dataset,\n",
    "    and roc_auc_score for clf trained on X_t and used on X_v\n",
    "    \"\"\"\n",
    "    res = []\n",
    "    res.append(cross_val_score(clf, X_t, y_t, scoring='roc_auc').mean())\n",
    "    clf.fit(X_t, y_t)\n",
    "    res.append(roc_auc_score(y_v, clf.predict_proba(X_v)[:, 1]))\n",
    "    return tuple(res)"
   ]
  },
  {
   "cell_type": "markdown",
   "metadata": {},
   "source": [
    "Тестирование на очищенной и отшкалированной выборке"
   ]
  },
  {
   "cell_type": "code",
   "execution_count": 44,
   "metadata": {},
   "outputs": [],
   "source": [
    "clf_svm = SVC(probability=True, class_weight='balanced')"
   ]
  },
  {
   "cell_type": "code",
   "execution_count": 45,
   "metadata": {},
   "outputs": [
    {
     "name": "stdout",
     "output_type": "stream",
     "text": [
      "CPU times: user 1min 31s, sys: 189 ms, total: 1min 32s\n",
      "Wall time: 1min 32s\n"
     ]
    },
    {
     "data": {
      "text/plain": [
       "(0.60422427035330262, 0.61663879598662197)"
      ]
     },
     "execution_count": 45,
     "metadata": {},
     "output_type": "execute_result"
    }
   ],
   "source": [
    "%time scores(clf_svm, X_t_scaled_cleaned, y_t_cleaned, X_v_scaled, y_v)"
   ]
  },
  {
   "cell_type": "markdown",
   "metadata": {},
   "source": [
    "Отшкалированная и неочищенная выборка"
   ]
  },
  {
   "cell_type": "code",
   "execution_count": 46,
   "metadata": {},
   "outputs": [
    {
     "name": "stdout",
     "output_type": "stream",
     "text": [
      "CPU times: user 1min 38s, sys: 170 ms, total: 1min 39s\n",
      "Wall time: 1min 39s\n"
     ]
    },
    {
     "data": {
      "text/plain": [
       "(0.62818541733542832, 0.62541806020066892)"
      ]
     },
     "execution_count": 46,
     "metadata": {},
     "output_type": "execute_result"
    }
   ],
   "source": [
    "%time scores(clf_svm, X_t_scaled, y_t, X_v_scaled, y_v)"
   ]
  },
  {
   "cell_type": "markdown",
   "metadata": {},
   "source": [
    "Центрированая выборка"
   ]
  },
  {
   "cell_type": "code",
   "execution_count": 48,
   "metadata": {},
   "outputs": [],
   "source": [
    "X_t_centered = X_t - X_t.mean(axis=0)\n",
    "X_v_centered = X_v - X_v.mean(axis=0)"
   ]
  },
  {
   "cell_type": "code",
   "execution_count": 55,
   "metadata": {},
   "outputs": [
    {
     "name": "stdout",
     "output_type": "stream",
     "text": [
      "CPU times: user 1min 34s, sys: 143 ms, total: 1min 34s\n",
      "Wall time: 1min 34s\n"
     ]
    },
    {
     "data": {
      "text/plain": [
       "(0.66038612655129236, 0.625)"
      ]
     },
     "execution_count": 55,
     "metadata": {},
     "output_type": "execute_result"
    }
   ],
   "source": [
    "%time scores(clf_svm, X_t_centered, y_t, X_v_centered, y_v)"
   ]
  },
  {
   "cell_type": "markdown",
   "metadata": {},
   "source": [
    "Выборка без преобразований"
   ]
  },
  {
   "cell_type": "code",
   "execution_count": 56,
   "metadata": {},
   "outputs": [
    {
     "name": "stdout",
     "output_type": "stream",
     "text": [
      "CPU times: user 1min 34s, sys: 131 ms, total: 1min 34s\n",
      "Wall time: 1min 34s\n"
     ]
    },
    {
     "data": {
      "text/plain": [
       "(0.66038612655129236, 0.63664596273291918)"
      ]
     },
     "execution_count": 56,
     "metadata": {},
     "output_type": "execute_result"
    }
   ],
   "source": [
    "%time scores(clf_svm, X_t, y_t, X_v, y_v)"
   ]
  },
  {
   "cell_type": "markdown",
   "metadata": {},
   "source": [
    "Как видно, все мои попытки преобразовать данные приводят к ухудшению качества работы svm, возможно\n",
    "- Шкалирование не работает из-за потери точности\n",
    "- Центрирование не работает из-за того, что датасеты малы и средние по датасетам не соответствуют биологическим средним\n",
    "- \"Похожие\" объекты вносят весомый вклад в результат по отдельности, они не являются дубликатами, либо я использую не совсем подходящий хэш"
   ]
  },
  {
   "cell_type": "markdown",
   "metadata": {},
   "source": [
    "    Feature Selection"
   ]
  },
  {
   "cell_type": "code",
   "execution_count": 57,
   "metadata": {},
   "outputs": [],
   "source": [
    "from sklearn.ensemble import RandomForestClassifier"
   ]
  },
  {
   "cell_type": "code",
   "execution_count": 58,
   "metadata": {},
   "outputs": [],
   "source": [
    "clf = RandomForestClassifier(n_estimators=1500)"
   ]
  },
  {
   "cell_type": "code",
   "execution_count": 59,
   "metadata": {
    "scrolled": true
   },
   "outputs": [
    {
     "name": "stdout",
     "output_type": "stream",
     "text": [
      "CPU times: user 2min 4s, sys: 35.2 ms, total: 2min 4s\n",
      "Wall time: 2min 4s\n"
     ]
    },
    {
     "data": {
      "text/plain": [
       "RandomForestClassifier(bootstrap=True, class_weight=None, criterion='gini',\n",
       "            max_depth=None, max_features='auto', max_leaf_nodes=None,\n",
       "            min_impurity_decrease=0.0, min_impurity_split=None,\n",
       "            min_samples_leaf=1, min_samples_split=2,\n",
       "            min_weight_fraction_leaf=0.0, n_estimators=1500, n_jobs=1,\n",
       "            oob_score=False, random_state=None, verbose=0,\n",
       "            warm_start=False)"
      ]
     },
     "execution_count": 59,
     "metadata": {},
     "output_type": "execute_result"
    }
   ],
   "source": [
    "%time clf_f.fit(X_t, y_t)"
   ]
  },
  {
   "cell_type": "code",
   "execution_count": 60,
   "metadata": {},
   "outputs": [],
   "source": [
    "train_imp = np.copy(clf_f.feature_importances_)"
   ]
  },
  {
   "cell_type": "markdown",
   "metadata": {},
   "source": [
    "Из графика ниже понятно, что целевая переменная в train датасете существенно зависит от числа фичей, значительно меньшего размерности датасета"
   ]
  },
  {
   "cell_type": "code",
   "execution_count": 64,
   "metadata": {
    "scrolled": true
   },
   "outputs": [
    {
     "data": {
      "text/plain": [
       "[<matplotlib.lines.Line2D at 0x7f510a69e208>]"
      ]
     },
     "execution_count": 64,
     "metadata": {},
     "output_type": "execute_result"
    },
    {
     "data": {
      "image/png": "[encoded data removed]",
      "text/plain": [
       "<matplotlib.figure.Figure at 0x7f5111d99a20>"
      ]
     },
     "metadata": {},
     "output_type": "display_data"
    }
   ],
   "source": [
    "plt.plot(np.arange(train_imp.size), np.sort(train_imp))"
   ]
  },
  {
   "cell_type": "code",
   "execution_count": 62,
   "metadata": {},
   "outputs": [
    {
     "data": {
      "text/plain": [
       "16928"
      ]
     },
     "execution_count": 62,
     "metadata": {},
     "output_type": "execute_result"
    }
   ],
   "source": [
    "(train_imp != 0).sum()"
   ]
  },
  {
   "cell_type": "code",
   "execution_count": 63,
   "metadata": {},
   "outputs": [
    {
     "data": {
      "text/plain": [
       "693"
      ]
     },
     "execution_count": 63,
     "metadata": {},
     "output_type": "execute_result"
    }
   ],
   "source": [
    "mask_train = train_imp > 0.0002\n",
    "mask_train.sum()"
   ]
  },
  {
   "cell_type": "markdown",
   "metadata": {},
   "source": [
    "В этом месте я эксперементировал с количеством топ фичей, и заметил, что число фичей обратно пропорционально среднему roc auc кросс валидации на обучающей выборке (меньше фичей давало лучший результат), и прямо пропорционально roc auc на валидационной. После этого я решил сделать возможно не совсем корректную вещь, а именно посчитать feature importance на валидационной выборке"
   ]
  },
  {
   "cell_type": "code",
   "execution_count": 65,
   "metadata": {
    "scrolled": true
   },
   "outputs": [
    {
     "name": "stdout",
     "output_type": "stream",
     "text": [
      "CPU times: user 26.1 s, sys: 19.8 ms, total: 26.1 s\n",
      "Wall time: 26.1 s\n"
     ]
    },
    {
     "data": {
      "text/plain": [
       "RandomForestClassifier(bootstrap=True, class_weight=None, criterion='gini',\n",
       "            max_depth=None, max_features='auto', max_leaf_nodes=None,\n",
       "            min_impurity_decrease=0.0, min_impurity_split=None,\n",
       "            min_samples_leaf=1, min_samples_split=2,\n",
       "            min_weight_fraction_leaf=0.0, n_estimators=1500, n_jobs=1,\n",
       "            oob_score=False, random_state=None, verbose=0,\n",
       "            warm_start=False)"
      ]
     },
     "execution_count": 65,
     "metadata": {},
     "output_type": "execute_result"
    }
   ],
   "source": [
    "%time clf_f.fit(X_v, y_v)"
   ]
  },
  {
   "cell_type": "code",
   "execution_count": 66,
   "metadata": {},
   "outputs": [],
   "source": [
    "validate_imp = np.copy(clf.feature_importances_)"
   ]
  },
  {
   "cell_type": "code",
   "execution_count": 67,
   "metadata": {},
   "outputs": [
    {
     "data": {
      "text/plain": [
       "[<matplotlib.lines.Line2D at 0x7f510a687048>]"
      ]
     },
     "execution_count": 67,
     "metadata": {},
     "output_type": "execute_result"
    },
    {
     "data": {
      "image/png": "[encoded data removed]",
      "text/plain": [
       "<matplotlib.figure.Figure at 0x7f5111d05518>"
      ]
     },
     "metadata": {},
     "output_type": "display_data"
    }
   ],
   "source": [
    "plt.plot(np.arange(validate_imp.size), np.sort(validate_imp))"
   ]
  },
  {
   "cell_type": "code",
   "execution_count": 68,
   "metadata": {},
   "outputs": [
    {
     "data": {
      "text/plain": [
       "605"
      ]
     },
     "execution_count": 68,
     "metadata": {},
     "output_type": "execute_result"
    }
   ],
   "source": [
    "mask_validate = validate_imp > 0.0002\n",
    "mask_validate.sum()"
   ]
  },
  {
   "cell_type": "markdown",
   "metadata": {},
   "source": [
    "Из числа ниже видно что топ фичи для обучающей и валидационной выборки слабо пересекаются, т. е. группы риска в тренировочном и валидационном датасетах связаны в значительной степени с разными генами"
   ]
  },
  {
   "cell_type": "code",
   "execution_count": 69,
   "metadata": {},
   "outputs": [
    {
     "data": {
      "text/plain": [
       "43"
      ]
     },
     "execution_count": 69,
     "metadata": {},
     "output_type": "execute_result"
    }
   ],
   "source": [
    "np.logical_and(mask_train, mask_validate).sum()"
   ]
  },
  {
   "cell_type": "code",
   "execution_count": 70,
   "metadata": {},
   "outputs": [
    {
     "data": {
      "text/plain": [
       "1255"
      ]
     },
     "execution_count": 70,
     "metadata": {},
     "output_type": "execute_result"
    }
   ],
   "source": [
    "np.logical_or(mask_train, mask_validate).sum()"
   ]
  },
  {
   "cell_type": "markdown",
   "metadata": {},
   "source": [
    " Тут я соединил датасеты для нахождения общих топ фичей, возможно используя далее общие топ фичи я переобучил модель, финальную модель я обучал в 2 видах: на полном датасете и с выделенными фичами"
   ]
  },
  {
   "cell_type": "code",
   "execution_count": 71,
   "metadata": {},
   "outputs": [],
   "source": [
    "X_ = np.concatenate((X_t, X_v), axis=0)\n",
    "y_ = np.concatenate((y_t, y_v), axis=0)"
   ]
  },
  {
   "cell_type": "code",
   "execution_count": 73,
   "metadata": {
    "scrolled": true
   },
   "outputs": [
    {
     "name": "stdout",
     "output_type": "stream",
     "text": [
      "CPU times: user 3min 3s, sys: 108 ms, total: 3min 3s\n",
      "Wall time: 3min 3s\n"
     ]
    },
    {
     "data": {
      "text/plain": [
       "RandomForestClassifier(bootstrap=True, class_weight=None, criterion='gini',\n",
       "            max_depth=None, max_features='auto', max_leaf_nodes=None,\n",
       "            min_impurity_decrease=0.0, min_impurity_split=None,\n",
       "            min_samples_leaf=1, min_samples_split=2,\n",
       "            min_weight_fraction_leaf=0.0, n_estimators=1500, n_jobs=1,\n",
       "            oob_score=False, random_state=None, verbose=0,\n",
       "            warm_start=False)"
      ]
     },
     "execution_count": 73,
     "metadata": {},
     "output_type": "execute_result"
    }
   ],
   "source": [
    "%time clf_f.fit(X_, y_)"
   ]
  },
  {
   "cell_type": "markdown",
   "metadata": {},
   "source": [
    "Поиск оптимальных фичей"
   ]
  },
  {
   "cell_type": "code",
   "execution_count": 75,
   "metadata": {},
   "outputs": [],
   "source": [
    "def optimal_features(clf, X_t, y_t, X_v, y_v, imp, sizes):\n",
    "    \"\"\"\n",
    "    Function for founding optimal top features number,\n",
    "    it optimise sum of two scores\n",
    "    \"\"\"\n",
    "    imp_ind = np.argsort(imp)\n",
    "    \n",
    "    scores = np.empty((2, sizes.size))\n",
    "    \n",
    "    for i, size in enumerate(sizes):\n",
    "        features = imp_ind[-1 * size:]\n",
    "        \n",
    "        scores[0, i] = cross_val_score(clf, X_t[:, features], y_t, scoring='roc_auc').mean()\n",
    "        \n",
    "        clf.fit(X_t[:, features], y_t)\n",
    "        probas = clf.predict_proba(X_v[:, features])\n",
    "        scores[1, i] = roc_auc_score(y_v, probas[:, 1])\n",
    "    \n",
    "    opt_ind = np.argmax(scores.sum(axis=0))\n",
    "    return (imp_ind[-1 * sizes[opt_ind]:],\n",
    "            tuple(scores[:, opt_ind]),\n",
    "            sizes[opt_ind]\n",
    "            )"
   ]
  },
  {
   "cell_type": "markdown",
   "metadata": {},
   "source": [
    "Небольшим ручным перебором подобрался локальный минимум (глобальный не успел подобрать)"
   ]
  },
  {
   "cell_type": "code",
   "execution_count": 82,
   "metadata": {},
   "outputs": [],
   "source": [
    "sizes = np.array([270, 265, 255, 250, 245], dtype=np.int64)"
   ]
  },
  {
   "cell_type": "code",
   "execution_count": 83,
   "metadata": {},
   "outputs": [
    {
     "name": "stdout",
     "output_type": "stream",
     "text": [
      "CPU times: user 6.14 s, sys: 24.1 ms, total: 6.16 s\n",
      "Wall time: 6.16 s\n"
     ]
    }
   ],
   "source": [
    "%time tmp = optimal_features(clf_svm, X_t, y_t, X_v, y_v, clf.feature_importances_, sizes)"
   ]
  },
  {
   "cell_type": "code",
   "execution_count": 84,
   "metadata": {},
   "outputs": [
    {
     "name": "stdout",
     "output_type": "stream",
     "text": [
      "(0.70908811885091261, 0.69457716196846631)\n",
      "255\n"
     ]
    }
   ],
   "source": [
    "print(tmp[1], tmp[2], sep='\\n')"
   ]
  },
  {
   "cell_type": "code",
   "execution_count": 85,
   "metadata": {},
   "outputs": [],
   "source": [
    "features_svm = tmp[0]"
   ]
  },
  {
   "cell_type": "code",
   "execution_count": 87,
   "metadata": {},
   "outputs": [],
   "source": [
    "from sklearn.ensemble import GradientBoostingClassifier"
   ]
  },
  {
   "cell_type": "markdown",
   "metadata": {},
   "source": [
    "Тестирование и подборка параметров для градиентного бустинга"
   ]
  },
  {
   "cell_type": "code",
   "execution_count": 88,
   "metadata": {},
   "outputs": [],
   "source": [
    "clf_boost = GradientBoostingClassifier(n_estimators=300)"
   ]
  },
  {
   "cell_type": "code",
   "execution_count": 89,
   "metadata": {},
   "outputs": [],
   "source": [
    "sizes = np.array([270, 265, 255, 250, 245], dtype=np.int64)"
   ]
  },
  {
   "cell_type": "code",
   "execution_count": 90,
   "metadata": {},
   "outputs": [
    {
     "name": "stdout",
     "output_type": "stream",
     "text": [
      "CPU times: user 55.1 s, sys: 67.7 ms, total: 55.2 s\n",
      "Wall time: 55.2 s\n"
     ]
    }
   ],
   "source": [
    "%time tmp = optimal_features(clf_boost, X_t, y_t, X_v, y_v, clf.feature_importances_, sizes)"
   ]
  },
  {
   "cell_type": "code",
   "execution_count": 91,
   "metadata": {
    "scrolled": true
   },
   "outputs": [
    {
     "name": "stdout",
     "output_type": "stream",
     "text": [
      "(0.75883272229637255, 0.72784280936454848)\n",
      "265\n"
     ]
    }
   ],
   "source": [
    "print(tmp[1], tmp[2], sep='\\n')"
   ]
  },
  {
   "cell_type": "code",
   "execution_count": 93,
   "metadata": {},
   "outputs": [],
   "source": [
    "features_boost = tmp[0]"
   ]
  },
  {
   "cell_type": "markdown",
   "metadata": {},
   "source": [
    "Тестирование Naive Bayes с мультиномиальным распределением"
   ]
  },
  {
   "cell_type": "code",
   "execution_count": 94,
   "metadata": {},
   "outputs": [],
   "source": [
    "from sklearn.naive_bayes import MultinomialNB\n",
    "clf_nb = MultinomialNB()"
   ]
  },
  {
   "cell_type": "code",
   "execution_count": 98,
   "metadata": {},
   "outputs": [
    {
     "name": "stdout",
     "output_type": "stream",
     "text": [
      "(0.70595728185229623, 0.68597706641184908)\n",
      "280\n"
     ]
    }
   ],
   "source": [
    "sizes = np.array([285, 280, 275, 270, 265], dtype=np.int64)\n",
    "tmp = optimal_features(clf_nb, X_t, y_t, X_v, y_v, clf.feature_importances_, sizes)\n",
    "print(tmp[1], tmp[2], sep='\\n')"
   ]
  },
  {
   "cell_type": "code",
   "execution_count": 99,
   "metadata": {},
   "outputs": [],
   "source": [
    "features_nb = tmp[0]"
   ]
  },
  {
   "cell_type": "markdown",
   "metadata": {},
   "source": [
    "Для упрощения построения ансамбля алгоритмов я буду оптимизировать алгоритмы с общими фичами"
   ]
  },
  {
   "cell_type": "code",
   "execution_count": 100,
   "metadata": {},
   "outputs": [],
   "source": [
    "features = features_boost"
   ]
  },
  {
   "cell_type": "markdown",
   "metadata": {},
   "source": [
    "    Аннотации"
   ]
  },
  {
   "cell_type": "markdown",
   "metadata": {},
   "source": [
    "- Пол"
   ]
  },
  {
   "cell_type": "code",
   "execution_count": 101,
   "metadata": {},
   "outputs": [],
   "source": [
    "gender_t = preprocessing.LabelEncoder().fit_transform(annotation_train.iloc[:, 2])[mask_cens_t]"
   ]
  },
  {
   "cell_type": "code",
   "execution_count": 102,
   "metadata": {},
   "outputs": [],
   "source": [
    "X_t_male = X_t[gender_t == 1][:, features]\n",
    "y_t_male = y_t[gender_t == 1]\n",
    "X_t_female = X_t[gender_t == 0][:, features]\n",
    "y_t_female = y_t[gender_t == 0]\n",
    "X_t_ext = np.concatenate((X_t[:, features], np.vstack(gender_t)), axis=1)"
   ]
  },
  {
   "cell_type": "markdown",
   "metadata": {},
   "source": [
    "В валидационной выборке есть пропуски в поле \"D_gender\""
   ]
  },
  {
   "cell_type": "code",
   "execution_count": 103,
   "metadata": {},
   "outputs": [],
   "source": [
    "na_gender_mask = np.array(annotation_validate.iloc[:, 2].notna())[mask_cens_v]\n",
    "tmp_mask = np.logical_and(np.array(annotation_validate.iloc[:, 2].notna()), mask_cens_v)\n",
    "gender_v = preprocessing.LabelEncoder().fit_transform(annotation_validate.iloc[:, 2][tmp_mask])"
   ]
  },
  {
   "cell_type": "code",
   "execution_count": 104,
   "metadata": {
    "scrolled": true
   },
   "outputs": [],
   "source": [
    "X_v_male = X_v[na_gender_mask][gender_v == 1][:, features]\n",
    "y_v_male = y_v[na_gender_mask][gender_v == 1]\n",
    "X_v_female = X_v[na_gender_mask][gender_v == 0][:, features]\n",
    "y_v_female = y_v[na_gender_mask][gender_v == 0]\n",
    "X_v_ext = np.concatenate((X_v[na_gender_mask][:, features], np.vstack(gender_v)), axis=1)\n",
    "y_v_ext = y_v[na_gender_mask]"
   ]
  },
  {
   "cell_type": "markdown",
   "metadata": {},
   "source": [
    "svm, достаточно странные значения roc_auc"
   ]
  },
  {
   "cell_type": "code",
   "execution_count": 105,
   "metadata": {
    "scrolled": true
   },
   "outputs": [
    {
     "data": {
      "text/plain": [
       "(0.70725810539120448, 0.68729096989966554)"
      ]
     },
     "execution_count": 105,
     "metadata": {},
     "output_type": "execute_result"
    }
   ],
   "source": [
    "scores(clf_svm, X_t[:, features], y_t, X_v[:, features], y_v)"
   ]
  },
  {
   "cell_type": "code",
   "execution_count": 106,
   "metadata": {},
   "outputs": [
    {
     "data": {
      "text/plain": [
       "(0.7322120486865894, 0.58139534883720934)"
      ]
     },
     "execution_count": 106,
     "metadata": {},
     "output_type": "execute_result"
    }
   ],
   "source": [
    "scores(clf_svm, X_t_male, y_t_male, X_v_male, y_v_male)"
   ]
  },
  {
   "cell_type": "code",
   "execution_count": 107,
   "metadata": {},
   "outputs": [
    {
     "data": {
      "text/plain": [
       "(0.61903792145727632, 0.77025300281114228)"
      ]
     },
     "execution_count": 107,
     "metadata": {},
     "output_type": "execute_result"
    }
   ],
   "source": [
    "scores(clf_svm, X_t_female, y_t_female, X_v_female, y_v_female)"
   ]
  },
  {
   "cell_type": "markdown",
   "metadata": {},
   "source": [
    "Бустинг"
   ]
  },
  {
   "cell_type": "code",
   "execution_count": 108,
   "metadata": {
    "scrolled": true
   },
   "outputs": [
    {
     "data": {
      "text/plain": [
       "(0.74791665493400616, 0.71924271380793114)"
      ]
     },
     "execution_count": 108,
     "metadata": {},
     "output_type": "execute_result"
    }
   ],
   "source": [
    "scores(clf_boost, X_t[:, features], y_t, X_v[:, features], y_v)"
   ]
  },
  {
   "cell_type": "code",
   "execution_count": 109,
   "metadata": {},
   "outputs": [
    {
     "data": {
      "text/plain": [
       "(0.7527265764472002, 0.70748428870691293)"
      ]
     },
     "execution_count": 109,
     "metadata": {},
     "output_type": "execute_result"
    }
   ],
   "source": [
    "scores(clf_boost, X_t_ext, y_t, X_v_ext, y_v_ext)"
   ]
  },
  {
   "cell_type": "markdown",
   "metadata": {},
   "source": [
    "Naive Bayes"
   ]
  },
  {
   "cell_type": "code",
   "execution_count": 110,
   "metadata": {},
   "outputs": [
    {
     "data": {
      "text/plain": [
       "(0.70465580128439775, 0.68555900621118016)"
      ]
     },
     "execution_count": 110,
     "metadata": {},
     "output_type": "execute_result"
    }
   ],
   "source": [
    "scores(clf_nb, X_t[:, features], y_t, X_v[:, features], y_v)"
   ]
  },
  {
   "cell_type": "code",
   "execution_count": 111,
   "metadata": {},
   "outputs": [
    {
     "data": {
      "text/plain": [
       "(0.7444684754578702, 0.63751263902932254)"
      ]
     },
     "execution_count": 111,
     "metadata": {},
     "output_type": "execute_result"
    }
   ],
   "source": [
    "scores(clf_nb, X_t_male, y_t_male, X_v_male, y_v_male)"
   ]
  },
  {
   "cell_type": "code",
   "execution_count": 112,
   "metadata": {
    "scrolled": true
   },
   "outputs": [
    {
     "data": {
      "text/plain": [
       "(0.64872030597837049, 0.74495272169690774)"
      ]
     },
     "execution_count": 112,
     "metadata": {},
     "output_type": "execute_result"
    }
   ],
   "source": [
    "scores(clf_nb, X_t_female, y_t_female, X_v_female, y_v_female)"
   ]
  },
  {
   "cell_type": "markdown",
   "metadata": {},
   "source": [
    "- Возраст"
   ]
  },
  {
   "cell_type": "code",
   "execution_count": 113,
   "metadata": {},
   "outputs": [],
   "source": [
    "age_t = annotation_train.iloc[:, 1][mask_cens_t]"
   ]
  },
  {
   "cell_type": "code",
   "execution_count": 114,
   "metadata": {},
   "outputs": [],
   "source": [
    "X_t_ext = np.concatenate((X_t[:, features], np.vstack(np.array(age_t))), axis=1)"
   ]
  },
  {
   "cell_type": "markdown",
   "metadata": {},
   "source": [
    "В валидационной выборке возраста нет - для тестирования можно заполнить средним по обучающей"
   ]
  },
  {
   "cell_type": "code",
   "execution_count": 115,
   "metadata": {},
   "outputs": [],
   "source": [
    "X_v_ext = np.concatenate((X_v[:, features], np.vstack(np.repeat(age_t.mean(), X_v.shape[0]))), axis=1)"
   ]
  },
  {
   "cell_type": "code",
   "execution_count": 116,
   "metadata": {},
   "outputs": [
    {
     "data": {
      "text/plain": [
       "(0.70725810539120448, 0.68729096989966554)"
      ]
     },
     "execution_count": 116,
     "metadata": {},
     "output_type": "execute_result"
    }
   ],
   "source": [
    "scores(clf_svm, X_t[:, features], y_t, X_v[:, features], y_v)"
   ]
  },
  {
   "cell_type": "code",
   "execution_count": 117,
   "metadata": {},
   "outputs": [
    {
     "data": {
      "text/plain": [
       "(0.72522493856778947, 0.67940754897276634)"
      ]
     },
     "execution_count": 117,
     "metadata": {},
     "output_type": "execute_result"
    }
   ],
   "source": [
    "scores(clf_svm, X_t_ext, y_t, X_v_ext, y_v)"
   ]
  },
  {
   "cell_type": "code",
   "execution_count": 118,
   "metadata": {},
   "outputs": [
    {
     "data": {
      "text/plain": [
       "(0.75653021113157293, 0.71040372670807461)"
      ]
     },
     "execution_count": 118,
     "metadata": {},
     "output_type": "execute_result"
    }
   ],
   "source": [
    "scores(clf_boost, X_t[:, features], y_t, X_v[:, features], y_v)"
   ]
  },
  {
   "cell_type": "code",
   "execution_count": 119,
   "metadata": {},
   "outputs": [
    {
     "data": {
      "text/plain": [
       "(0.75438491761795079, 0.70938843764930715)"
      ]
     },
     "execution_count": 119,
     "metadata": {},
     "output_type": "execute_result"
    }
   ],
   "source": [
    "scores(clf_boost, X_t_ext, y_t, X_v_ext, y_v)"
   ]
  },
  {
   "cell_type": "code",
   "execution_count": 120,
   "metadata": {},
   "outputs": [
    {
     "data": {
      "text/plain": [
       "(0.70465580128439775, 0.68555900621118016)"
      ]
     },
     "execution_count": 120,
     "metadata": {},
     "output_type": "execute_result"
    }
   ],
   "source": [
    "scores(clf_nb, X_t[:, features], y_t, X_v[:, features], y_v)"
   ]
  },
  {
   "cell_type": "code",
   "execution_count": 121,
   "metadata": {},
   "outputs": [
    {
     "data": {
      "text/plain": [
       "(0.70505471174260992, 0.68747013855709505)"
      ]
     },
     "execution_count": 121,
     "metadata": {},
     "output_type": "execute_result"
    }
   ],
   "source": [
    "scores(clf_nb, X_t_ext, y_t, X_v_ext, y_v)"
   ]
  },
  {
   "cell_type": "code",
   "execution_count": 122,
   "metadata": {},
   "outputs": [],
   "source": [
    "X_t_age = np.copy(X_t_ext)\n",
    "X_v_age = np.copy(X_v_ext)"
   ]
  },
  {
   "cell_type": "markdown",
   "metadata": {},
   "source": [
    "- стадия заболевания (D_ISS)"
   ]
  },
  {
   "cell_type": "code",
   "execution_count": 123,
   "metadata": {},
   "outputs": [],
   "source": [
    "d_iss_t = np.array(annotation_train.iloc[:, 3][mask_cens_t], dtype=np.int64)\n",
    "d_iss_v = np.array(annotation_validate.iloc[:, 3][mask_cens_v], dtype=np.int64)"
   ]
  },
  {
   "cell_type": "code",
   "execution_count": 124,
   "metadata": {},
   "outputs": [],
   "source": [
    "X_t_ext = np.concatenate((X_t[:, features], np.vstack(d_iss_t)), axis=1)\n",
    "X_v_ext = np.concatenate((X_v[:, features], np.vstack(d_iss_v)), axis=1)"
   ]
  },
  {
   "cell_type": "code",
   "execution_count": 125,
   "metadata": {},
   "outputs": [
    {
     "data": {
      "text/plain": [
       "(0.75887345809375228, 0.72013855709507879)"
      ]
     },
     "execution_count": 125,
     "metadata": {},
     "output_type": "execute_result"
    }
   ],
   "source": [
    "scores(clf_boost, X_t[:, features], y_t, X_v[:, features], y_v)"
   ]
  },
  {
   "cell_type": "code",
   "execution_count": 126,
   "metadata": {},
   "outputs": [
    {
     "data": {
      "text/plain": [
       "(0.75699388587594163, 0.72264691829909222)"
      ]
     },
     "execution_count": 126,
     "metadata": {},
     "output_type": "execute_result"
    }
   ],
   "source": [
    "scores(clf_boost, X_t_ext, y_t, X_v_ext, y_v)"
   ]
  },
  {
   "cell_type": "code",
   "execution_count": 127,
   "metadata": {},
   "outputs": [
    {
     "data": {
      "text/plain": [
       "(0.70725810539120448, 0.68729096989966554)"
      ]
     },
     "execution_count": 127,
     "metadata": {},
     "output_type": "execute_result"
    }
   ],
   "source": [
    "scores(clf_svm, X_t[:, features], y_t, X_v[:, features], y_v)"
   ]
  },
  {
   "cell_type": "code",
   "execution_count": 129,
   "metadata": {},
   "outputs": [
    {
     "name": "stdout",
     "output_type": "stream",
     "text": [
      "(0.72590275413309124, 0.66925465838509313)\n",
      "(0.77834757834757839, 0.69332298136645965)\n",
      "(0.56980146290491118, 0.67689918776875302)\n"
     ]
    }
   ],
   "source": [
    "for i in range(1, 4):\n",
    "    mask = X_t_ext[:, -1] == i\n",
    "    print(scores(clf_svm, X_t_ext[mask], y_t[mask], X_v_ext, y_v))"
   ]
  },
  {
   "cell_type": "code",
   "execution_count": 130,
   "metadata": {},
   "outputs": [
    {
     "data": {
      "text/plain": [
       "(0.70465580128439775, 0.68555900621118016)"
      ]
     },
     "execution_count": 130,
     "metadata": {},
     "output_type": "execute_result"
    }
   ],
   "source": [
    "scores(clf_nb, X_t[:, features], y_t, X_v[:, features], y_v)"
   ]
  },
  {
   "cell_type": "code",
   "execution_count": 131,
   "metadata": {},
   "outputs": [
    {
     "name": "stdout",
     "output_type": "stream",
     "text": [
      "(0.69546967805394766, 0.6209985666507406)\n",
      "(0.74328110161443484, 0.6746894409937888)\n",
      "(0.5845350052246604, 0.67797419971333006)\n"
     ]
    }
   ],
   "source": [
    "for i in range(1, 4):\n",
    "    mask = X_t_ext[:, -1] == i\n",
    "    print(scores(clf_nb, X_t_ext[mask], y_t[mask], X_v_ext, y_v))"
   ]
  },
  {
   "cell_type": "markdown",
   "metadata": {},
   "source": [
    "Исходя из полученных значений roc-auc, имеет смысл использовать возраст в качестве дополнительного признака"
   ]
  },
  {
   "cell_type": "markdown",
   "metadata": {},
   "source": [
    "    Подбор гиперпараметров"
   ]
  },
  {
   "cell_type": "code",
   "execution_count": 132,
   "metadata": {},
   "outputs": [],
   "source": [
    "def optimal_parameter(clf_class, X_t, y_t, X_v, y_v, param, fix_params=''):\n",
    "    \"\"\"\n",
    "    Function for hyperparameter selection based on two scores,\n",
    "    only one parameter selection is available.\n",
    "    \n",
    "    parameters:\n",
    "        \n",
    "        clf_class - sklearn-like ML class (not instance, class object!)\n",
    "        \n",
    "        param - dict with one key, representing parameter to\n",
    "        select and selection list\n",
    "        \n",
    "        fix_params - string with fixed parameters of clf_class\n",
    "    \"\"\"\n",
    "    assert len(param) == 1, \"Selection of one parameter is available\"\n",
    "    \n",
    "    pr = list(param.items())[0]\n",
    "    scores = np.empty((2, len(pr[1])))\n",
    "    \n",
    "    for i, value in enumerate(pr[1]):\n",
    "        clf = eval('clf_class(%s, %s)' % (pr[0] + ('=' + str(value)), fix_params))\n",
    "        scores[0, i] = cross_val_score(clf, X_t, y_t, scoring='roc_auc').mean()\n",
    "        \n",
    "        clf.fit(X_t, y_t)\n",
    "        scores[1, i] = roc_auc_score(y_v, clf.predict_proba(X_v)[:, 1])\n",
    "    \n",
    "    opt_ind = np.argmax(scores.sum(axis=0))\n",
    "    return (\n",
    "            eval('clf_class(%s, %s)' % ((pr[0] + ('=%f' % pr[1][opt_ind])), fix_params)),\n",
    "            tuple(scores[:, opt_ind]),\n",
    "            pr[1][opt_ind]\n",
    "            )"
   ]
  },
  {
   "cell_type": "code",
   "execution_count": 133,
   "metadata": {},
   "outputs": [],
   "source": [
    "param = {\n",
    "    \"C\": np.arange(1, 1000) * 0.001\n",
    "}"
   ]
  },
  {
   "cell_type": "code",
   "execution_count": 134,
   "metadata": {},
   "outputs": [
    {
     "name": "stdout",
     "output_type": "stream",
     "text": [
      "CPU times: user 20min 43s, sys: 353 ms, total: 20min 44s\n",
      "Wall time: 20min 44s\n"
     ]
    }
   ],
   "source": [
    "%time tmp = optimal_parameter(SVC, X_t_age, y_t, X_v_age, y_v, param, 'probability=True, class_weight=\"balanced\"')"
   ]
  },
  {
   "cell_type": "code",
   "execution_count": 135,
   "metadata": {},
   "outputs": [
    {
     "name": "stdout",
     "output_type": "stream",
     "text": [
      "(0.7296230906268244, 0.68597706641184897)\n",
      "0.334\n"
     ]
    }
   ],
   "source": [
    "print(tmp[1], tmp[2], sep='\\n')"
   ]
  },
  {
   "cell_type": "code",
   "execution_count": 137,
   "metadata": {},
   "outputs": [],
   "source": [
    "svm_param = tmp[2]"
   ]
  },
  {
   "cell_type": "code",
   "execution_count": 136,
   "metadata": {},
   "outputs": [],
   "source": [
    "param = {\n",
    "    \"alpha\": np.arange(1, 1000) * 0.001\n",
    "}"
   ]
  },
  {
   "cell_type": "code",
   "execution_count": 138,
   "metadata": {},
   "outputs": [
    {
     "name": "stdout",
     "output_type": "stream",
     "text": [
      "CPU times: user 27.6 s, sys: 1.01 s, total: 28.6 s\n",
      "Wall time: 14.3 s\n"
     ]
    }
   ],
   "source": [
    "%time tmp = optimal_parameter(MultinomialNB, X_t_age, y_t, X_v_age, y_v, param, '')"
   ]
  },
  {
   "cell_type": "code",
   "execution_count": 139,
   "metadata": {},
   "outputs": [
    {
     "name": "stdout",
     "output_type": "stream",
     "text": [
      "(0.70542499450911489, 0.68764930721452466)\n",
      "0.001\n"
     ]
    }
   ],
   "source": [
    "print(tmp[1], tmp[2], sep='\\n')"
   ]
  },
  {
   "cell_type": "code",
   "execution_count": 140,
   "metadata": {},
   "outputs": [],
   "source": [
    "nb_param = tmp[2]"
   ]
  },
  {
   "cell_type": "code",
   "execution_count": 141,
   "metadata": {},
   "outputs": [],
   "source": [
    "param = {\n",
    "    \"n_estimators\": np.int64(np.arange(725, 735))\n",
    "}"
   ]
  },
  {
   "cell_type": "code",
   "execution_count": 142,
   "metadata": {},
   "outputs": [
    {
     "name": "stdout",
     "output_type": "stream",
     "text": [
      "CPU times: user 4min 21s, sys: 23.8 ms, total: 4min 21s\n",
      "Wall time: 4min 21s\n"
     ]
    }
   ],
   "source": [
    "%time tmp = optimal_parameter(GradientBoostingClassifier, X_t_age, y_t, X_v_age, y_v, param, '')"
   ]
  },
  {
   "cell_type": "code",
   "execution_count": 143,
   "metadata": {},
   "outputs": [
    {
     "name": "stdout",
     "output_type": "stream",
     "text": [
      "(0.75405771718093251, 0.71297181079789784)\n",
      "725\n"
     ]
    }
   ],
   "source": [
    "print(tmp[1], tmp[2], sep='\\n')"
   ]
  },
  {
   "cell_type": "code",
   "execution_count": 144,
   "metadata": {},
   "outputs": [],
   "source": [
    "boost_param = tmp[2]"
   ]
  },
  {
   "cell_type": "code",
   "execution_count": 145,
   "metadata": {},
   "outputs": [],
   "source": [
    "clf_svm = SVC(C=svm_param, probability=True, class_weight='balanced')\n",
    "clf_nb = MultinomialNB(alpha=nb_param)\n",
    "clf_boost = GradientBoostingClassifier(n_estimators=boost_param)"
   ]
  },
  {
   "cell_type": "markdown",
   "metadata": {},
   "source": [
    "    VotingClassifier от svm, Naive Bayes, Gradient Boosting"
   ]
  },
  {
   "cell_type": "code",
   "execution_count": 146,
   "metadata": {},
   "outputs": [],
   "source": [
    "from sklearn.ensemble import VotingClassifier"
   ]
  },
  {
   "cell_type": "code",
   "execution_count": 157,
   "metadata": {},
   "outputs": [],
   "source": [
    "estimators = [\n",
    "    ('svm', clf_svm),\n",
    "    ('nb', clf_nb),\n",
    "    ('boost', clf_boost)\n",
    "]\n",
    "clf_vote = VotingClassifier(estimators, voting='soft', n_jobs=3)"
   ]
  },
  {
   "cell_type": "code",
   "execution_count": 158,
   "metadata": {},
   "outputs": [
    {
     "name": "stdout",
     "output_type": "stream",
     "text": [
      "CPU times: user 1.08 s, sys: 340 ms, total: 1.42 s\n",
      "Wall time: 28 s\n"
     ]
    },
    {
     "data": {
      "text/plain": [
       "(0.74321946082323853, 0.7004897276636407)"
      ]
     },
     "execution_count": 158,
     "metadata": {},
     "output_type": "execute_result"
    }
   ],
   "source": [
    "%time scores(clf_vote, X_t_age, y_t, X_v_age, y_v)"
   ]
  },
  {
   "cell_type": "code",
   "execution_count": 159,
   "metadata": {},
   "outputs": [],
   "source": [
    "from sklearn.metrics import roc_curve, auc"
   ]
  },
  {
   "cell_type": "markdown",
   "metadata": {},
   "source": [
    "RОС кривая на валидационной выборке при обучении на датасете с возрастом"
   ]
  },
  {
   "cell_type": "code",
   "execution_count": 165,
   "metadata": {},
   "outputs": [
    {
     "data": {
      "image/png": "[encoded data removed]",
      "text/plain": [
       "<matplotlib.figure.Figure at 0x7f510a636da0>"
      ]
     },
     "metadata": {},
     "output_type": "display_data"
    }
   ],
   "source": [
    "clf_vote.fit(X_t_age, y_t)\n",
    "probas = clf_vote.predict_proba(X_v_age)[:, 1]\n",
    "fpr, tpr, threshold = roc_curve(y_v, probas)\n",
    "roc_auc = auc(fpr, tpr)\n",
    "\n",
    "plt.title('RОС curve')\n",
    "plt.plot(fpr, tpr, 'b', label = 'AUC = %0.2f' % roc_auc)\n",
    "plt.legend(loc = 'lower right')\n",
    "plt.plot([0, 1], [0, 1],'r--')\n",
    "plt.xlim([0, 1])\n",
    "plt.ylim([0, 1])\n",
    "plt.ylabel('True Positive Rate')\n",
    "plt.xlabel('False Positive Rate')\n",
    "plt.show()\n"
   ]
  },
  {
   "cell_type": "code",
   "execution_count": 149,
   "metadata": {},
   "outputs": [
    {
     "name": "stdout",
     "output_type": "stream",
     "text": [
      "CPU times: user 1.25 s, sys: 332 ms, total: 1.58 s\n",
      "Wall time: 26.5 s\n"
     ]
    },
    {
     "data": {
      "text/plain": [
       "(0.72304716904980471, 0.69833970377448629)"
      ]
     },
     "execution_count": 149,
     "metadata": {},
     "output_type": "execute_result"
    }
   ],
   "source": [
    "%time scores(clf_vote, X_t[:, features], y_t, X_v[:, features], y_v)"
   ]
  },
  {
   "cell_type": "markdown",
   "metadata": {},
   "source": [
    "RОС кривая на валидационной выборке при обучении на датасете без возраста, заметной разницы с предыдущей кривой не должно быть"
   ]
  },
  {
   "cell_type": "code",
   "execution_count": 166,
   "metadata": {},
   "outputs": [
    {
     "data": {
      "image/png": "[encoded data removed]",
      "text/plain": [
       "<matplotlib.figure.Figure at 0x7f5111d74048>"
      ]
     },
     "metadata": {},
     "output_type": "display_data"
    }
   ],
   "source": [
    "clf_vote.fit(X_t[:, features], y_t)\n",
    "probas = clf_vote.predict_proba(X_v[:, features])[:, 1]\n",
    "fpr, tpr, threshold = roc_curve(y_v, probas)\n",
    "roc_auc = auc(fpr, tpr)\n",
    "\n",
    "plt.title('RОС curve')\n",
    "plt.plot(fpr, tpr, 'b', label = 'AUC = %0.2f' % roc_auc)\n",
    "plt.legend(loc = 'lower right')\n",
    "plt.plot([0, 1], [0, 1],'r--')\n",
    "plt.xlim([0, 1])\n",
    "plt.ylim([0, 1])\n",
    "plt.ylabel('True Positive Rate')\n",
    "plt.xlabel('False Positive Rate')\n",
    "plt.show()\n"
   ]
  },
  {
   "cell_type": "markdown",
   "metadata": {},
   "source": [
    "Обучение на полной выборке"
   ]
  },
  {
   "cell_type": "code",
   "execution_count": 169,
   "metadata": {},
   "outputs": [],
   "source": [
    "estimators = [\n",
    "    ('svm', clf_svm),\n",
    "    ('nb', clf_nb)\n",
    "]\n",
    "clf_vote = VotingClassifier(estimators, voting='soft', n_jobs=3)"
   ]
  },
  {
   "cell_type": "code",
   "execution_count": 152,
   "metadata": {},
   "outputs": [
    {
     "name": "stdout",
     "output_type": "stream",
     "text": [
      "CPU times: user 11.7 s, sys: 997 ms, total: 12.7 s\n",
      "Wall time: 1min 51s\n"
     ]
    },
    {
     "data": {
      "text/plain": [
       "(0.66837390956652987, 0.60015527950310554)"
      ]
     },
     "execution_count": 152,
     "metadata": {},
     "output_type": "execute_result"
    }
   ],
   "source": [
    "%time scores(clf_vote, X_t, y_t, X_v, y_v)"
   ]
  },
  {
   "cell_type": "markdown",
   "metadata": {},
   "source": [
    "RОС кривая на валидационной выборке при обучении на полном датасете"
   ]
  },
  {
   "cell_type": "code",
   "execution_count": 170,
   "metadata": {},
   "outputs": [
    {
     "data": {
      "image/png": "[encoded data removed]",
      "text/plain": [
       "<matplotlib.figure.Figure at 0x7f510f18bb00>"
      ]
     },
     "metadata": {},
     "output_type": "display_data"
    }
   ],
   "source": [
    "clf_vote.fit(X_t, y_t)\n",
    "probas = clf_vote.predict_proba(X_v)[:, 1]\n",
    "fpr, tpr, threshold = roc_curve(y_v, probas)\n",
    "roc_auc = auc(fpr, tpr)\n",
    "\n",
    "plt.title('RОС curve')\n",
    "plt.plot(fpr, tpr, 'b', label = 'AUC = %0.2f' % roc_auc)\n",
    "plt.legend(loc = 'lower right')\n",
    "plt.plot([0, 1], [0, 1],'r--')\n",
    "plt.xlim([0, 1])\n",
    "plt.ylim([0, 1])\n",
    "plt.ylabel('True Positive Rate')\n",
    "plt.xlabel('False Positive Rate')\n",
    "plt.show()"
   ]
  }
 ],
 "metadata": {
  "kernelspec": {
   "display_name": "Python 3",
   "language": "python",
   "name": "python3"
  },
  "language_info": {
   "codemirror_mode": {
    "name": "ipython",
    "version": 3
   },
   "file_extension": ".py",
   "mimetype": "text/x-python",
   "name": "python",
   "nbconvert_exporter": "python",
   "pygments_lexer": "ipython3",
   "version": "3.6.4"
  }
 },
 "nbformat": 4,
 "nbformat_minor": 2
}
