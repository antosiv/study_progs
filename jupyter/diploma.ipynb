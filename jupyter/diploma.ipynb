{
 "cells": [
  {
   "cell_type": "code",
   "execution_count": 71,
   "metadata": {},
   "outputs": [],
   "source": [
    "from torch import nn, optim\n",
    "from torch.utils.data import dataset, DataLoader\n",
    "import torch\n",
    "import numpy as np\n",
    "import matplotlib.pyplot as plt\n",
    "import control\n",
    "\n",
    "\n",
    "class FCnet(nn.Module):\n",
    "\n",
    "    def __init__(self, input_size, output_size, n_layers, layer_size):\n",
    "        super().__init__()\n",
    "        self.layers = nn.ModuleList([nn.Linear(input_size, layer_size)])\n",
    "        self.layers.extend(nn.Linear(layer_size, layer_size) for _ in range(n_layers - 2))\n",
    "        self.layers.append(nn.Linear(layer_size, output_size))\n",
    "        self.layer_size = layer_size\n",
    "        for layer in self.layers:\n",
    "            nn.init.xavier_uniform_(layer.weight, gain=1)\n",
    "        self.input_size = input_size\n",
    "        self.layer_size = layer_size\n",
    "        self.tanh = nn.Hardtanh(min_val=-1, max_val=1)\n",
    "\n",
    "    def forward(self, x):\n",
    "        y = self.tanh(self.layers[0](x))\n",
    "        for i in range(1, len(self.layers)):\n",
    "            y = self.tanh(self.layers[i](y))\n",
    "        return y\n",
    "\n",
    "\n",
    "def train(model, epochs, train_loader, loss):\n",
    "    optimizer = optim.Adam(model.parameters(), lr=0.001)\n",
    "    for epoch in range(epochs):\n",
    "        losses = []\n",
    "        for x, y in train_loader:\n",
    "            prediction = model(x)\n",
    "            loss_batch = loss(prediction, y)\n",
    "            losses.append(loss_batch.item())\n",
    "            optimizer.zero_grad()\n",
    "            loss_batch.backward()\n",
    "            optimizer.step()\n",
    "        print('epoch {e}, mse {m}'.format(e=epoch, m=np.mean(losses)))\n",
    "\n",
    "def test(model, test_loader, loss):\n",
    "    losses = []\n",
    "    for x, y in test_loader:\n",
    "        prediction = model(x)\n",
    "        loss_batch = loss(prediction, y)\n",
    "        losses.append(loss_batch.item())\n",
    "    return np.mean(losses)"
   ]
  },
  {
   "cell_type": "code",
   "execution_count": 72,
   "metadata": {},
   "outputs": [],
   "source": [
    "system = control.TransferFunction(np.array([1, 0]), np.array([1, -7/12, 1/4, -1/24]), 1)"
   ]
  },
  {
   "cell_type": "code",
   "execution_count": 155,
   "metadata": {},
   "outputs": [],
   "source": [
    "def color_gen():\n",
    "    colors = ['green', 'blue', 'red']\n",
    "    i = 0\n",
    "    while True:\n",
    "        yield colors[i]\n",
    "        i += 1\n",
    "        i = i % len(colors)\n",
    "\n",
    "\n",
    "def plot_discrete_output(file_name=None, **kwargs):\n",
    "    for elem in kwargs.keys():\n",
    "        if type(kwargs[elem]) == torch.Tensor:\n",
    "            kwargs[elem] = kwargs[elem].detach().numpy().ravel()\n",
    "    data_dict = kwargs\n",
    "    assert len(set((elem.shape for elem in data_dict.values()))) == 1\n",
    "    fig, ax = plt.subplots()\n",
    "    for label, data, color in zip(data_dict.keys(), data_dict.values(), color_gen()):\n",
    "        # ax.set_ylim((-0.5, 0.5))\n",
    "        ax.set_xticks(np.arange(data.shape[0]))\n",
    "        ax.set_xlabel('Момент времени', fontsize=15)\n",
    "        ax.set_ylabel('Выход системы', fontsize=15)\n",
    "        ax.scatter(x=np.arange(data.shape[0]), y=data, label=label, color=color)\n",
    "        \n",
    "    ax.legend(fontsize=15, loc=\"upper right\")\n",
    "    ax.grid()\n",
    "    counter = 0\n",
    "    for tic in ax.xaxis.get_major_ticks():\n",
    "        if counter % 10 != 0:\n",
    "            tic.tick1On = tic.tick2On = False\n",
    "            tic.label1On = tic.label2On = False\n",
    "        counter += 1\n",
    "    fig.set_size_inches((10, 10))\n",
    "    if file_name is None:\n",
    "        plt.show()\n",
    "    else:\n",
    "        plt.savefig(file_name)"
   ]
  },
  {
   "cell_type": "code",
   "execution_count": 74,
   "metadata": {},
   "outputs": [],
   "source": [
    "def func(impact_time):\n",
    "    return np.sin(np.arange(impact_time) * 0.1) / 2"
   ]
  },
  {
   "cell_type": "code",
   "execution_count": 75,
   "metadata": {},
   "outputs": [
    {
     "data": {
      "image/png": "[encoded data removed]",
      "text/plain": [
       "<Figure size 720x720 with 1 Axes>"
      ]
     },
     "metadata": {},
     "output_type": "display_data"
    }
   ],
   "source": [
    "impact_time = 100\n",
    "cooldown_time = 10 \n",
    "U = np.concatenate((func(impact_time), np.zeros(cooldown_time)))\n",
    "output = control.forced_response(system, T=np.arange(impact_time + cooldown_time), U=U)[1]\n",
    "plot_discrete_output(\n",
    "    file_name='tmp.png',\n",
    "    data=output[0]\n",
    ")"
   ]
  },
  {
   "cell_type": "code",
   "execution_count": 76,
   "metadata": {},
   "outputs": [
    {
     "data": {
      "text/plain": [
       "(0.625, 36.67860882036618, 0.0, 1.036960862501573)"
      ]
     },
     "execution_count": 76,
     "metadata": {},
     "output_type": "execute_result"
    }
   ],
   "source": [
    "control.margin(system)"
   ]
  },
  {
   "cell_type": "markdown",
   "metadata": {},
   "source": [
    "### Проверка на случайных синусоидах с различным периодом (амплитуда фиксирована)"
   ]
  },
  {
   "cell_type": "code",
   "execution_count": 77,
   "metadata": {},
   "outputs": [],
   "source": [
    "class ControlDataset(dataset.Dataset):\n",
    "    \n",
    "    def __init__(self, global_u, global_y):\n",
    "        assert len(global_u) == len(global_y)\n",
    "        self.global_u = global_u\n",
    "        self.global_y = global_y\n",
    "        \n",
    "    def __getitem__(self, index):\n",
    "        return self.global_u[index], self.global_y[index]\n",
    "    \n",
    "    def __len__(self):\n",
    "        return len(self.global_u)\n",
    "\n",
    "\n",
    "def generate_data(control_sys, impact_time, cooldown_time, n_samples, input_func):\n",
    "    total_time = impact_time + cooldown_time\n",
    "    global_u = [\n",
    "        np.concatenate((input_func(impact_time), np.zeros(cooldown_time)))\n",
    "        for _ in range(n_samples)\n",
    "    ]\n",
    "    global_y = [control.forced_response(control_sys, T=np.arange(total_time), U=u)[1] for u in global_u]\n",
    "    global_u = [torch.tensor(elem.ravel(), requires_grad=True).float() for elem in global_u]\n",
    "    global_y = [torch.tensor(elem.ravel(), requires_grad=True).float() for elem in global_y]\n",
    "    \n",
    "    return ControlDataset(global_u, global_y)"
   ]
  },
  {
   "cell_type": "code",
   "execution_count": 78,
   "metadata": {},
   "outputs": [],
   "source": [
    "train_dataset = generate_data(\n",
    "    control_sys=system,\n",
    "    impact_time=90,\n",
    "    cooldown_time=10,\n",
    "    n_samples=1000,\n",
    "    input_func=lambda x: np.sin(np.arange(x) * np.random.uniform(low=0.05, high=0.1)) / 2\n",
    ")"
   ]
  },
  {
   "cell_type": "code",
   "execution_count": 79,
   "metadata": {},
   "outputs": [],
   "source": [
    "train_dataloader = DataLoader(train_dataset, batch_size=10, shuffle=True)"
   ]
  },
  {
   "cell_type": "code",
   "execution_count": 91,
   "metadata": {},
   "outputs": [],
   "source": [
    "model = FCnet(input_size=train_dataset[0][0].size()[0], output_size=train_dataset[0][1].size()[0], n_layers=5, layer_size=50)"
   ]
  },
  {
   "cell_type": "code",
   "execution_count": 92,
   "metadata": {
    "scrolled": true
   },
   "outputs": [
    {
     "name": "stdout",
     "output_type": "stream",
     "text": [
      "epoch 0, mse 0.04481770185986534\n",
      "epoch 1, mse 0.0019047889957437291\n",
      "epoch 2, mse 0.0006481788819655776\n",
      "epoch 3, mse 0.0004145417868858203\n",
      "epoch 4, mse 0.00030423299918766136\n",
      "epoch 5, mse 0.0002064345040707849\n",
      "epoch 6, mse 0.00013280323677463456\n",
      "epoch 7, mse 8.930861898988952e-05\n",
      "epoch 8, mse 6.406484531908063e-05\n",
      "epoch 9, mse 4.491087063797749e-05\n",
      "epoch 10, mse 3.287471428848221e-05\n",
      "epoch 11, mse 3.0571929992220246e-05\n",
      "epoch 12, mse 2.3215773080664803e-05\n",
      "epoch 13, mse 2.0458046096791806e-05\n",
      "epoch 14, mse 2.2855564766359747e-05\n",
      "epoch 15, mse 1.4617172223552188e-05\n",
      "epoch 16, mse 4.7865924907455335e-05\n",
      "epoch 17, mse 7.381800852272135e-05\n",
      "epoch 18, mse 1.2372382461762755e-05\n",
      "epoch 19, mse 1.1480672069410503e-05\n",
      "epoch 20, mse 1.9520080386428162e-05\n",
      "epoch 21, mse 2.9269677952470374e-05\n",
      "epoch 22, mse 2.835302806488471e-05\n",
      "epoch 23, mse 6.420575882657432e-05\n",
      "epoch 24, mse 5.757139792876842e-05\n",
      "epoch 25, mse 9.909547500228655e-06\n",
      "epoch 26, mse 1.995148070363939e-05\n",
      "epoch 27, mse 9.990181352804939e-05\n",
      "epoch 28, mse 5.80561568176563e-05\n",
      "epoch 29, mse 1.383899851134629e-05\n",
      "epoch 30, mse 7.471188720955979e-05\n",
      "epoch 31, mse 3.4472772804292617e-05\n",
      "epoch 32, mse 1.0731463225965853e-05\n",
      "epoch 33, mse 2.7403138549288997e-05\n",
      "epoch 34, mse 1.9545017730706606e-05\n",
      "epoch 35, mse 8.067643184404005e-06\n",
      "epoch 36, mse 7.616534328462876e-06\n",
      "epoch 37, mse 9.968408926397388e-06\n",
      "epoch 38, mse 2.5053194558495307e-05\n",
      "epoch 39, mse 2.254776861263963e-05\n",
      "epoch 40, mse 5.816093490466301e-05\n",
      "epoch 41, mse 2.861400839719863e-05\n",
      "epoch 42, mse 5.775461595476372e-05\n",
      "epoch 43, mse 0.0001714042380990577\n",
      "epoch 44, mse 0.00022414501741877758\n",
      "epoch 45, mse 1.7714823204642016e-05\n",
      "epoch 46, mse 4.570287701426423e-06\n",
      "epoch 47, mse 7.061313949634496e-06\n",
      "epoch 48, mse 1.4235073194868164e-05\n",
      "epoch 49, mse 5.578792566893753e-06\n",
      "epoch 50, mse 5.412796695054567e-06\n",
      "epoch 51, mse 5.507667003712413e-06\n",
      "epoch 52, mse 2.985253011047462e-05\n",
      "epoch 53, mse 0.00023675109090618207\n",
      "epoch 54, mse 4.7668024649283325e-05\n",
      "epoch 55, mse 3.942891418091676e-06\n",
      "epoch 56, mse 3.872135586107106e-06\n",
      "epoch 57, mse 5.4661029753333426e-06\n",
      "epoch 58, mse 1.069921402631735e-05\n",
      "epoch 59, mse 1.1691339063872874e-05\n",
      "epoch 60, mse 3.720853930644807e-05\n",
      "epoch 61, mse 2.8305572413955815e-05\n",
      "epoch 62, mse 0.00011345089282258414\n",
      "epoch 63, mse 0.00012141527634412341\n",
      "epoch 64, mse 1.775345368514536e-05\n",
      "epoch 65, mse 9.311727596923447e-06\n",
      "epoch 66, mse 3.954882733978593e-06\n",
      "epoch 67, mse 4.7939171236066614e-06\n",
      "epoch 68, mse 7.327881210130727e-06\n",
      "epoch 69, mse 8.806862088022171e-06\n",
      "epoch 70, mse 5.290554461225838e-06\n",
      "epoch 71, mse 4.0476720286051205e-05\n",
      "epoch 72, mse 0.0001602992658627045\n",
      "epoch 73, mse 1.3226095655909375e-05\n",
      "epoch 74, mse 9.660100470227917e-06\n",
      "epoch 75, mse 5.6235885012938524e-05\n",
      "epoch 76, mse 0.00020263755599444266\n",
      "epoch 77, mse 2.2872153299431374e-05\n",
      "epoch 78, mse 1.0938020568573848e-05\n",
      "epoch 79, mse 3.4319060057441674e-06\n",
      "epoch 80, mse 3.790694881899981e-06\n",
      "epoch 81, mse 7.573028050956055e-05\n",
      "epoch 82, mse 9.141610846654657e-05\n",
      "epoch 83, mse 6.628452510994976e-06\n",
      "epoch 84, mse 6.573584281568401e-06\n",
      "epoch 85, mse 1.2771446549777465e-05\n",
      "epoch 86, mse 1.6004736546619825e-05\n",
      "epoch 87, mse 9.843960947364394e-06\n",
      "epoch 88, mse 5.1315920973138415e-06\n",
      "epoch 89, mse 8.639536768441758e-05\n",
      "epoch 90, mse 0.00013394946395692387\n",
      "epoch 91, mse 4.840232664946598e-06\n",
      "epoch 92, mse 1.403288247047385e-05\n",
      "epoch 93, mse 6.760395667697594e-06\n",
      "epoch 94, mse 3.2097035759761635e-05\n",
      "epoch 95, mse 1.6722884402042838e-05\n",
      "epoch 96, mse 2.4349774557776983e-05\n",
      "epoch 97, mse 1.607021394875119e-05\n",
      "epoch 98, mse 8.089072549864795e-05\n",
      "epoch 99, mse 1.1349265496392037e-05\n"
     ]
    }
   ],
   "source": [
    "train(model, 100, train_dataloader, nn.MSELoss())"
   ]
  },
  {
   "cell_type": "code",
   "execution_count": 94,
   "metadata": {},
   "outputs": [],
   "source": [
    "test_dataset = generate_data(\n",
    "    control_sys=system,\n",
    "    impact_time=90,\n",
    "    cooldown_time=10,\n",
    "    n_samples=1000,\n",
    "    input_func=lambda x: np.sin(np.arange(x) * np.random.uniform(low=0.05, high=0.1)) / 2\n",
    ")"
   ]
  },
  {
   "cell_type": "code",
   "execution_count": 95,
   "metadata": {},
   "outputs": [],
   "source": [
    "test_dataloader = DataLoader(test_dataset, batch_size=1)"
   ]
  },
  {
   "cell_type": "markdown",
   "metadata": {},
   "source": [
    "среднее MSE для одного сигнала на сгенерированной тестовой выборке"
   ]
  },
  {
   "cell_type": "code",
   "execution_count": 96,
   "metadata": {
    "scrolled": true
   },
   "outputs": [
    {
     "data": {
      "text/plain": [
       "6.18385315328851e-06"
      ]
     },
     "execution_count": 96,
     "metadata": {},
     "output_type": "execute_result"
    }
   ],
   "source": [
    "test(model, test_dataloader, nn.MSELoss())"
   ]
  },
  {
   "cell_type": "code",
   "execution_count": 101,
   "metadata": {
    "scrolled": true
   },
   "outputs": [
    {
     "data": {
      "text/plain": [
       "(tensor([ 0.0000,  0.0308,  0.0614,  0.0918,  0.1219,  0.1515,  0.1805,  0.2088,\n",
       "          0.2364,  0.2630,  0.2887,  0.3133,  0.3366,  0.3588,  0.3795,  0.3988,\n",
       "          0.4166,  0.4328,  0.4474,  0.4603,  0.4714,  0.4808,  0.4883,  0.4940,\n",
       "          0.4978,  0.4997,  0.4998,  0.4979,  0.4942,  0.4886,  0.4811,  0.4718,\n",
       "          0.4607,  0.4479,  0.4334,  0.4172,  0.3995,  0.3802,  0.3596,  0.3375,\n",
       "          0.3142,  0.2896,  0.2640,  0.2374,  0.2099,  0.1816,  0.1526,  0.1230,\n",
       "          0.0929,  0.0625,  0.0319,  0.0011, -0.0296, -0.0603, -0.0907, -0.1208,\n",
       "         -0.1504, -0.1794, -0.2078, -0.2354, -0.2621, -0.2878, -0.3124, -0.3358,\n",
       "         -0.3580, -0.3787, -0.3981, -0.4160, -0.4322, -0.4469, -0.4598, -0.4710,\n",
       "         -0.4805, -0.4881, -0.4938, -0.4977, -0.4997, -0.4998, -0.4980, -0.4944,\n",
       "         -0.4888, -0.4814, -0.4722, -0.4612, -0.4484, -0.4340, -0.4179, -0.4002,\n",
       "         -0.3810, -0.3603,  0.0000,  0.0000,  0.0000,  0.0000,  0.0000,  0.0000,\n",
       "          0.0000,  0.0000,  0.0000,  0.0000], grad_fn=<CopyBackwards>),\n",
       " tensor([ 0.0000e+00,  0.0000e+00,  0.0000e+00,  3.0758e-02,  7.9342e-02,\n",
       "          1.3040e-01,  1.7938e-01,  2.2681e-01,  2.7339e-01,  3.1909e-01,\n",
       "          3.6362e-01,  4.0678e-01,  4.4838e-01,  4.8828e-01,  5.2633e-01,\n",
       "          5.6239e-01,  5.9632e-01,  6.2799e-01,  6.5728e-01,  6.8409e-01,\n",
       "          7.0830e-01,  7.2982e-01,  7.4859e-01,  7.6452e-01,  7.7755e-01,\n",
       "          7.8763e-01,  7.9474e-01,  7.9883e-01,  7.9990e-01,  7.9794e-01,\n",
       "          7.9295e-01,  7.8496e-01,  7.7400e-01,  7.6011e-01,  7.4334e-01,\n",
       "          7.2375e-01,  7.0142e-01,  6.7643e-01,  6.4888e-01,  6.1888e-01,\n",
       "          5.8653e-01,  5.5195e-01,  5.1529e-01,  4.7668e-01,  4.3626e-01,\n",
       "          3.9418e-01,  3.5062e-01,  3.0572e-01,  2.5967e-01,  2.1264e-01,\n",
       "          1.6479e-01,  1.1633e-01,  6.7424e-02,  1.8262e-02, -3.0968e-02,\n",
       "         -8.0081e-02, -1.2889e-01, -1.7721e-01, -2.2486e-01, -2.7166e-01,\n",
       "         -3.1743e-01, -3.6200e-01, -4.0519e-01, -4.4686e-01, -4.8682e-01,\n",
       "         -5.2495e-01, -5.6108e-01, -5.9510e-01, -6.2685e-01, -6.5623e-01,\n",
       "         -6.8313e-01, -7.0744e-01, -7.2907e-01, -7.4794e-01, -7.6397e-01,\n",
       "         -7.7711e-01, -7.8731e-01, -7.9453e-01, -7.9873e-01, -7.9991e-01,\n",
       "         -7.9806e-01, -7.9319e-01, -7.8532e-01, -7.7446e-01, -7.6068e-01,\n",
       "         -7.4401e-01, -7.2453e-01, -7.0230e-01, -6.7741e-01, -6.4996e-01,\n",
       "         -6.2004e-01, -5.8777e-01, -2.1494e-01, -4.2730e-03,  2.6752e-02,\n",
       "          7.7176e-03, -2.3640e-03, -2.1938e-03, -3.6712e-04,  2.3579e-04],\n",
       "        grad_fn=<CopyBackwards>))"
      ]
     },
     "execution_count": 101,
     "metadata": {},
     "output_type": "execute_result"
    }
   ],
   "source": [
    "test_dataset[0]"
   ]
  },
  {
   "cell_type": "code",
   "execution_count": 105,
   "metadata": {},
   "outputs": [
    {
     "data": {
      "image/png": "[encoded data removed]",
      "text/plain": [
       "<Figure size 720x720 with 1 Axes>"
      ]
     },
     "metadata": {},
     "output_type": "display_data"
    }
   ],
   "source": [
    "plot_discrete_output(\n",
    "    system_output=test_dataset[2][1],\n",
    "    net_output=model(test_dataset[2][0]),\n",
    "    file_name='low_freq.png'\n",
    ")"
   ]
  },
  {
   "cell_type": "markdown",
   "metadata": {},
   "source": [
    "### Высокая частота"
   ]
  },
  {
   "cell_type": "code",
   "execution_count": 163,
   "metadata": {},
   "outputs": [],
   "source": [
    "train_dataset = generate_data(\n",
    "    control_sys=system,\n",
    "    impact_time=100,\n",
    "    cooldown_time=10,\n",
    "    n_samples=1000,\n",
    "    input_func=lambda x: np.sin(np.arange(x) * np.random.uniform(low=0.1, high=1)) / 2\n",
    ")"
   ]
  },
  {
   "cell_type": "code",
   "execution_count": 164,
   "metadata": {},
   "outputs": [
    {
     "data": {
      "image/png": "[encoded data removed]",
      "text/plain": [
       "<Figure size 720x720 with 1 Axes>"
      ]
     },
     "metadata": {},
     "output_type": "display_data"
    }
   ],
   "source": [
    "plot_discrete_output(output=train_dataset[0][1])"
   ]
  },
  {
   "cell_type": "code",
   "execution_count": 165,
   "metadata": {},
   "outputs": [],
   "source": [
    "train_dataloader = DataLoader(train_dataset, batch_size=10, shuffle=True)"
   ]
  },
  {
   "cell_type": "code",
   "execution_count": 166,
   "metadata": {
    "scrolled": true
   },
   "outputs": [
    {
     "name": "stdout",
     "output_type": "stream",
     "text": [
      "epoch 0, mse 0.20124307014048098\n",
      "epoch 1, mse 0.09056547589600086\n",
      "epoch 2, mse 0.04088577220216393\n",
      "epoch 3, mse 0.016089665764011444\n",
      "epoch 4, mse 0.005278839195379987\n",
      "epoch 5, mse 0.0018752305587986485\n",
      "epoch 6, mse 0.0009380601771408692\n",
      "epoch 7, mse 0.0006265969591913744\n",
      "epoch 8, mse 0.0005443501740228384\n",
      "epoch 9, mse 0.00046354238205822187\n",
      "epoch 10, mse 0.00046700365608558057\n",
      "epoch 11, mse 0.0004873857019993011\n",
      "epoch 12, mse 0.0007808689822559245\n",
      "epoch 13, mse 0.0004933777985570486\n",
      "epoch 14, mse 0.0003795850534515921\n",
      "epoch 15, mse 0.0003412439691601321\n",
      "epoch 16, mse 0.0004580412508221343\n",
      "epoch 17, mse 0.0006975886144209653\n",
      "epoch 18, mse 0.0007596087775891647\n",
      "epoch 19, mse 0.0004685292880458292\n",
      "epoch 20, mse 0.00035380750166950746\n",
      "epoch 21, mse 0.0003490905121725518\n",
      "epoch 22, mse 0.0005806361285794992\n",
      "epoch 23, mse 0.00034785306444973685\n",
      "epoch 24, mse 0.00019199486636352957\n",
      "epoch 25, mse 0.0003326055902289227\n",
      "epoch 26, mse 0.0005626596487127245\n",
      "epoch 27, mse 0.0007731670014618431\n",
      "epoch 28, mse 0.00038096913835033774\n",
      "epoch 29, mse 0.00038524519659404176\n",
      "epoch 30, mse 0.00021481388495885766\n",
      "epoch 31, mse 0.0005496599290927407\n",
      "epoch 32, mse 0.0004473321211116854\n",
      "epoch 33, mse 0.00023836843356548343\n",
      "epoch 34, mse 0.0001884010577487061\n",
      "epoch 35, mse 0.0003477697737980634\n",
      "epoch 36, mse 0.0006867782458721194\n",
      "epoch 37, mse 0.0004824142318102531\n",
      "epoch 38, mse 0.00029619926855957603\n",
      "epoch 39, mse 0.0003653864754596725\n",
      "epoch 40, mse 0.00036118982039624826\n",
      "epoch 41, mse 0.0003300448996014893\n",
      "epoch 42, mse 0.000353125933179399\n",
      "epoch 43, mse 0.000282913928385824\n",
      "epoch 44, mse 0.00032622810627799484\n",
      "epoch 45, mse 0.00023542886396171525\n",
      "epoch 46, mse 0.00023334302743023726\n",
      "epoch 47, mse 0.00034223760238091924\n",
      "epoch 48, mse 0.0002934074901713757\n",
      "epoch 49, mse 0.0003994089709885884\n",
      "epoch 50, mse 0.0005114823652547784\n",
      "epoch 51, mse 0.0008515414212888572\n",
      "epoch 52, mse 0.00045530814066296443\n",
      "epoch 53, mse 0.0004648570418066811\n",
      "epoch 54, mse 0.0003114528557489393\n",
      "epoch 55, mse 0.0003083410749241011\n",
      "epoch 56, mse 0.0005707799935771618\n",
      "epoch 57, mse 0.00044865032803500073\n",
      "epoch 58, mse 0.0004587755106331315\n",
      "epoch 59, mse 0.0004364323094341671\n",
      "epoch 60, mse 0.0006088680976245087\n",
      "epoch 61, mse 0.0003943544339563232\n",
      "epoch 62, mse 0.00027011838858015836\n",
      "epoch 63, mse 0.00021890208088734653\n",
      "epoch 64, mse 0.00027615588463959285\n",
      "epoch 65, mse 0.0005484933328989427\n",
      "epoch 66, mse 0.0011272047339298296\n",
      "epoch 67, mse 0.0011211907491087913\n",
      "epoch 68, mse 0.000619376553222537\n",
      "epoch 69, mse 0.0002515501952439081\n",
      "epoch 70, mse 0.0001276809361297637\n",
      "epoch 71, mse 0.0002006454369984567\n",
      "epoch 72, mse 0.0002686417359655024\n",
      "epoch 73, mse 0.0003049369053769624\n",
      "epoch 74, mse 0.001060621422366239\n",
      "epoch 75, mse 0.0004311878579028416\n",
      "epoch 76, mse 0.00036673796057584696\n",
      "epoch 77, mse 0.00021933502619503998\n",
      "epoch 78, mse 0.00014327328732179013\n",
      "epoch 79, mse 0.00014798480584431672\n",
      "epoch 80, mse 0.000373134095716523\n",
      "epoch 81, mse 0.00040740496973739937\n",
      "epoch 82, mse 0.0004232195043005049\n",
      "epoch 83, mse 0.0008011817416991108\n",
      "epoch 84, mse 0.0009384523093467578\n",
      "epoch 85, mse 0.0005645237013231963\n",
      "epoch 86, mse 0.00020473060707445256\n",
      "epoch 87, mse 0.0002870943846210139\n",
      "epoch 88, mse 0.0001977063313825056\n",
      "epoch 89, mse 0.0001762501483608503\n",
      "epoch 90, mse 0.00043022250443755186\n",
      "epoch 91, mse 0.0006877926489687524\n",
      "epoch 92, mse 0.00045641065895324573\n",
      "epoch 93, mse 0.00037370147241745145\n",
      "epoch 94, mse 0.0005564252025942551\n",
      "epoch 95, mse 0.000543522642692551\n",
      "epoch 96, mse 0.00027401228042435834\n",
      "epoch 97, mse 0.000177560006522981\n",
      "epoch 98, mse 0.0002762715515564196\n",
      "epoch 99, mse 0.000379415504867211\n"
     ]
    }
   ],
   "source": [
    "train(model, 100, train_dataloader)"
   ]
  },
  {
   "cell_type": "code",
   "execution_count": 167,
   "metadata": {},
   "outputs": [],
   "source": [
    "test_dataset = generate_data(\n",
    "    control_sys=system,\n",
    "    impact_time=100,\n",
    "    cooldown_time=10,\n",
    "    n_samples=1000,\n",
    "    input_func=lambda x: np.sin(np.arange(x) * np.random.uniform(low=0.1, high=1)) / 2\n",
    ")"
   ]
  },
  {
   "cell_type": "code",
   "execution_count": 168,
   "metadata": {},
   "outputs": [],
   "source": [
    "test_dataloader = DataLoader(test_dataset, batch_size=1)"
   ]
  },
  {
   "cell_type": "code",
   "execution_count": 169,
   "metadata": {},
   "outputs": [
    {
     "data": {
      "text/plain": [
       "0.00031482705673806775"
      ]
     },
     "execution_count": 169,
     "metadata": {},
     "output_type": "execute_result"
    }
   ],
   "source": [
    "test(model, test_dataloader)"
   ]
  },
  {
   "cell_type": "code",
   "execution_count": 175,
   "metadata": {
    "scrolled": true
   },
   "outputs": [
    {
     "data": {
      "image/png": "[encoded data removed]",
      "text/plain": [
       "<Figure size 720x720 with 1 Axes>"
      ]
     },
     "metadata": {},
     "output_type": "display_data"
    }
   ],
   "source": [
    "plot_discrete_output(\n",
    "    system_output=test_dataset[5][1],\n",
    "    net_output=model(test_dataset[5][0]),\n",
    "    file_name='high_freq.png'\n",
    ")"
   ]
  },
  {
   "cell_type": "markdown",
   "metadata": {},
   "source": [
    "### lstm"
   ]
  },
  {
   "cell_type": "code",
   "execution_count": 186,
   "metadata": {},
   "outputs": [],
   "source": [
    "class ControlRNN(nn.Module):\n",
    "    def __init__(self, window_size, layer_input_size, hidden_size, output_size, num_layers=2):\n",
    "        assert window_size % layer_input_size == 0\n",
    "        super().__init__()\n",
    "        self.reccurency = window_size // layer_input_size\n",
    "        self.layer_input_size = layer_input_size\n",
    "        \n",
    "        self.layers = nn.ModuleList()\n",
    "        self.layers.append(\n",
    "            nn.LSTM(\n",
    "                input_size=layer_input_size,\n",
    "                hidden_size=hidden_size,\n",
    "                num_layers=num_layers\n",
    "            )\n",
    "        )\n",
    "        self.layers.append(nn.Linear(hidden_size, output_size))\n",
    "\n",
    "    def forward(self, window_data):\n",
    "        hidden, _ = self.layers[0](window_data.view(-1, self.reccurency, self.layer_input_size).transpose(0, 1))\n",
    "        last_hidden = hidden[-1, :, :]\n",
    "        return self.layers[1](last_hidden)"
   ]
  },
  {
   "cell_type": "code",
   "execution_count": 66,
   "metadata": {},
   "outputs": [],
   "source": [
    "def generate_data_for_rnn(\n",
    "    control_sys,\n",
    "    impact_time,\n",
    "    n_signals,\n",
    "    n_samples_per_signal,\n",
    "    sample_u_size,\n",
    "    sample_response_size,\n",
    "    u_signal_generation_func\n",
    "):\n",
    "    samples_u = list()\n",
    "    samples_response = list()\n",
    "    for _ in range(n_signals):\n",
    "        u = u_signal_generation_func(impact_time)\n",
    "        response = control.forced_response(control_sys, T=np.arange(impact_time), U=u)[1][0]\n",
    "        for _ in range(n_samples_per_signal):\n",
    "            start = np.random.randint(\n",
    "                low=0,\n",
    "                high=impact_time - sample_u_size\n",
    "            )\n",
    "            fin = start + sample_u_size\n",
    "            samples_u.append(torch.tensor(u[start: fin], requires_grad=True).float())\n",
    "            samples_response.append(torch.tensor(response[fin - sample_response_size: fin], requires_grad=True).float())\n",
    "    \n",
    "    return ControlDataset(samples_u, samples_response)"
   ]
  },
  {
   "cell_type": "code",
   "execution_count": 144,
   "metadata": {},
   "outputs": [],
   "source": [
    "train_dataset = generate_data_for_rnn(\n",
    "    control_sys=system,\n",
    "    impact_time=1000,\n",
    "    n_signals=100,\n",
    "    n_samples_per_signal=10,\n",
    "    sample_u_size=100,\n",
    "    sample_response_size=20,\n",
    "    u_signal_generation_func=lambda x: np.sin(np.arange(x) * np.random.uniform(low=0.05, high=0.1)) / 2\n",
    ")"
   ]
  },
  {
   "cell_type": "code",
   "execution_count": 187,
   "metadata": {},
   "outputs": [],
   "source": [
    "model = ControlRNN(\n",
    "    window_size=100, layer_input_size=20, hidden_size=50, output_size=20, num_layers=2\n",
    ")"
   ]
  },
  {
   "cell_type": "code",
   "execution_count": 188,
   "metadata": {},
   "outputs": [],
   "source": [
    "train_dataloader = DataLoader(train_dataset, batch_size=10, shuffle=True)"
   ]
  },
  {
   "cell_type": "code",
   "execution_count": 189,
   "metadata": {
    "scrolled": true
   },
   "outputs": [
    {
     "name": "stdout",
     "output_type": "stream",
     "text": [
      "epoch 0, mse 0.15836706114001572\n",
      "epoch 1, mse 0.00464276060112752\n",
      "epoch 2, mse 0.001550496233976446\n",
      "epoch 3, mse 0.000738812628260348\n",
      "epoch 4, mse 0.00042809585138456894\n",
      "epoch 5, mse 0.0003274975286331028\n",
      "epoch 6, mse 0.0002630976055661449\n",
      "epoch 7, mse 0.000192737319302978\n",
      "epoch 8, mse 0.00016280414936773013\n",
      "epoch 9, mse 0.00014939727989258245\n",
      "epoch 10, mse 0.00011345852974045556\n",
      "epoch 11, mse 0.00010856158307433361\n",
      "epoch 12, mse 9.564468979078811e-05\n",
      "epoch 13, mse 0.00015642303114873357\n",
      "epoch 14, mse 8.461068513497594e-05\n",
      "epoch 15, mse 6.941056104551535e-05\n",
      "epoch 16, mse 6.198747281814576e-05\n",
      "epoch 17, mse 5.787626001620083e-05\n",
      "epoch 18, mse 6.797266863941332e-05\n",
      "epoch 19, mse 5.928137194132432e-05\n",
      "epoch 20, mse 5.434478714960278e-05\n",
      "epoch 21, mse 4.211521983961575e-05\n",
      "epoch 22, mse 3.897620603311225e-05\n",
      "epoch 23, mse 4.1011139655893204e-05\n",
      "epoch 24, mse 4.484406364099413e-05\n",
      "epoch 25, mse 4.5342172306845896e-05\n",
      "epoch 26, mse 4.6168617554940287e-05\n",
      "epoch 27, mse 3.5196701992390446e-05\n",
      "epoch 28, mse 4.651041759643704e-05\n",
      "epoch 29, mse 7.37719478092913e-05\n"
     ]
    }
   ],
   "source": [
    "train(model, 30, train_dataloader, nn.MSELoss())"
   ]
  },
  {
   "cell_type": "code",
   "execution_count": 190,
   "metadata": {},
   "outputs": [],
   "source": [
    "test_dataset = generate_data_for_rnn(\n",
    "    control_sys=system,\n",
    "    impact_time=1000,\n",
    "    n_signals=100,\n",
    "    n_samples_per_signal=10,\n",
    "    sample_u_size=100,\n",
    "    sample_response_size=20,\n",
    "    u_signal_generation_func=lambda x: np.sin(np.arange(x) * np.random.uniform(low=0.05, high=0.1)) / 2\n",
    ")"
   ]
  },
  {
   "cell_type": "code",
   "execution_count": 191,
   "metadata": {},
   "outputs": [
    {
     "data": {
      "text/plain": [
       "8.529024114977801e-05"
      ]
     },
     "execution_count": 191,
     "metadata": {},
     "output_type": "execute_result"
    }
   ],
   "source": [
    "test(model, DataLoader(test_dataset, batch_size=10, shuffle=True), nn.MSELoss())"
   ]
  },
  {
   "cell_type": "code",
   "execution_count": 196,
   "metadata": {
    "scrolled": true
   },
   "outputs": [
    {
     "data": {
      "image/png": "[encoded data removed]",
      "text/plain": [
       "<Figure size 720x720 with 1 Axes>"
      ]
     },
     "metadata": {},
     "output_type": "display_data"
    }
   ],
   "source": [
    "plot_discrete_output(\n",
    "    curve=test_dataset[4][1],\n",
    "    prediction=model(test_dataset[4][0])\n",
    ")"
   ]
  }
 ],
 "metadata": {
  "kernelspec": {
   "display_name": "Python 3",
   "language": "python",
   "name": "python3"
  },
  "language_info": {
   "codemirror_mode": {
    "name": "ipython",
    "version": 3
   },
   "file_extension": ".py",
   "mimetype": "text/x-python",
   "name": "python",
   "nbconvert_exporter": "python",
   "pygments_lexer": "ipython3",
   "version": "3.6.5"
  }
 },
 "nbformat": 4,
 "nbformat_minor": 2
}
