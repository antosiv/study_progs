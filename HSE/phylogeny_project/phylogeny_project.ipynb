{
 "cells": [
  {
   "cell_type": "code",
   "execution_count": 79,
   "metadata": {},
   "outputs": [],
   "source": [
    "import pandas as pd\n",
    "import re\n",
    "import random\n",
    "import requests\n",
    "from time import sleep\n",
    "import itertools\n",
    "import io\n",
    "from Bio.Nexus import Nexus\n",
    "from Bio import SeqIO\n",
    "from tqdm.notebook import tqdm\n",
    "from pathlib import Path"
   ]
  },
  {
   "cell_type": "code",
   "execution_count": 4,
   "metadata": {},
   "outputs": [],
   "source": [
    "annotation_data = pd.read_csv('recognized_table.csv', header=None)"
   ]
  },
  {
   "cell_type": "code",
   "execution_count": 7,
   "metadata": {},
   "outputs": [
    {
     "data": {
      "text/plain": [
       "(77, 8)"
      ]
     },
     "execution_count": 7,
     "metadata": {},
     "output_type": "execute_result"
    }
   ],
   "source": [
    "annotation_data.shape"
   ]
  },
  {
   "cell_type": "code",
   "execution_count": 21,
   "metadata": {},
   "outputs": [
    {
     "data": {
      "text/plain": [
       "Panaspis wahlbergi           15\n",
       "Panaspis cabindae             8\n",
       "Panaspis togoensis            6\n",
       "Panaspis maculicollis         6\n",
       "Panaspis sp. Mozambique 1     6\n",
       "Panaspis sp. Katanga 2        5\n",
       "Panaspis sp. Mozambique 4     5\n",
       "Panaspis sp. Mozambique 3     4\n",
       "Panaspis sp. Tanzania 2       2\n",
       "Panaspis sp. Mozambique 2     2\n",
       "Panaspis sp. Katanga 1        2\n",
       "Panaspis sp. Malawi           2\n",
       "Panaspis sp. Limpopo          2\n",
       "Panaspis sp. Namibia          2\n",
       "Panaspis sp. Tanzania 1       2\n",
       "Tiliqua rugosa                1\n",
       "Panaspis breviceps            1\n",
       "Panaspis sp. Ethiopia         1\n",
       "Broadleysaurus major          1\n",
       "Xantusia vigilis              1\n",
       "Plestiodon japonicus          1\n",
       "Plestiodon inexpectatus       1\n",
       "Panaspis sp. Mozambique 5     1\n",
       "Name: 0, dtype: int64"
      ]
     },
     "execution_count": 21,
     "metadata": {},
     "output_type": "execute_result"
    }
   ],
   "source": [
    "annotation_data[0].value_counts()"
   ]
  },
  {
   "cell_type": "code",
   "execution_count": 8,
   "metadata": {},
   "outputs": [],
   "source": [
    "species_index = dict()\n",
    "for species in annotation_data[0].unique():\n",
    "    species_index[species] = annotation_data.index[annotation_data[0] == species].tolist()"
   ]
  },
  {
   "cell_type": "code",
   "execution_count": 13,
   "metadata": {},
   "outputs": [],
   "source": [
    "subset = list(itertools.chain(*(random.sample(value, max(len(value) // 3, 1)) for value in species_index.values())))"
   ]
  },
  {
   "cell_type": "code",
   "execution_count": 16,
   "metadata": {},
   "outputs": [],
   "source": [
    "annotation_data_subset = annotation_data.loc[subset]"
   ]
  },
  {
   "cell_type": "code",
   "execution_count": 17,
   "metadata": {},
   "outputs": [
    {
     "data": {
      "text/plain": [
       "(31, 8)"
      ]
     },
     "execution_count": 17,
     "metadata": {},
     "output_type": "execute_result"
    }
   ],
   "source": [
    "annotation_data_subset.shape"
   ]
  },
  {
   "cell_type": "code",
   "execution_count": 18,
   "metadata": {
    "scrolled": false
   },
   "outputs": [
    {
     "data": {
      "text/plain": [
       "Panaspis wahlbergi           5\n",
       "Panaspis cabindae            2\n",
       "Panaspis maculicollis        2\n",
       "Panaspis sp. Mozambique 1    2\n",
       "Panaspis togoensis           2\n",
       "Panaspis sp. Mozambique 3    1\n",
       "Panaspis sp. Mozambique 4    1\n",
       "Panaspis sp. Namibia         1\n",
       "Panaspis sp. Tanzania 1      1\n",
       "Panaspis breviceps           1\n",
       "Panaspis sp. Ethiopia        1\n",
       "Tiliqua rugosa               1\n",
       "Panaspis sp. Limpopo         1\n",
       "Panaspis sp. Malawi          1\n",
       "Broadleysaurus major         1\n",
       "Panaspis sp. Katanga 1       1\n",
       "Panaspis sp. Mozambique 2    1\n",
       "Xantusia vigilis             1\n",
       "Plestiodon japonicus         1\n",
       "Panaspis sp. Tanzania 2      1\n",
       "Panaspis sp. Katanga 2       1\n",
       "Plestiodon inexpectatus      1\n",
       "Panaspis sp. Mozambique 5    1\n",
       "Name: 0, dtype: int64"
      ]
     },
     "execution_count": 18,
     "metadata": {},
     "output_type": "execute_result"
    }
   ],
   "source": [
    "annotation_data_subset[0].value_counts()"
   ]
  },
  {
   "cell_type": "code",
   "execution_count": 65,
   "metadata": {},
   "outputs": [],
   "source": [
    "def retrieve_sequence_by_id(nucleotide_db_id):\n",
    "    sleep(0.34)\n",
    "    r = requests.get(\n",
    "        'https://eutils.ncbi.nlm.nih.gov/entrez/eutils/efetch.fcgi?'\n",
    "        f'db=nuccore&id={nucleotide_db_id}&rettype=gb'\n",
    "    )\n",
    "    r.raise_for_status()\n",
    "    result_seqs = list(SeqIO.parse(io.StringIO(r.text), 'gb'))\n",
    "    assert len(result_seqs) == 1\n",
    "    return result_seqs[0]"
   ]
  },
  {
   "cell_type": "code",
   "execution_count": 70,
   "metadata": {},
   "outputs": [
    {
     "data": {
      "application/vnd.jupyter.widget-view+json": {
       "model_id": "bbbda1844fe740e3a6d2ccbacc15991a",
       "version_major": 2,
       "version_minor": 0
      },
      "text/plain": [
       "HBox(children=(HTML(value=''), FloatProgress(value=1.0, bar_style='info', layout=Layout(width='20px'), max=1.0…"
      ]
     },
     "metadata": {},
     "output_type": "display_data"
    },
    {
     "name": "stdout",
     "output_type": "stream",
     "text": [
      "\n"
     ]
    }
   ],
   "source": [
    "sequences_data = dict()\n",
    "for sample_index, sample_row in tqdm(annotation_data_subset.iterrows()):\n",
    "    sample_data = dict()\n",
    "    for key, db_id in zip(['16S', 'cyt b', 'PDC', 'RAG1'], sample_row[4:]):\n",
    "        if db_id != '—':\n",
    "            sample_data[key] = retrieve_sequence_by_id(re.sub(' +', '', db_id))\n",
    "    sequences_data[sample_index] = sample_data"
   ]
  },
  {
   "cell_type": "code",
   "execution_count": 75,
   "metadata": {},
   "outputs": [],
   "source": [
    "for gene in ['16S', 'cyt b', 'PDC', 'RAG1']:\n",
    "    sequence_subset = {key: value[gene] for key, value in sequences_data.items() if gene in value.keys()}\n",
    "    result_fasta_data = list()\n",
    "    for key, value in sequence_subset.items():\n",
    "        value.id = str(key)\n",
    "        result_fasta_data.append(value)\n",
    "    with open(f\"{re.sub(' ', '_', gene)}.fasta\", 'w') as output_d:\n",
    "        SeqIO.write(result_fasta_data, output_d, 'fasta')"
   ]
  },
  {
   "cell_type": "markdown",
   "metadata": {},
   "source": [
    "used [clustal omega](https://www.ebi.ac.uk/Tools/msa/clustalo/) for alignment in nexus format"
   ]
  },
  {
   "cell_type": "markdown",
   "metadata": {},
   "source": [
    "merge .nex files for MrBayes"
   ]
  },
  {
   "cell_type": "code",
   "execution_count": 80,
   "metadata": {},
   "outputs": [],
   "source": [
    "nexi = [(str(file), Nexus.Nexus(file)) for file in Path('.').glob('*.nex')]\n",
    "combined = Nexus.combine(nexi)\n",
    "with open('merged.nex', 'w') as output_d:\n",
    "    combined.write_nexus_data(filename=output_d)"
   ]
  },
  {
   "cell_type": "markdown",
   "metadata": {},
   "source": [
    "![](mr_bayes_params.png)"
   ]
  },
  {
   "cell_type": "code",
   "execution_count": 92,
   "metadata": {},
   "outputs": [],
   "source": [
    "final_tree = \"\"\"\n",
    "    /- 3 (1)\n",
    "   |                                                                               \n",
    "   | 7 (18)\n",
    "   |                                                                               \n",
    "   |            /- 48 (2)\n",
    "   |          /-+                                                                  \n",
    "   |          | \\-- 49 (26)\n",
    "   |         /+                                                                    \n",
    "   |         |\\--- 44 (30)\n",
    "   |         |                                                                     \n",
    "   |         |/--- 16 (3)\n",
    "   |         |+                                                                    \n",
    "   |         |\\-- 22 (5)\n",
    "   |         |                                                                     \n",
    "   |        /+  /- 62 (6)\n",
    "   |        ||  |                                                                  \n",
    "   |        ||  |- 65 (10)\n",
    "   |        ||/-+                                                                  \n",
    "   |        ||| |/- 69 (25)\n",
    "   |        ||| \\+                                                                 \n",
    "   |        |\\+  \\ 71 (27)\n",
    "   |       /+ |                                                                    \n",
    "   +       || \\--- 60 (7)\n",
    "   |       ||                                                                      \n",
    "   |       || /-- 40 (4)\n",
    "   |       || |                                                                    \n",
    "   |      /+| |-- 37 (28)\n",
    "   |      ||\\-+                                                                    \n",
    "   |      ||  \\ 26 (31)\n",
    "   |      ||                                                                       \n",
    "   |      |\\--- 33 (29)\n",
    "   |      |                                                                        \n",
    "   |      |    /--- 45 (8)\n",
    "   |    /-+  /-+                                                                   \n",
    "   |    | |  | \\-- 23 (9)\n",
    "   |    | |  |                                                                     \n",
    "   |    | |/-+   /- 13 (11)\n",
    "   |    | || |  /+                                                                 \n",
    "   |    | || |  |\\- 11 (12)\n",
    "   |    | || \\--+                                                                  \n",
    "   |    | \\+    | / 29 (23)\n",
    "   |    |  |    \\-+                                                                \n",
    "   |    |  |      \\ 30 (24)\n",
    "   |    |  |                                                                       \n",
    "   \\----+  \\------- 15 (22)\n",
    "        |                                                                          \n",
    "        |                       /----------------------- 72 (13)\n",
    "        |                       |                                                  \n",
    "        |                    /--+   /----- 74 (14)\n",
    "        |                    |  \\---+                                              \n",
    "        |                /---+      \\--- 75 (15)\n",
    "        |                |   |                                                     \n",
    "        |   /------------+   \\--------------------------------------------- 73 (16)\n",
    "        |   |            |                                                         \n",
    "        |   |            \\-------- 76 (17)\n",
    "        \\---+                                                                      \n",
    "            | /------- 0 (19)\n",
    "            | |                                                                    \n",
    "            \\-+   /- 53 (20)\n",
    "              \\---+                                                                \n",
    "                  \\-- 51 (21)\n",
    "\"\"\""
   ]
  },
  {
   "cell_type": "code",
   "execution_count": 94,
   "metadata": {},
   "outputs": [],
   "source": [
    "for index, species in annotation_data_subset[0].items():\n",
    "    final_tree = re.sub(rf\" {str(index)} \", f\" {species} \", final_tree)"
   ]
  },
  {
   "cell_type": "code",
   "execution_count": 103,
   "metadata": {},
   "outputs": [],
   "source": [
    "with open('mr_bayes_tree.txt', 'w') as output_d:\n",
    "    output_d.write(final_tree)"
   ]
  },
  {
   "cell_type": "code",
   "execution_count": 95,
   "metadata": {
    "scrolled": false
   },
   "outputs": [
    {
     "name": "stdout",
     "output_type": "stream",
     "text": [
      "\n",
      "    /- Panaspis cabindae (1)\n",
      "   |                                                                               \n",
      "   | Panaspis cabindae (18)\n",
      "   |                                                                               \n",
      "   |            /- Panaspis sp. Tanzania 1 (2)\n",
      "   |          /-+                                                                  \n",
      "   |          | \\-- Panaspis sp. Tanzania 2 (26)\n",
      "   |         /+                                                                    \n",
      "   |         |\\--- Panaspis sp. Mozambique 5 (30)\n",
      "   |         |                                                                     \n",
      "   |         |/--- Panaspis sp. Katanga 1 (3)\n",
      "   |         |+                                                                    \n",
      "   |         |\\-- Panaspis sp. Katanga 2 (5)\n",
      "   |         |                                                                     \n",
      "   |        /+  /- Panaspis wahlbergi (6)\n",
      "   |        ||  |                                                                  \n",
      "   |        ||  |- Panaspis wahlbergi (10)\n",
      "   |        ||/-+                                                                  \n",
      "   |        ||| |/- Panaspis wahlbergi (25)\n",
      "   |        ||| \\+                                                                 \n",
      "   |        |\\+  \\ Panaspis wahlbergi (27)\n",
      "   |       /+ |                                                                    \n",
      "   +       || \\--- Panaspis wahlbergi (7)\n",
      "   |       ||                                                                      \n",
      "   |       || /-- Panaspis sp. Mozambique 4 (4)\n",
      "   |       || |                                                                    \n",
      "   |      /+| |-- Panaspis sp. Mozambique Panaspis cabindae (28)\n",
      "   |      ||\\-+                                                                    \n",
      "   |      ||  \\ Panaspis sp. Malawi (31)\n",
      "   |      ||                                                                       \n",
      "   |      |\\--- Panaspis sp. Mozambique 2 (29)\n",
      "   |      |                                                                        \n",
      "   |      |    /--- Panaspis sp. Namibia (8)\n",
      "   |    /-+  /-+                                                                   \n",
      "   |    | |  | \\-- Panaspis sp. Limpopo (9)\n",
      "   |    | |  |                                                                     \n",
      "   |    | |/-+   /- Panaspis maculicollis (11)\n",
      "   |    | || |  /+                                                                 \n",
      "   |    | || |  |\\- Panaspis maculicollis (12)\n",
      "   |    | || \\--+                                                                  \n",
      "   |    | \\+    | / Panaspis sp. Mozambique 1 (23)\n",
      "   |    |  |    \\-+                                                                \n",
      "   |    |  |      \\ Panaspis sp. Mozambique 1 (24)\n",
      "   |    |  |                                                                       \n",
      "   \\----+  \\------- Panaspis sp. Ethiopia (22)\n",
      "        |                                                                          \n",
      "        |                       /----------------------- Broadleysaurus major (13)\n",
      "        |                       |                                                  \n",
      "        |                    /--+   /----- Plestiodon inexpectatus (14)\n",
      "        |                    |  \\---+                                              \n",
      "        |                /---+      \\--- Plestiodon japonicus (15)\n",
      "        |                |   |                                                     \n",
      "        |   /------------+   \\--------------------------------------------- Xantusia vigilis (16)\n",
      "        |   |            |                                                         \n",
      "        |   |            \\-------- Tiliqua rugosa (17)\n",
      "        \\---+                                                                      \n",
      "            | /------- Panaspis breviceps (19)\n",
      "            | |                                                                    \n",
      "            \\-+   /- Panaspis togoensis (20)\n",
      "              \\---+                                                                \n",
      "                  \\-- Panaspis togoensis (21)\n",
      "\n"
     ]
    }
   ],
   "source": [
    "print(final_tree)"
   ]
  },
  {
   "cell_type": "code",
   "execution_count": 108,
   "metadata": {},
   "outputs": [],
   "source": [
    "phy_ml_tree = \"\"\"\n",
    "+-------------------------------------------------------------------------------------------------n73\n",
    " |\n",
    " |                                                         +---------------------------------------------------------n72\n",
    " |                                                         |\n",
    " |                                                         |     +-------n76\n",
    " |                                                         |-----+\n",
    " |                                                         |     +----------------------------n74\n",
    " |                                                         |\n",
    " |                                                         |                          +-------n0\n",
    " |                                                         |                          |\n",
    " |                                                         |                      +---+\n",
    " |                                                         |                      |   |  +n53\n",
    " +---------------------------------------------------------+                      |   +--+\n",
    "                                                           |                      |      +n51\n",
    "                                                           |                      |\n",
    "                                                           |                      |           +----n15\n",
    "                                                           |                      |           |\n",
    "                                                           |                      |           |        +n30\n",
    "                                                           |                      |           |      +-+\n",
    "                                                           |                      |        +--+      | +n29\n",
    "                                                           +----------------------+        |  |  +---+\n",
    "                                                                                  |        |  |  |   |  +-n11\n",
    "                                                                                  |        |  |  |   +--+\n",
    "                                                                                  |        |  +--+      +-n13\n",
    "                                                                                  |        |     |\n",
    "                                                                                  |        |     |  +--n45\n",
    "                                                                                  |        |     +--+\n",
    "                                                                                  |        |        +-n23\n",
    "                                                                                  |        |\n",
    "                                                                                  |        | +-----n33\n",
    "                                                                                  +--------+ |\n",
    "                                                                                           |++\n",
    "                                                                                           |||      +n7\n",
    "                                                                                           ||+------+\n",
    "                                                                                           ||       +n3\n",
    "                                                                                           ||\n",
    "                                                                                           ||   +-n49\n",
    "                                                                                           || +-+\n",
    "                                                                                           || | +n48\n",
    "                                                                                           || |\n",
    "                                                                                           ++ | +--n44\n",
    "                                                                                            | |++\n",
    "                                                                                            | ||+-----n16\n",
    "                                                                                            | |+\n",
    "                                                                                            | |+---n22\n",
    "                                                                                            | |\n",
    "                                                                                            | |  +n26\n",
    "                                                                                            | |  |\n",
    "                                                                                            | |--+------n40\n",
    "                                                                                            +-+  |\n",
    "                                                                                              |  +--n37\n",
    "                                                                                              |\n",
    "                                                                                              |\n",
    "                                                                                              | +n71\n",
    "                                                                                              |++\n",
    "                                                                                              ||+--n69\n",
    "                                                                                              ||\n",
    "                                                                                              ||-----n60\n",
    "                                                                                              ++\n",
    "                                                                                               |-n62\n",
    "                                                                                               |\n",
    "                                                                                               +n65\n",
    "\"\"\""
   ]
  },
  {
   "cell_type": "code",
   "execution_count": 114,
   "metadata": {},
   "outputs": [],
   "source": [
    "for index, species in annotation_data_subset[0].items():\n",
    "    phy_ml_tree = re.sub(rf\"n{str(index)}\\n\", f\"{species} \", phy_ml_tree)"
   ]
  },
  {
   "cell_type": "code",
   "execution_count": 115,
   "metadata": {},
   "outputs": [],
   "source": [
    "with open('phy_ml_tree.txt', 'w') as output_d:\n",
    "    output_d.write(phy_ml_tree)"
   ]
  },
  {
   "cell_type": "code",
   "execution_count": 116,
   "metadata": {},
   "outputs": [
    {
     "name": "stdout",
     "output_type": "stream",
     "text": [
      "\n",
      "+-------------------------------------------------------------------------------------------------Xantusia vigilis  |\n",
      " |                                                         +---------------------------------------------------------Broadleysaurus major  |                                                         |\n",
      " |                                                         |     +-------Tiliqua rugosa  |                                                         |-----+\n",
      " |                                                         |     +----------------------------Plestiodon inexpectatus  |                                                         |\n",
      " |                                                         |                          +-------Panaspis breviceps  |                                                         |                          |\n",
      " |                                                         |                      +---+\n",
      " |                                                         |                      |   |  +Panaspis togoensis  +---------------------------------------------------------+                      |   +--+\n",
      "                                                           |                      |      +Panaspis togoensis                                                            |                      |\n",
      "                                                           |                      |           +----Panaspis sp. Ethiopia                                                            |                      |           |\n",
      "                                                           |                      |           |        +Panaspis sp. Mozambique 1                                                            |                      |           |      +-+\n",
      "                                                           |                      |        +--+      | +Panaspis sp. Mozambique 1                                                            +----------------------+        |  |  +---+\n",
      "                                                                                  |        |  |  |   |  +-Panaspis maculicollis                                                                                   |        |  |  |   +--+\n",
      "                                                                                  |        |  +--+      +-Panaspis maculicollis                                                                                   |        |     |\n",
      "                                                                                  |        |     |  +--Panaspis sp. Namibia                                                                                   |        |     +--+\n",
      "                                                                                  |        |        +-Panaspis sp. Limpopo                                                                                   |        |\n",
      "                                                                                  |        | +-----Panaspis sp. Mozambique 2                                                                                   +--------+ |\n",
      "                                                                                           |++\n",
      "                                                                                           |||      +Panaspis cabindae                                                                                            ||+------+\n",
      "                                                                                           ||       +Panaspis cabindae                                                                                            ||\n",
      "                                                                                           ||   +-Panaspis sp. Tanzania 2                                                                                            || +-+\n",
      "                                                                                           || | +Panaspis sp. Tanzania 1                                                                                            || |\n",
      "                                                                                           ++ | +--Panaspis sp. Mozambique 5                                                                                             | |++\n",
      "                                                                                            | ||+-----Panaspis sp. Katanga 1                                                                                             | |+\n",
      "                                                                                            | |+---Panaspis sp. Katanga 2                                                                                             | |\n",
      "                                                                                            | |  +Panaspis sp. Malawi                                                                                             | |  |\n",
      "                                                                                            | |--+------Panaspis sp. Mozambique 4                                                                                             +-+  |\n",
      "                                                                                              |  +--Panaspis sp. Mozambique 3                                                                                               |\n",
      "                                                                                              |\n",
      "                                                                                              | +Panaspis wahlbergi                                                                                               |++\n",
      "                                                                                              ||+--Panaspis wahlbergi                                                                                               ||\n",
      "                                                                                              ||-----Panaspis wahlbergi                                                                                               ++\n",
      "                                                                                               |-Panaspis wahlbergi                                                                                                |\n",
      "                                                                                               +Panaspis wahlbergi \n"
     ]
    }
   ],
   "source": [
    "print(phy_ml_tree)"
   ]
  }
 ],
 "metadata": {
  "kernelspec": {
   "display_name": "Python 3",
   "language": "python",
   "name": "python3"
  },
  "language_info": {
   "codemirror_mode": {
    "name": "ipython",
    "version": 3
   },
   "file_extension": ".py",
   "mimetype": "text/x-python",
   "name": "python",
   "nbconvert_exporter": "python",
   "pygments_lexer": "ipython3",
   "version": "3.8.6"
  }
 },
 "nbformat": 4,
 "nbformat_minor": 4
}
