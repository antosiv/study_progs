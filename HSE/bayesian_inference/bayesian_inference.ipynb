{
 "cells": [
  {
   "cell_type": "markdown",
   "metadata": {},
   "source": [
    "some equations:  \n",
    "$\n",
    "D = (n1, n2, n3);\\ P(n) = \\frac{\\lambda^n}{n!}e^{-\\lambda};\\ P(\\lambda) \\sim \\frac{1}{\\Gamma(k)\\theta^k} \\lambda^{k-1}e^{\\frac{\\lambda}{\\theta}}\\\\\n",
    "P(\\lambda) = \\frac{P(D|\\lambda)P(\\lambda))}{\\int_{\\Omega}P(D|\\lambda)P(\\lambda)d\\lambda} = \n",
    "\\frac{\\frac{\\lambda^{n_1+n_2+n_3}}{n_1!n_2!n_3!}e^{-3\\lambda}P(\\lambda)}{\\int_{-\\infty}^{+\\infty}\\frac{\\lambda^{n_1+n_2+n_3}}{n_1!n_2!n_3!}e^{-3\\lambda}P(\\lambda)d\\lambda}\n",
    "$"
   ]
  },
  {
   "cell_type": "code",
   "execution_count": 1,
   "metadata": {},
   "outputs": [],
   "source": [
    "import math\n",
    "import numpy as np\n",
    "import functools\n",
    "from matplotlib import pyplot as plt"
   ]
  },
  {
   "cell_type": "code",
   "execution_count": 2,
   "metadata": {},
   "outputs": [],
   "source": [
    "def integrate(function, step, interval):\n",
    "    return sum(function(item) * step for item in np.arange(interval[0], interval[1], step))\n",
    "\n",
    "\n",
    "def multiply_factorials(data):\n",
    "    result = 1\n",
    "    for item in data:\n",
    "        result *= math.factorial(item)\n",
    "    return result\n",
    "\n",
    "\n",
    "def aposteriori_by_apriori(d, apriori_function):\n",
    "    factorials = multiply_factorials(d)\n",
    "    def integrand(lambda_):\n",
    "        return (lambda_ ** sum(d)) / factorials * math.exp(-3 * lambda_) * apriori_function(lambda_)\n",
    "    \n",
    "    down_frac = integrate(integrand, 0.001, (0, 100))\n",
    "        \n",
    "    def aposteriori(lambda_):\n",
    "        return (lambda_ ** sum(d) / factorials) * math.exp(-3 * lambda_) * apriori_function(lambda_) / down_frac\n",
    "    return aposteriori\n",
    "\n",
    "\n",
    "def gamma_distribution(k, theta):\n",
    "    constant = 1 / (math.gamma(k) * (theta ** k))\n",
    "    def fixed(lambda_):\n",
    "        return constant * (lambda_ ** (k - 1)) * math.exp(-1 * lambda_ / theta)\n",
    "    return fixed\n",
    "\n",
    "\n",
    "def E_estimation(distribution_function):\n",
    "    def fixed_with_x(x):\n",
    "        return distribution_function(x) * x\n",
    "    return integrate(fixed_with_x, 0.001, (0, 100))\n",
    "\n",
    "\n",
    "def MAP_estimation(distribution_function):\n",
    "    return max(\n",
    "        ((distribution_function(item), item) for item in np.arange(0, 100, 0.001)), key=lambda x: x[0]\n",
    "    )[1]"
   ]
  },
  {
   "cell_type": "code",
   "execution_count": 3,
   "metadata": {},
   "outputs": [],
   "source": [
    "d = [5, 12, 15]\n",
    "k = 3\n",
    "theta = 3"
   ]
  },
  {
   "cell_type": "code",
   "execution_count": 4,
   "metadata": {},
   "outputs": [],
   "source": [
    "apriori = gamma_distribution(k, theta)\n",
    "aposteriori = aposteriori_by_apriori(d, apriori)"
   ]
  },
  {
   "cell_type": "code",
   "execution_count": 5,
   "metadata": {},
   "outputs": [
    {
     "data": {
      "text/plain": [
       "<matplotlib.legend.Legend at 0x7fa4db9e3d68>"
      ]
     },
     "execution_count": 5,
     "metadata": {},
     "output_type": "execute_result"
    },
    {
     "data": {
      "image/png": "[encoded data removed]",
      "text/plain": [
       "<Figure size 432x288 with 1 Axes>"
      ]
     },
     "metadata": {},
     "output_type": "display_data"
    }
   ],
   "source": [
    "x = [i / 1000 for i in range(100000)]\n",
    "y_apriori = list(map(apriori, x))\n",
    "y_aposteriori = list(map(aposteriori, x))\n",
    "plt.plot(x, y_aposteriori, color='blue', label='aposteriori')\n",
    "plt.plot(x, y_apriori, color='red', label='apriori')\n",
    "plt.legend()"
   ]
  },
  {
   "cell_type": "code",
   "execution_count": 6,
   "metadata": {},
   "outputs": [
    {
     "data": {
      "text/plain": [
       "10.500000000000073"
      ]
     },
     "execution_count": 6,
     "metadata": {},
     "output_type": "execute_result"
    }
   ],
   "source": [
    "E_estimation(aposteriori)"
   ]
  },
  {
   "cell_type": "code",
   "execution_count": 7,
   "metadata": {},
   "outputs": [
    {
     "data": {
      "text/plain": [
       "10.200000000000001"
      ]
     },
     "execution_count": 7,
     "metadata": {},
     "output_type": "execute_result"
    }
   ],
   "source": [
    "MAP_estimation(aposteriori)"
   ]
  },
  {
   "cell_type": "code",
   "execution_count": 9,
   "metadata": {},
   "outputs": [
    {
     "data": {
      "text/plain": [
       "array([19, 21, 21])"
      ]
     },
     "execution_count": 9,
     "metadata": {},
     "output_type": "execute_result"
    }
   ],
   "source": [
    "np.random.poisson(20, size=3)"
   ]
  },
  {
   "cell_type": "code",
   "execution_count": 14,
   "metadata": {},
   "outputs": [],
   "source": [
    "from IPython.display import HTML, display_html\n",
    "import matplotlib.animation as animation"
   ]
  },
  {
   "cell_type": "code",
   "execution_count": 33,
   "metadata": {},
   "outputs": [],
   "source": [
    "data = list()\n",
    "apriori = gamma_distribution(k, theta)\n",
    "x = [i / 1000 for i in range(100000)]\n",
    "for i in range(10):\n",
    "    sample = np.random.poisson(20, size=3)\n",
    "    aposteriori = aposteriori_by_apriori(sample, apriori)\n",
    "    data.append({'x': x, 'y': list(map(aposteriori, x))})\n",
    "    apriori = aposteriori"
   ]
  },
  {
   "cell_type": "code",
   "execution_count": 34,
   "metadata": {},
   "outputs": [],
   "source": [
    "apriori = gamma_distribution(k, theta)"
   ]
  },
  {
   "cell_type": "code",
   "execution_count": 37,
   "metadata": {},
   "outputs": [],
   "source": [
    "%%capture\n",
    "def update_line(num, data, line):\n",
    "    line.set_data(data[num]['x'], data[num]['y'])\n",
    "    return line,\n",
    "\n",
    "\n",
    "fig1 = plt.figure(figsize=(10, 10))\n",
    "plt.plot(x, list(map(apriori, x)), color='blue', label='apriori')\n",
    "plt.vlines(20, ymin=0, ymax=1, label='actual lambda')\n",
    "l, = plt.plot([], [], 'r-')\n",
    "plt.legend()\n",
    "line_ani = animation.FuncAnimation(\n",
    "    fig1, update_line, range(10), fargs=(data, l), interval=200, blit=True\n",
    ")"
   ]
  },
  {
   "cell_type": "code",
   "execution_count": 38,
   "metadata": {
    "scrolled": false
   },
   "outputs": [
    {
     "data": {
      "text/html": [
       "<video width=\"720\" height=\"720\" controls autoplay loop>\n",
       "  <source type=\"video/mp4\" src=\"data:video/mp4;base64,AAAAHGZ0eXBNNFYgAAACAGlzb21pc28yYXZjMQAAAAhmcmVlAAAmBm1kYXQAAAKtBgX//6ncRem9\n",
       "5tlIt5Ys2CDZI+7veDI2NCAtIGNvcmUgMTUyIHIyODU0IGU5YTU5MDMgLSBILjI2NC9NUEVHLTQg\n",
       "QVZDIGNvZGVjIC0gQ29weWxlZnQgMjAwMy0yMDE3IC0gaHR0cDovL3d3dy52aWRlb2xhbi5vcmcv\n",
       "eDI2NC5odG1sIC0gb3B0aW9uczogY2FiYWM9MSByZWY9MyBkZWJsb2NrPTE6MDowIGFuYWx5c2U9\n",
       "MHgzOjB4MTEzIG1lPWhleCBzdWJtZT03IHBzeT0xIHBzeV9yZD0xLjAwOjAuMDAgbWl4ZWRfcmVm\n",
       "PTEgbWVfcmFuZ2U9MTYgY2hyb21hX21lPTEgdHJlbGxpcz0xIDh4OGRjdD0xIGNxbT0wIGRlYWR6\n",
       "b25lPTIxLDExIGZhc3RfcHNraXA9MSBjaHJvbWFfcXBfb2Zmc2V0PS0yIHRocmVhZHM9NiBsb29r\n",
       "YWhlYWRfdGhyZWFkcz0xIHNsaWNlZF90aHJlYWRzPTAgbnI9MCBkZWNpbWF0ZT0xIGludGVybGFj\n",
       "ZWQ9MCBibHVyYXlfY29tcGF0PTAgY29uc3RyYWluZWRfaW50cmE9MCBiZnJhbWVzPTMgYl9weXJh\n",
       "bWlkPTIgYl9hZGFwdD0xIGJfYmlhcz0wIGRpcmVjdD0xIHdlaWdodGI9MSBvcGVuX2dvcD0wIHdl\n",
       "aWdodHA9MiBrZXlpbnQ9MjUwIGtleWludF9taW49NSBzY2VuZWN1dD00MCBpbnRyYV9yZWZyZXNo\n",
       "PTAgcmNfbG9va2FoZWFkPTQwIHJjPWNyZiBtYnRyZWU9MSBjcmY9MjMuMCBxY29tcD0wLjYwIHFw\n",
       "bWluPTAgcXBtYXg9NjkgcXBzdGVwPTQgaXBfcmF0aW89MS40MCBhcT0xOjEuMDAAgAAAEuBliIQA\n",
       "E//+97GPgU3IAA2XOop6H+EVsfSQUXqx2aBk6gAAAwAAAwAAAwAQjocotiX1cXGWgAAACmgBjANu\n",
       "DKtj0+lLHxAEPn9djB19jvn+FFSwwDbQoaepje6GL+b3tNaQInGtcM5LfiqHmCX/eWgev1Fcoiza\n",
       "wFg9OHXzpuDL2Q5XeQbW9nkxDSEIQRRyVzIJN64JEI/L10f/qjVIznnT+RXZvTcoys7MeT7Bdgte\n",
       "dkHKPcuusoVDY3QLRtrJFuSR/QJM19zMOCEiUyNEmKu6DTLx6CmH0NftudtlLhbD7DXY2MatQRF4\n",
       "QXgBKUFHdH8QCKmNFxq7CR/gp0cUNjS+RXzAKSVfYGSf9ZAAABkPGUNtUqVT5Ctstt7c8bH9jREY\n",
       "bhso0RPpp9Rtd+FGsm8z9sdvUIUy3d4hHUjJC5ZIcTKsG2WO0CnIl0xkqe4KI2Etb/MoXHxbPZgZ\n",
       "k4JIWuYz8m4sLEiTAZs4Bmn1DnffM1dtCrip0En9UvcuA/j71Y0rJVXnLBgJiiTvQLlgxrxzRGY/\n",
       "puSYrwBU5qrZfQwB4tNzPhwJveJPbM1bUEfNR7s1t+skSbpQGgs6QmHb1ktJ3cN9W970yy5iouJN\n",
       "IrnE06PNegMHlIq1v4SIi5aRi95lp++9XuCMYD/s7dmSFI7skNBKmcD54Wh1K31IyXmkBQL0m2I3\n",
       "8ZEHsWYa/tnTKbFA/fzvINd+LrYCxTcIQGy2QCAP2TTo0nDmQ3y/+VFvOQ2Lk7pqVPTWxY23/I+a\n",
       "N4+yOU/FraNHcy8kDwZilekdi+ZCz/CF1BuGtoOZ4d1GKXvmAezDkYmZ16uCi8ENhwJHyBMnSzqH\n",
       "seT1OFmWxf01x1qeyZevWR5fKOT2RZLpdE0fhiEX3oeH7AK9mKo5T2jIhWeXoKJJwBr0iQ+oaU//\n",
       "PE2M/a1n0hN4S0SqlqTykDtiDrEFdjmPMgFLMNfCEBbWN7Z0rFh9ebFUp8UDzjQ54da5YwSsups2\n",
       "/eZPnw3ivNSHsoL/TKyP6rms4E2hHJYLrTsm2Vl0AK+IqNmE4WPvVGe53VSugTn4pAtSgiiAgBMR\n",
       "ZaVkRGNAZvTGHo5NlE5htyTC7AIV3awmYsiVcFdQIx/HZgSxUZaUEJ71HbZkwb8YNmxlxrp+R+ut\n",
       "m1mFDzVpzLEVcxKg5QQUHG+L3s/ReWM4nIlvhFXXA4UVHrLOsrQhd/syIc5dRZRjIyvAwOWzHgUG\n",
       "x0nc/GvQSvVD9opD2Z114qvCcS8s2wSGmc1BC3rOWV76AVUpEiPoi9aQMD5k+cMX1Qf0Prob9Lz7\n",
       "yZKyPAcvh23kG1uS8NT8yNz6NoUY4UuPX3avImoHUKdGZlO+Gc04VdIpH5D1OPTWHF3UYFFTSRZj\n",
       "dxo7u+Bd0GWDaxh5bQfVp+9a3KNDVwex3R108S3o9QvpIykacty0KxzrP462yn/XOuP+vMg95WJD\n",
       "cyKl6dfEKY5TOHuY4jZsmuYVqa+44Z5vDiNqic/aEGJcwev0Jb/3wbIlv7+qPi5AbIw2S0RlVrgT\n",
       "0sGg/MjAvC2csL990bO5n0zLI/5lISp/84Wi9TVudYO/wf88U8uuf8GqZZ2yJrHwhJLyf1xyZi9U\n",
       "FW2HzWn+h934PmMWzCRyjdYvXIQZIMSClb6lZndUYaZ+Nv+KRg/uL9lMic7sUEcWmhYKK2kZImcS\n",
       "1z5o9//XGeOt+oIOpFWzrnwpBUr2ToCLFGrpQfSY7HCy5mA2uj/7tlxXXeITL9deCNK0ojKHgx/+\n",
       "q1KAeLeWIM4XCEklJD3z/DgSJEjTaiebugZW8scxyZC0Df/0LHWGc6ql/Ck7PF0Hgtyu4kv2evMQ\n",
       "ZClZBFDL6EEg9wFEKxRvFo4jz1e8IoUlOLhOTCuELzw8tWa3NIrZOuBWZQlUND0raKxlu0YgaKDj\n",
       "XbCBoFlsCBPdnHMl0nSj7rTxWwkt2nRf8ZXj0184S1NdSvp7DIuNYqiVqTwW1Ofi6qeeW8ybzDdo\n",
       "SH/AE0DmKTtDPYCFcL2JdkQeQJRNAqCE+ZO1KiIU4M9YIxQbi5U6TNHb9yJ/8A+BHrXqduHGAeA3\n",
       "KMjAGtnVF4hLW72mzQTqmN8dVV4zWXoRC0PfPM1YdykMWCBbnkSX5WJIxgOjTkqVjsKnua/3BQ0F\n",
       "m1Psv+Hl6AK2H5pKjyjfI0wRVNij3Cr0FdY/wzlhSBPvqEY5IjBEJKiWz0HRPuswb/qr8/R2ezyE\n",
       "41B5zWF3lcfGW40/9rK1mRqx7qf6Wx3MPiUXBsx5+Y/HU8f2ngqdYddnwS+sWmOoiM1zfN/Igbdf\n",
       "stXyCC5zbfFmHPFY/1d1xwyguvO1uWH/PdhksGbEnnQDnO/OIi2zb6kshA4Oya35lB3BlV1NrGZu\n",
       "cBaHuOC9D5X2gwr2Wzy3LznabfyAGL/x9mhd9ajLwD3pwLgKJJbsehFbnsD/LQHQi3b/lglvD90S\n",
       "JWx3Lm5Q7fJnZyFj1Dfu4nDQgvg8PdydOSBj/qwezD50pr+exWCdUSR2/34GPA/78V5pXXhRKFeU\n",
       "FMbSs3Kl/qa6gOrrIADAMDTj+ccLjdImYdV0tzoGiXiGBbVgVoyePNLwtXaIZlbWT8OTN2eao9Ez\n",
       "o48IfoEQcvEj7puFcYai7iXjKOpFVe/F+N6ioaUow7SltrbfszmEY11IcVcLBLAxGv/fV3PLOi2q\n",
       "sELiq02b/hriAt5ajuBWURNI0hwW17v08te+84G/v93NN+JHJ0il5w5jBCRtdBAkzJsm2DwetvG6\n",
       "19zfIgM1g5ktDBoCq5Uj05v8x0pO7ZbxWi76KPpha3BeLz0BaBZVuQvtgC4eOib57dcLSET8U/Ku\n",
       "HaBVDsgJcy2lE8fKjA+2Y6NiPGvnHaQLHrhraXQOnM3IJ5AfUadNFInWiQcDGA+zG25i+27zzTs7\n",
       "+i+wAAAKkT2NcIg2E/pmXOqqS1VsvF8ia4cAgWpVinwurWmUCnVN6IOPD9+2Of3fZ/yrZOBTVWVj\n",
       "LDuYvSWyMK6ReYDjeUrItCpSZUhwtcfN0t7EZ5g7wDeTjFlbLRMStZDOjNFTTRa+LW/K2k3UnoMT\n",
       "3OoLHJEelSpyioC1w7tNCclUGQ2sFeqN8hH2Ykq9gSBwpB8hC1sknWCwx0xKBqM+7bEd9T5446uE\n",
       "qRBWf2hNIvcKj8Qf8ZHYxs8NB54+64L1te3px/x9vkdDqORKlOnir7G0I1BwSNGSJ1LEsWIKVnsR\n",
       "r2/3gyRqK3yDyAH3eXwwneaO4U+7+JXYGDSm8lxdeSgMLeIX41pD+OYlxDUzOCZU4KXc93FVPYiT\n",
       "J8sJRZlVkybU1LZjNbl79op8WHTDGCNnPGifsZa4BgMak2JwU+CtA6hc7YOT+CyN5/1cA5zkZysn\n",
       "dXwbI8btgQ/EasJDmc1OWkelgARXSr7okFLP0dbeqsi+TA3OaUJ3st6zmt6QCqw8VXAMC7xWeQ3X\n",
       "pWrpq7KEjP6ZfQ+ZoNgi2/6e4v//tGwFBkd1AgOmzEgyuuPxS67ffdtQ1aIfoJW0iQKAAEh0O378\n",
       "siMtsGM29caBOuAJlAQMrxNYql2iawACDFqts5tURFRKFPMdTWfuHq/PHi/4lVlgAmr1FXGzEW9x\n",
       "CMk6F8TeJP5phUcWFaZs3mSebUqqW6Ib0vAoK8RROsaJFbiSzVdqibaRyyvB59xoulRYdIocy/nb\n",
       "uS93x24Wu4leEFaRUG4FIkMQE0fQrl0PrCkNdY8nxHa2UonlMlCgGfnvv6xoJu6pJdqKYEiYtFLB\n",
       "7Xysdyn7pUskOtWm6SXvbbpPyb9ujpdk7XQRkdid2egthPbUv1la3bBgq6gOJg15M+5HSVV3xs17\n",
       "g88wWvr0Q5zgaYpI7K62IAyKRnNB49v70HtvxR9YB3LNKWH4UIGOlU/3tcCSH6WED+j1ajCM6r3F\n",
       "0niKW3m7FWojn9W0olN7Px/sjk1qJtPsAbJr5JhuJhnVt3gvkq4pixHkJVY1xj3natVIbLmDlqvt\n",
       "MhPTdwwWaf3RKEcxFlQb7rJf6l3boIPyM0DSpnt7Rd/gDxXVbczF6vv6v0HZ4lMcQW4Jpg1bnmhT\n",
       "FDcpROp2M7DfE4GLiBkDWsLEsNti0JGbRLQeddCE3lHJiqPkbK7wtOTnh4fORf6HQIKQ63SuN5wW\n",
       "d+mY1DiKlRMcXsQUEbQAZ5gzcnj60y2KgE8xDOvyYWvspSDNffe3hUow2XEBE9SoUsFpyQ+xn6at\n",
       "bLLo4TdWEmpUe7AZqQo0DQJEYaYL8FyAFePS5rtjL82ny9DgDX/wZWcH2jFpa2sSHFhw58Axi5P1\n",
       "BaWMwXvg/R04C8S+URG6lBgfAr+Nnlq2KqWAmUo1GA8XHh0ccpM1s8kNCYd5I/2tTE8ae7a/ZZbf\n",
       "qDQEIBD2oNqxm/WsjTMJvPuW90Co/bWAeec1Vo4XiowUN7JTWSrNCGVKN1tNlvfkFr/zABPzyF/4\n",
       "zzqZOAfsBWTdTxpC1kdaVdKN//9/NnVcgJWvIN5M+mPvCqplJqvbqkKscUyHUz9wAEEmtX/7awHu\n",
       "kRqq9R2zdsnVmUVCleXFTMmrLodJuzMhKFZ1Q71P1mLZZ94vMcaIkdncDvflI+ftLFFLkii8bmfc\n",
       "KQmWFTPvqD60LEYcH619My9nFkigPO1rRoWQhM5lDtakgFYfNEP9Rx9OR+oBwMI/Iy7fC1UdT4ij\n",
       "lGeDVVz9k0c1BaiaBGmmdzxPN1bBxy1rtx2nIKASQOswdTZ7Xg3Hl8Uaq1tToCRrPkHeyryIKZSq\n",
       "4Km7nzRq4a0g2o9sGK5d/k6DKmNelBrlBMLrpvlhlaijAfSkPEB8qQhK5PHQwIKb9rlweFBp2ZQ3\n",
       "nHLLCApAVr6VLyYUuto0XlsI4TIDxub9Lt3Lwoyqvf6Y4LDzQoniTIMPUkSITlF5oVykNPN31cHB\n",
       "LlVm+6l8TDKyof0Pld9DNkzHd36313LYEAdoIq+59pDfP1Xdq0cbF6q58Rfi2fh+lg9Ppx2LIA8V\n",
       "Uvj636OvM8XjhOCPdjDTU99MO0TE0f2a3yf/a666M275LQq9ocd74hvGBNuFX7Plg95dIdgoNhGW\n",
       "pkTpdPLF0aYXTOKxbOrd4DUoDltbESk33fd4WsbQNPz536hspDjJI3dkgAdbwYLffNhq8a62e1n4\n",
       "fiwb/9Gi1xq0LHYkNgs93kRkF9D5M6OvIzTft7taaSfqDVu2Pnrt6+3ogwOcyh/73KznvTf3FCEx\n",
       "a71POrB6+FM+G5tXt/pzxbOuAnMFB/ZDuvOQqjF3PlhM3PseJjZahIo+hY90reZ88DXWF3Vz516J\n",
       "DYcaclpN2e24EjN+059VRnHFXOl801CPSkXIcjw6CgwPDhBcWKkBfRH8DrG/KNnigUMTQWTNxfdi\n",
       "Fw85fWVJwhJZhZKYCZ4gqjMWhDDTGvau70bqHcJjGlA8wMsL7lRTU/gY3dDSmBd4MKDpLoEdVmyn\n",
       "5QE0rPTziQ0BIIvOSzF26wGs+NHQGJYoXbaA5ChjDX1SKmw31X6vVIyr9NhgET2k570qYJWfkaiC\n",
       "ZK0MiAeId3y8pzyXAkq3gF/C5cXUpyOiJQysSZtXBAD4OcmQGo5R7DUDWf0Q83eWkz0NDiOyiH0e\n",
       "Q/P8BLmP/3Sl01HxEWG6ZmRXrGNxnAtIlp8HN/XaPHWfD9r7ws2r1fPeZRr+r5jYWsTmrswvuGGc\n",
       "dgOSDVPH9m4Cr+EmPblVR6w64rUN9eghEoyxiaU1iA59BUS77f/dRsPBVLLG5sQeqPNxenVZZYIy\n",
       "DILh7L1n+I29AA3IRhrbIDM7bLfjfkgFqR1ul3FHxelzradLHalQYUfPv+it+SXoPSIvJEJP/Kl2\n",
       "C2G29rYrdlkptyqvH+EH+yWIt9lkeuMyXoCSjf9oHjZEI3zFbXCy8hP3E1MpFLomnzBo1qc22Hes\n",
       "M3GtOyd2K4BJ0KxpNhwFGh8SPAEdV9kShC5Mk5H5rM6lejod3Stp7GA/9PSGN4ZxERXQnWXVgVNX\n",
       "MbUnMYGrWK0Dca786x9AIoJk6HMpvoTOvkWwLR7+WS7IouO1RCa428ZqA7W89s1ju5dO1ovcGVru\n",
       "3/2saJfK4zkR2+TcUqlQeaxkTUH+TlQ5s7uuoXi1SSDMGAPgtpvBEK2pFqNmvk7URSJqa5oMzVPD\n",
       "F8yXxV08UTa7qQqQ6SyIc6ZGohklyLJSaKXGmkEqgeaRsNxzk4JEhmLzc2O8dr2a3sSbetKImcLA\n",
       "no1dU9yUnxsyhNuFxkr4rd2MKDCC10Hu1AzOPsnpqNyibKxjnb19QoIjOJ2S9EhKVe2Vd3aS7QcP\n",
       "2Stnr+wHRnJL/pulF7r90Y/CbDfkR73t4YIdHxfVvT9hWIJiA3fcgUL4bbXKQ0dEM4YnsR+g3gcy\n",
       "2DJYXIi+YdlIm4yxBkKhYmJS4OldftMtj4IszHDVmn6DhqgnHYah/ZamtRsPVGRC6U1dpB3d1UxI\n",
       "h5nc++aNvy6cVeXjYVUaxt3iBFNwRZl/0AqIHapYgAAAAwAAAwABYQAABJBBmiRsQS/+tSqAAA1G\n",
       "eAUAKYgP+DTk1H+L7oj4c73+2n/CV6WNugzpp3gcEmASVRAm1ZnxjWfksfRul1D3xbW+uMGrUjsW\n",
       "HzR0V4IL904jNs3AAAA8filCcWEB2G8Bgj3FeEU6Gi5sG+MXWXRnBHBDf2KNr1i09JVILlSWvB7o\n",
       "6uNr3DWJiqYGnu7b6sTayVCUwab++H5HM8PKBEX5GxiEuSaeWxpwUYLzZSaeqLwdfjgoxbDDQ9w5\n",
       "KGC6LO6cn+PkGH09lkhKunh38a+WvWqarlXU8VnbQL1iGi06NcdTH33NTyHeQYoorSPJv7f6vOtT\n",
       "rdBOoG3chvkn8DiJC0pc8dG2QZdbJWBbveE+BSzQQpE1Dm+NeqIHuAqDuHKrj/IPJTt7CCtGL8k8\n",
       "ws0zORzEnsS3MUEENhguJWINgSOHZ36WfaSmp24Yik/RQfON1DJ4jNgnqgaFVpd9W5kQz7jLElLH\n",
       "F6F7l/P7lS4HeB6lPC66ZdAhi9HLxQCnKBaoNQ38trPj2sugTSoSMwCk3P8TlVO9HBm6IrgStt54\n",
       "3u2xkPcDVD6zwSm8GY9aylZB/vCRdEC2BdknhFHEdYi7k5ImrKFabqm8tNkt7pv4dOUYwRO9OnmE\n",
       "F4mKQttjVOxfMQFmzHelD3XzV8TAUZbAW1pNdvEjxYzJeRDJDkyIhfXZS3w1hYbZJw1e781zjtqq\n",
       "0Mz5p3scuti1ldZ6I9uEO0cS0yvue3PbXL/yyxsMs7Yw1WC/Ys1g8BJvoj+Tflu1m81rvlz3gYC7\n",
       "zs3hvnL1YUE7pQut5xpi5FcPwu5o++phsli6hj9xMVdvjqzeKd6cr+bgrQtKoKHI1OZ+t/b5TKZV\n",
       "mmpxOEkbw5iE151vFUFtFzkQJ1sUFhjWUQhmkgG5hIJZMvPqqMbb5zSakrLkUU92aSWvnUL8DNfK\n",
       "A7WQfcPzKCtSsdDI6/xfev4llr9aNBCmWirIFPjffQVnK4XoG3Ee5FktPodk8ci3YiDxerSdr+FI\n",
       "yw0Hohpqbp5byfVHGpdnnoHRIq/D+9EAfOQveWJuxEcZAtSV0mk8W/7OQp36yvuFKT6pqUOEj/b7\n",
       "3huFDvr1V+VBKZvTAIFdv11PU8pnxqWNFzzzKFKvrX4URj/iiR1vkZszA6OvwsFKFJ6RP+hxIbdC\n",
       "RGgFiCx8stPWP/ag7R5bdB37T3nP58k3U/rzxVsdH71ChqhYAsiJP0bamOY3uIaepRnSyb32/sDP\n",
       "7vUbuED2rUPUpaplk+EHM/x2c3LzwJ9DtIP4mrO+03m0E/T8DDwWeUVp8Ll/opzL1jl3icyI5ghu\n",
       "615Giipor+BBUkgcta8r8cB01LoU4KQK8a99Ri6U4RHM9VcD07/Tv41eRLlLhGwopDD/78Mq/760\n",
       "lrL33hIxXaIbr+PGUWDhaDVp1vK//8fgRKZIkfEoEE2nVbUEYYfWvxC+kaFSfvhg8XWt8ftaFDxM\n",
       "YvMHAaDwGmMdkSlVdVr/9xO1guQGFeEGF4ZSv970NavjhnMwQbgNnt18xXPOtfyUVyHZDpcjqnS7\n",
       "iMwhn41JNNoBaPl60pdAAAAB+UGeQniCHwAAEFQ7U35yHdjWsvvBpAAACCijIiFmgyt3ZsK/2tAB\n",
       "fXz4HH+v1wwjAW/LqxfRkknTL49OxMkwMJLagjgrfmS4yMK9trta1YevTfW3L75TGinw9H2RwDJl\n",
       "d5Oufq8KdGhGundlH4LoteceR7PGsaYYsHHg+FZmcT5tQRCJ0AtbrLi/ES2EtYV1cX5aP9e4h/Ce\n",
       "WWtgXMdSlhJ5gnbXIUbRdrR1uiSBEAF5CxvqJ2gHv162kuiA2e9g+THtPsH8S0p4baonlnMgYEKL\n",
       "aOynvQmn+NJxXrwF0c77Q16CJzDLSCxlq4OwH+f95ErVMwPWKRmuKdV9MhAAMwGR0hpVeSp6Lv6y\n",
       "loqfmsN+YQ3V14tTc7l6O/p/6uaPRJqe9UbH6k9NkS1p72jMnvMF0CpuzYhCxapG6XNz9fIlCUFE\n",
       "B3sZk0dNi6gVlctEA4BEw3Kzl32CGv0hWbWE3SIzrDv1eK6fjhfrr19cDzp/idvZYaJmip6X8Dlt\n",
       "roxEN5J5nWr7kAW7iXR85kaFKEF97ao6801MZtwK/bfv8e42JYicIm51NdnFf/Z6Pt/ag2ZfBem/\n",
       "rRzJpKfVMLl88R0TdB4/hyJzpPjBhhM7oFVtEx3I1h3vznVl2CPkg2jZm6fh/eyyts817W9gx/lZ\n",
       "iIp0afiBNbd/BQUAAAHXAZ5hdEP/AAAkq5Jj/aiOtCxgAAADAOI9UENzOIAJ2+PLkfT/kWlnP6hK\n",
       "JlhM3/LxlMoJdd+tUzdaM3xdIvs6qoMxAKCOsKz4Mvc0NLeXHHk+oapTxPdZ3EyaV8O2fpSYCuuw\n",
       "Lz0qYsiZpZEASY3z5TxcgoGtQ9CeGseMpryQXrWSbC8lWHy+zyYlvcuql9B4v2RfffF3+Zz+/KBz\n",
       "9coQMUYtJTJsanSJ5zkDpt4tETAs2xrAPVGzFkf3y02ptIPIsnoA8D7dTWPPUHEGROX1OTqBogVZ\n",
       "XcBNRaY9jbvjIdO4Xx4jiIeoGCHIcUScKaBarfYynSRR5MwOFjcWflGicOvB6jPUZWrgSD2bo9GC\n",
       "8bBKptsXEetJjWO8CNtmHwAJXQg6tkE9z3NfdsoKWUsz6s5V1t/h9tnOmo38LKIFfVVoctqyr9U/\n",
       "71o6AX6oEQKzVvB6129YDltfPtt021VWTGVmbiWW0xznoOD+QS2DINX45Iavc8z3RziBu3TYJYa6\n",
       "P6UhbXspYOSSWwkwV0m4qU02+5WXkF6/kF5JT6VVmE5i8jsgYiZeElRkWJ0/bAd3FMmezvv7Kkqr\n",
       "wBY8s5wWyjYOSa5p/bvX0aUBEeHGr7jwXglLpg2YAAABIwGeY2pD/wAAAwAAAwAAGH8dz2wHJZE9\n",
       "qfr8qZq2T+tAwAQ4nwPutt7LM4AkiP37fpTwLj2f825DGsnhXVjHBZI22F0hrdtI6ezMH8ijRPDp\n",
       "jLad4vZR37CFDypScx9KJiAUYTIDM5IkjsnanHxmetX6yuXhRZ6zZCeNoDDKch50NolYu0K2Y7+M\n",
       "8kWpsyoE3U8CjqRQsoPWNuT+gw9vme/wBK7dA1VLHf5z4gImOjvlWXjzSSxvFPPdOnvndA17mWDb\n",
       "cS9ZTOknleGbkoDkLZHWPliqgIFSUb7yzrHJdsCBCNXQADYmk7nPmU2ESqJOh3S6iJQZ1iKlCEQS\n",
       "XDZ1qNEM9ST+1CucPSh4+5LuSPD89bqrD2yzRfa0jU6ACtBEB+vDPwAAAfJBmmZJqEFomUwU8Ev/\n",
       "/rUqgAALNlo/4SvQkAHroUFeUcAAALVkRR39efBMVFkN6mR1HCSCHc0MlX5OvkQ0yFH6weuIAMoB\n",
       "UjEGUGf4n4e4m9vKWKuxCCEuR2VvSH+J7HXjiGsgrjWr8jVnxqXzSrC2D/k7vzEtiy1b3yUVSi3x\n",
       "vgdfbjs5d100aW2R3g3WzIk4BUY/10En4WdMMnG93eqWG2mW1037dIQCmNevTglLy/AG47y1ZKby\n",
       "UlXAWpFTegezckZPspKemhE7wV3aG7jhO9NIN+upseSM9pCrZALgUC7eRZNdIFvSGz+MOrA4w7Pr\n",
       "lgwBlSahu8j5k09TwhefK+4wsLwC6vTjiJIX4vZq9wWEVLstfQlYGWQ1yf0GHISKtr0vQ7IztdE1\n",
       "/pBqaUNATIv+/QCAbp4i4ImPIezIK3lv9thPJrAmpvPbnm5AHz/qCoNUXZu5i6VLkiDpb94qFEeE\n",
       "k2YvK2RL9t3tOsmrR4tsNL2nSgZ6J2FwDc6uMYy0MJgzZ0PRPHodGiAB+wP55HumwAIYuOibSoUE\n",
       "lWfPgRE4oBcV/mlIsE+cwFj2R/wMokO1b/eWoJWmhp+4UNFGiVyH+uvuuwnw7ppHWFrAzQHIRTIe\n",
       "nlAFthjeQv/E6MRjIUdD1Sm+crifjxEeOYDMpIEAAAEAAZ6FakP/AAAeECzEIAABVG1drzegAnb5\n",
       "Erp4rMUi7U0cVsXoMD1z3bdjpwIoFi7QXlVOwKxNO+mRLf9nXVWbhK/0xSaDfCJkLaE8tITQD2OS\n",
       "E//Ujxr/UrpaTmhiButhp7Gz0HXrCzJpSUjaiRqLctMFZ3Fvbi8UCKv8lPINOCuUhaCOXsWoNlzf\n",
       "BDI1f1wGKfyuF71CekG/xWPxx9a6m8EmsGlI8+LISsA7Roc1gUcR4YnpGuk8MoFgSlkohc9osVNq\n",
       "MvVk2D++Mw7r92n+b6FCcIfN3mm1Rpl3jktF/2MEyJ6jSaCjiWzYU6Qr8BPJ3TKUiEvIv4lHVJpe\n",
       "KxfZ0wAAAXpBmolJ4QpSZTAh//6plgAAAwAAAwAbJZhNlyAQAhT4kgkrfhLAtn+Y0+8oBU2I6p38\n",
       "taPb/o0gvJJDFoa9DaxiSZr8DqrLsChMqbLlcEwH6JNqE6P9q9SKUYMsj8L1VcmqBrK7qplor3K6\n",
       "KDrs78KVOlmFqdY1jf/Oyj1d3Ag2FTFnsCcRbU9mXDqQ2CorLWEy2OBMtzYx9YU/rbff7UOxuPKY\n",
       "vqmagoPoSbAD/o896aRVTN99y3xAeeNDt+yS25K4MDrT+OmdA41YJ3WOC6ijti/L+8LlJY0wnXjb\n",
       "eU5yaD4+oF/Zvmd1ha13GfVrU+CbxU0mGLdYrxncsQFMrhbtAgGn6KY2ge62aEXXvojKNdu7R7t7\n",
       "FO/KFV4Wcf364FKN/FDS36VG901cIlJLw9nUgpmpV/kI+H1WpzY7FdbQZLBsEGUHMoNmi54w5pwK\n",
       "UCs3dM1EUmn7eqBkeBzcscY/hi6TT/i6yJo75aKvC8944SCNrK73py5t9VMAAAE/QZ6nRTRMEP8A\n",
       "AAMAAAMABFVtnuhrNzYHqnSIAB15Vxx3GVgYFjANsG3pf1umeqbjZUzDnQ6ABn0Oyxf3/ThzdExu\n",
       "rpzYTdDO4ptMnDy4mPJl5lYk+MYd9TJ9geKicMHuO/T/z+TJELVKirTmNc+JPBlRiLBSJbbp5fhG\n",
       "nvYLrb6JR1++EqJAm8p1bkEyhuQXRYjz69QRFmUplijtPkl7VVqZG29jESN65QJJewdl9oohsIRS\n",
       "LrOog++GThkGRxlD86W2MaSW/JNZL1CY/+L0XyP/f2YrDSqQCvYhABMtaP/85xAZz0on1PPLdZwc\n",
       "If1xnPsddQPbOhDl6LE0T7Fy94Jb122VHzqQS32gmvCLEHyg8MbXz0LR/vNXwH6zY/1xcwZPwzn0\n",
       "mNy+Oc6eDekVumr4k3e79lmxwx7dseMWzAAAARcBnshqQ/8AAAMAAAMACawbLKBnZw57wAbIP3Tu\n",
       "tU4jD1Qzth7M/sywCTFadrOsHOZoBG/gdPYHxaD4e1s3AgpBsq6aAEI2xmJxvELrQo3XCT6YdLRb\n",
       "lBa+LpMDaUWZUDXQJB+IHni7oxqE0BzH+33MMrsZcxSPuPeJx5tMdSnRSqfZ1gVmBN0dX6C5/UrH\n",
       "da9pf3fOq64nVJY9jxLDM2x+JxKbS0786sretmEYHQ4Bk3AY8zUGrOsDxLdopjcklXaSslCzm7U3\n",
       "LaWEf6MmZFQpLMu5grHM2uGZcSgd65d9MYDTB+PS8ecOmngIft8FD4banz1ykQBxFm/J4Qv/UfGB\n",
       "UKkriOrnIx3ce8H+ngkchz/Ke1ERCigAAAOfbW9vdgAAAGxtdmhkAAAAAAAAAAAAAAAAAAAD6AAA\n",
       "B9AAAQAAAQAAAAAAAAAAAAAAAAEAAAAAAAAAAAAAAAAAAAABAAAAAAAAAAAAAAAAAABAAAAAAAAA\n",
       "AAAAAAAAAAAAAAAAAAAAAAAAAAAAAAAAAgAAAsl0cmFrAAAAXHRraGQAAAADAAAAAAAAAAAAAAAB\n",
       "AAAAAAAAB9AAAAAAAAAAAAAAAAAAAAAAAAEAAAAAAAAAAAAAAAAAAAABAAAAAAAAAAAAAAAAAABA\n",
       "AAAAAtAAAALQAAAAAAAkZWR0cwAAABxlbHN0AAAAAAAAAAEAAAfQAAAQAAABAAAAAAJBbWRpYQAA\n",
       "ACBtZGhkAAAAAAAAAAAAAAAAAAAoAAAAUABVxAAAAAAALWhkbHIAAAAAAAAAAHZpZGUAAAAAAAAA\n",
       "AAAAAABWaWRlb0hhbmRsZXIAAAAB7G1pbmYAAAAUdm1oZAAAAAEAAAAAAAAAAAAAACRkaW5mAAAA\n",
       "HGRyZWYAAAAAAAAAAQAAAAx1cmwgAAAAAQAAAaxzdGJsAAAAtHN0c2QAAAAAAAAAAQAAAKRhdmMx\n",
       "AAAAAAAAAAEAAAAAAAAAAAAAAAAAAAAAAtAC0ABIAAAASAAAAAAAAAABAAAAAAAAAAAAAAAAAAAA\n",
       "AAAAAAAAAAAAAAAAAAAAAAAAGP//AAAAMmF2Y0MBZAAf/+EAGWdkAB+s2UC0FuhAAAADAEAAAAMC\n",
       "g8YMZYABAAZo6+PLIsAAAAAcdXVpZGtoQPJfJE/FujmlG88DI/MAAAAAAAAAGHN0dHMAAAAAAAAA\n",
       "AQAAAAoAAAgAAAAAFHN0c3MAAAAAAAAAAQAAAAEAAABYY3R0cwAAAAAAAAAJAAAAAQAAEAAAAAAB\n",
       "AAAoAAAAAAEAABAAAAAAAQAAAAAAAAABAAAIAAAAAAEAABgAAAAAAQAACAAAAAABAAAgAAAAAAIA\n",
       "AAgAAAAAHHN0c2MAAAAAAAAAAQAAAAEAAAAKAAAAAQAAADxzdHN6AAAAAAAAAAAAAAAKAAAVlQAA\n",
       "BJQAAAH9AAAB2wAAAScAAAH2AAABBAAAAX4AAAFDAAABGwAAABRzdGNvAAAAAAAAAAEAAAAsAAAA\n",
       "YnVkdGEAAABabWV0YQAAAAAAAAAhaGRscgAAAAAAAAAAbWRpcmFwcGwAAAAAAAAAAAAAAAAtaWxz\n",
       "dAAAACWpdG9vAAAAHWRhdGEAAAABAAAAAExhdmY1Ny44My4xMDA=\n",
       "\">\n",
       "  Your browser does not support the video tag.\n",
       "</video>"
      ]
     },
     "metadata": {},
     "output_type": "display_data"
    }
   ],
   "source": [
    "display_html(HTML(line_ani.to_html5_video()))"
   ]
  }
 ],
 "metadata": {
  "kernelspec": {
   "display_name": "Python 3",
   "language": "python",
   "name": "python3"
  },
  "language_info": {
   "codemirror_mode": {
    "name": "ipython",
    "version": 3
   },
   "file_extension": ".py",
   "mimetype": "text/x-python",
   "name": "python",
   "nbconvert_exporter": "python",
   "pygments_lexer": "ipython3",
   "version": "3.6.9"
  }
 },
 "nbformat": 4,
 "nbformat_minor": 2
}
