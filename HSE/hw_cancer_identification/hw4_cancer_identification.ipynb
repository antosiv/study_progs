{
 "cells": [
  {
   "cell_type": "code",
   "execution_count": 75,
   "metadata": {},
   "outputs": [],
   "source": [
    "import pandas as pd\n",
    "import re\n",
    "import gseapy as gp\n",
    "import rpy2.robjects as ro\n",
    "from tqdm.notebook import tqdm\n",
    "from rpy2.robjects.conversion import localconverter\n",
    "from rpy2.robjects import pandas2ri"
   ]
  },
  {
   "cell_type": "code",
   "execution_count": 55,
   "metadata": {},
   "outputs": [],
   "source": [
    "gene_symbols = pd.read_csv('genes1.tsv', sep='\\t')['rownames(eset)'].tolist()"
   ]
  },
  {
   "cell_type": "code",
   "execution_count": 57,
   "metadata": {},
   "outputs": [
    {
     "name": "stderr",
     "output_type": "stream",
     "text": [
      "R[write to console]: 'select()' returned 1:many mapping between keys and columns\n",
      "\n"
     ]
    }
   ],
   "source": [
    "id_map_r = ro.r(\"\"\"\n",
    "library(org.Hs.eg.db)\n",
    "function (symbols) { \n",
    "    return(select(org.Hs.eg.db, symbols, c(\"ENTREZID\"), \"ALIAS\"))\n",
    "}\n",
    "\"\"\")\n",
    "with localconverter(ro.default_converter + pandas2ri.converter):\n",
    "    id_map = id_map_r(ro.vectors.StrVector(gene_symbols))\n",
    "id_map_clear = id_map.drop_duplicates('ENTREZID', keep='first').set_index('ALIAS')['ENTREZID'].to_dict()"
   ]
  },
  {
   "cell_type": "code",
   "execution_count": 63,
   "metadata": {},
   "outputs": [],
   "source": [
    "dataset_list = list()\n",
    "for i in range(13):\n",
    "    expressions = pd.read_csv(f'expr{i + 1}.tsv', sep='\\t')\n",
    "    expressions['gene'] = pd.read_csv(f'genes{i + 1}.tsv', sep='\\t')['rownames(eset)']\n",
    "    expressions['gene'] = expressions['gene'].apply(lambda x: id_map_clear.get(x))\n",
    "    expressions = expressions.loc[~expressions['gene'].isna()]\n",
    "    expressions.set_index('gene', inplace=True, drop=True)\n",
    "    expressions = expressions.T\n",
    "    expressions.index.rename('sample', inplace=True)\n",
    "    expressions['sample_type'] = pd.read_csv(f'anno{i + 1}.tsv', sep='\\t')['Group'].tolist()\n",
    "    dataset_list.append(expressions)"
   ]
  },
  {
   "cell_type": "code",
   "execution_count": 65,
   "metadata": {
    "scrolled": true
   },
   "outputs": [
    {
     "name": "stderr",
     "output_type": "stream",
     "text": [
      "R[write to console]: Using cached version from 2020-12-21 11:53:08\n",
      "\n"
     ]
    }
   ],
   "source": [
    "gensets_r = ro.r(\"\"\"\n",
    "library('EnrichmentBrowser')\n",
    "getGenesets('hsa', 'kegg')\n",
    "\"\"\")\n",
    "gensets = {item[0]: list(item[1]) for item in zip(gensets_r.names, gensets_r)}"
   ]
  },
  {
   "cell_type": "code",
   "execution_count": 96,
   "metadata": {},
   "outputs": [],
   "source": [
    "target_keys = {key for key in gensets.keys() if re.search('[cC]ancer|[cC]arcinoma', key) is not None}\n",
    "target_keys = target_keys.difference({\n",
    "    'hsa05200_Pathways_in_cancer',\n",
    "    'hsa05202_Transcriptional_misregulation_in_cancer',\n",
    "    'hsa05205_Proteoglycans_in_cancer',\n",
    "    'hsa05206_MicroRNAs_in_cancer',\n",
    "    'hsa05235_PD-L1_expression_and_PD-1_checkpoint_pathway_in_cancer',\n",
    "    'hsa05231_Choline_metabolism_in_cancer',\n",
    "    'hsa05230_Central_carbon_metabolism_in_cancer'\n",
    "})"
   ]
  },
  {
   "cell_type": "code",
   "execution_count": 97,
   "metadata": {},
   "outputs": [],
   "source": [
    "target_gensets = {\n",
    "    key: value for key, value in gensets.items() if key in target_keys\n",
    "}"
   ]
  },
  {
   "cell_type": "code",
   "execution_count": 99,
   "metadata": {},
   "outputs": [
    {
     "data": {
      "application/vnd.jupyter.widget-view+json": {
       "model_id": "08b5873e01c349268c65a1235fe0ce22",
       "version_major": 2,
       "version_minor": 0
      },
      "text/plain": [
       "HBox(children=(HTML(value=''), FloatProgress(value=1.0, bar_style='info', layout=Layout(width='20px'), max=1.0…"
      ]
     },
     "metadata": {},
     "output_type": "display_data"
    },
    {
     "name": "stdout",
     "output_type": "stream",
     "text": [
      "\n"
     ]
    }
   ],
   "source": [
    "raw_gsea_result = list()\n",
    "for i, dataset in tqdm(enumerate(dataset_list)):\n",
    "    raw_gsea_result.append(\n",
    "        gp.gsea(\n",
    "            dataset.iloc[:, :-1].T,\n",
    "            gene_sets=target_gensets,\n",
    "            cls=dataset['sample_type'].values,\n",
    "            permutation_num=1000,\n",
    "            outdir=f\"gsea-{i + 1}\",\n",
    "            permutation_type=\"phenotype\",\n",
    "            method=\"signal_to_noise\",\n",
    "            processes=1,\n",
    "            seed=7,\n",
    "            no_plot=True,\n",
    "            verbose=False\n",
    "        )\n",
    "    )"
   ]
  },
  {
   "cell_type": "code",
   "execution_count": 134,
   "metadata": {},
   "outputs": [],
   "source": [
    "passed_gensets = list()\n",
    "for gsea_result in raw_gsea_result:\n",
    "    passed_gensets.append(\n",
    "        sorted([(key, value['pval'], value['fdr']) for key, value in gsea_result.results.items() if value['pval'] < 0.05],\n",
    "               key=lambda x: x[2])\n",
    "    )"
   ]
  },
  {
   "cell_type": "code",
   "execution_count": 135,
   "metadata": {},
   "outputs": [
    {
     "data": {
      "text/plain": [
       "[[('hsa05217_Basal_cell_carcinoma', 0.0, 0.0),\n",
       "  ('hsa05224_Breast_cancer', 0.0, 0.0),\n",
       "  ('hsa05210_Colorectal_cancer', 0.0, 0.09473684210526316),\n",
       "  ('hsa05225_Hepatocellular_carcinoma', 0.0, 0.18947368421052632)],\n",
       " [('hsa05213_Endometrial_cancer', 0.0, 0.0),\n",
       "  ('hsa05219_Bladder_cancer', 0.0, 0.0),\n",
       "  ('hsa05222_Small_cell_lung_cancer', 0.0, 0.0),\n",
       "  ('hsa05225_Hepatocellular_carcinoma', 0.0, 0.0),\n",
       "  ('hsa05210_Colorectal_cancer', 0.0, 0.019417475728155338),\n",
       "  ('hsa05215_Prostate_cancer', 0.0, 0.03260869565217391),\n",
       "  ('hsa05216_Thyroid_cancer', 0.0, 0.09708737864077671)],\n",
       " [('hsa05219_Bladder_cancer', 0.0, 0.0)],\n",
       " [('hsa05216_Thyroid_cancer', 0.0, 0.0),\n",
       "  ('hsa05215_Prostate_cancer', 0.0, 0.189873417721519),\n",
       "  ('hsa05219_Bladder_cancer', 0.0, 0.19891500904159132)],\n",
       " [('hsa05211_Renal_cell_carcinoma', 0.0, 0.5591397849462365),\n",
       "  ('hsa05212_Pancreatic_cancer', 0.0, 0.5591397849462366)],\n",
       " [('hsa05222_Small_cell_lung_cancer', 0.0, 0.19402985074626863),\n",
       "  ('hsa05226_Gastric_cancer', 0.0, 0.31529850746268656),\n",
       "  ('hsa05217_Basal_cell_carcinoma', 0.0, 0.5820895522388059)],\n",
       " [('hsa05211_Renal_cell_carcinoma', 0.0, 0.0),\n",
       "  ('hsa05212_Pancreatic_cancer', 0.0, 0.0),\n",
       "  ('hsa05215_Prostate_cancer', 0.0, 0.0),\n",
       "  ('hsa05219_Bladder_cancer', 0.0, 0.0),\n",
       "  ('hsa05222_Small_cell_lung_cancer', 0.0, 0.0),\n",
       "  ('hsa05217_Basal_cell_carcinoma', 0.0, 0.029411764705882353),\n",
       "  ('hsa05216_Thyroid_cancer', 0.0, 0.10084033613445377),\n",
       "  ('hsa05225_Hepatocellular_carcinoma', 0.0, 0.2823529411764706)],\n",
       " [('hsa05210_Colorectal_cancer', 0.0, 0.0),\n",
       "  ('hsa05211_Renal_cell_carcinoma', 0.0, 0.0),\n",
       "  ('hsa05212_Pancreatic_cancer', 0.0, 0.0),\n",
       "  ('hsa05219_Bladder_cancer', 0.0, 0.0),\n",
       "  ('hsa05213_Endometrial_cancer', 0.0, 0.03209876543209876),\n",
       "  ('hsa05223_Non-small_cell_lung_cancer', 0.0, 0.10699588477366254),\n",
       "  ('hsa05215_Prostate_cancer', 0.0, 0.12037037037037036)],\n",
       " [('hsa05224_Breast_cancer', 0.0, 0.09904761904761906),\n",
       "  ('hsa05226_Gastric_cancer', 0.0, 0.104),\n",
       "  ('hsa05210_Colorectal_cancer', 0.0, 0.11555555555555555),\n",
       "  ('hsa05215_Prostate_cancer', 0.0, 0.13),\n",
       "  ('hsa05211_Renal_cell_carcinoma', 0.0, 0.17333333333333334),\n",
       "  ('hsa05212_Pancreatic_cancer', 0.0, 0.1925925925925926),\n",
       "  ('hsa05223_Non-small_cell_lung_cancer', 0.0, 0.26),\n",
       "  ('hsa05225_Hepatocellular_carcinoma', 0.0, 0.3466666666666667)],\n",
       " [('hsa05222_Small_cell_lung_cancer', 0.0, 0.0),\n",
       "  ('hsa05225_Hepatocellular_carcinoma', 0.0, 0.1822429906542056),\n",
       "  ('hsa05224_Breast_cancer', 0.0, 0.27336448598130836)],\n",
       " [('hsa05212_Pancreatic_cancer', 0.0, 0.0),\n",
       "  ('hsa05216_Thyroid_cancer', 0.0, 0.0),\n",
       "  ('hsa05222_Small_cell_lung_cancer', 0.0, 0.0),\n",
       "  ('hsa05223_Non-small_cell_lung_cancer', 0.0, 0.0),\n",
       "  ('hsa05225_Hepatocellular_carcinoma', 0.0, 0.0),\n",
       "  ('hsa05226_Gastric_cancer', 0.0, 0.0),\n",
       "  ('hsa05213_Endometrial_cancer', 0.0, 0.026954177897574125),\n",
       "  ('hsa05215_Prostate_cancer', 0.0, 0.03537735849056604),\n",
       "  ('hsa05224_Breast_cancer', 0.0, 0.052410901467505246)],\n",
       " [('hsa05212_Pancreatic_cancer', 0.0, 0.4430379746835443),\n",
       "  ('hsa05210_Colorectal_cancer', 0.0, 0.5063291139240507)],\n",
       " [('hsa05216_Thyroid_cancer', 0.0, 0.0),\n",
       "  ('hsa05211_Renal_cell_carcinoma', 0.0, 0.5921052631578947)]]"
      ]
     },
     "execution_count": 135,
     "metadata": {},
     "output_type": "execute_result"
    }
   ],
   "source": [
    "passed_gensets"
   ]
  },
  {
   "cell_type": "code",
   "execution_count": 111,
   "metadata": {},
   "outputs": [],
   "source": [
    "from scipy import stats\n",
    "from statsmodels.stats import multitest"
   ]
  },
  {
   "cell_type": "code",
   "execution_count": 121,
   "metadata": {},
   "outputs": [],
   "source": [
    "def diff_pval(dataset):\n",
    "    result = dict()\n",
    "    normal_samples = dataset.index[dataset['sample_type'] == 'norm'].tolist()\n",
    "    tumor_samples = dataset.index[dataset['sample_type'] == 'cancer'].tolist()\n",
    "    for gene, row in dataset.iloc[:, :-1].T.iterrows():\n",
    "        result[gene] = stats.mannwhitneyu(row[normal_samples], row[tumor_samples], alternative='greater').pvalue\n",
    "    result = pd.Series(result)\n",
    "    return pd.Series(multitest.multipletests(result)[1], index=result.index)"
   ]
  },
  {
   "cell_type": "code",
   "execution_count": 122,
   "metadata": {
    "scrolled": true
   },
   "outputs": [
    {
     "data": {
      "application/vnd.jupyter.widget-view+json": {
       "model_id": "78cff64bb318479a8415696327ef0725",
       "version_major": 2,
       "version_minor": 0
      },
      "text/plain": [
       "HBox(children=(HTML(value=''), FloatProgress(value=0.0, max=13.0), HTML(value='')))"
      ]
     },
     "metadata": {},
     "output_type": "display_data"
    },
    {
     "name": "stdout",
     "output_type": "stream",
     "text": [
      "\n"
     ]
    }
   ],
   "source": [
    "diff_result = list()\n",
    "for dataset in tqdm(dataset_list):\n",
    "    diff_result.append(diff_pval(dataset))"
   ]
  },
  {
   "cell_type": "code",
   "execution_count": 131,
   "metadata": {},
   "outputs": [],
   "source": [
    "genes_from_gene_sets = set(diff_result[0].index).intersection(\n",
    "    set().union(*(value for value in target_gensets.values()))\n",
    ")"
   ]
  },
  {
   "cell_type": "code",
   "execution_count": 137,
   "metadata": {},
   "outputs": [
    {
     "data": {
      "application/vnd.jupyter.widget-view+json": {
       "model_id": "ff5880ebab984d399cd12b6df14472e2",
       "version_major": 2,
       "version_minor": 0
      },
      "text/plain": [
       "HBox(children=(HTML(value=''), FloatProgress(value=0.0, max=13.0), HTML(value='')))"
      ]
     },
     "metadata": {},
     "output_type": "display_data"
    },
    {
     "name": "stdout",
     "output_type": "stream",
     "text": [
      "\n"
     ]
    }
   ],
   "source": [
    "ora_result = list()\n",
    "for diff_data in tqdm(diff_result):\n",
    "    significant_genes = set(diff_data.index[diff_data < 0.05]).intersection(genes_from_gene_sets)\n",
    "    geneset_p_values = dict()\n",
    "    for geneset, genes in target_gensets.items():\n",
    "        intersection_size = len(set(genes).intersection(significant_genes))\n",
    "        geneset_p_values[geneset] = stats.fisher_exact(\n",
    "            [[intersection_size, len(genes) - intersection_size],\n",
    "             [len(significant_genes), len(genes_from_gene_sets)]],\n",
    "            alternative='less'\n",
    "        )[1]\n",
    "    ora_result.append(geneset_p_values)"
   ]
  },
  {
   "cell_type": "code",
   "execution_count": 138,
   "metadata": {},
   "outputs": [
    {
     "data": {
      "text/plain": [
       "[{'hsa05210_Colorectal_cancer': 1.0,\n",
       "  'hsa05211_Renal_cell_carcinoma': 1.0,\n",
       "  'hsa05212_Pancreatic_cancer': 1.0,\n",
       "  'hsa05213_Endometrial_cancer': 1.0,\n",
       "  'hsa05215_Prostate_cancer': 1.0,\n",
       "  'hsa05216_Thyroid_cancer': 1.0,\n",
       "  'hsa05217_Basal_cell_carcinoma': 1.0,\n",
       "  'hsa05219_Bladder_cancer': 1.0,\n",
       "  'hsa05222_Small_cell_lung_cancer': 1.0,\n",
       "  'hsa05223_Non-small_cell_lung_cancer': 1.0,\n",
       "  'hsa05224_Breast_cancer': 1.0,\n",
       "  'hsa05225_Hepatocellular_carcinoma': 1.0,\n",
       "  'hsa05226_Gastric_cancer': 1.0},\n",
       " {'hsa05210_Colorectal_cancer': 0.8107654766145244,\n",
       "  'hsa05211_Renal_cell_carcinoma': 0.8789599485811316,\n",
       "  'hsa05212_Pancreatic_cancer': 0.7051019992651574,\n",
       "  'hsa05213_Endometrial_cancer': 0.709813470753903,\n",
       "  'hsa05215_Prostate_cancer': 0.9795550740574336,\n",
       "  'hsa05216_Thyroid_cancer': 0.650328136522212,\n",
       "  'hsa05217_Basal_cell_carcinoma': 0.6122890366861372,\n",
       "  'hsa05219_Bladder_cancer': 0.816569967063365,\n",
       "  'hsa05222_Small_cell_lung_cancer': 0.642202612655192,\n",
       "  'hsa05223_Non-small_cell_lung_cancer': 0.6715920009294549,\n",
       "  'hsa05224_Breast_cancer': 0.1996438258779533,\n",
       "  'hsa05225_Hepatocellular_carcinoma': 0.1546042281039265,\n",
       "  'hsa05226_Gastric_cancer': 0.24492496574127282},\n",
       " {'hsa05210_Colorectal_cancer': 0.4935771585054981,\n",
       "  'hsa05211_Renal_cell_carcinoma': 0.8256304882927662,\n",
       "  'hsa05212_Pancreatic_cancer': 0.22518367492047098,\n",
       "  'hsa05213_Endometrial_cancer': 0.3015678825671855,\n",
       "  'hsa05215_Prostate_cancer': 0.7961650196234766,\n",
       "  'hsa05216_Thyroid_cancer': 0.6760254303755961,\n",
       "  'hsa05217_Basal_cell_carcinoma': 0.23856250069552093,\n",
       "  'hsa05219_Bladder_cancer': 0.07854484815276565,\n",
       "  'hsa05222_Small_cell_lung_cancer': 0.5429926913107864,\n",
       "  'hsa05223_Non-small_cell_lung_cancer': 0.40745731415373276,\n",
       "  'hsa05224_Breast_cancer': 0.013186978019211617,\n",
       "  'hsa05225_Hepatocellular_carcinoma': 0.5576170941844638,\n",
       "  'hsa05226_Gastric_cancer': 0.279040396525421},\n",
       " {'hsa05210_Colorectal_cancer': 1.0,\n",
       "  'hsa05211_Renal_cell_carcinoma': 1.0,\n",
       "  'hsa05212_Pancreatic_cancer': 1.0,\n",
       "  'hsa05213_Endometrial_cancer': 1.0,\n",
       "  'hsa05215_Prostate_cancer': 1.0,\n",
       "  'hsa05216_Thyroid_cancer': 1.0,\n",
       "  'hsa05217_Basal_cell_carcinoma': 1.0,\n",
       "  'hsa05219_Bladder_cancer': 1.0,\n",
       "  'hsa05222_Small_cell_lung_cancer': 1.0,\n",
       "  'hsa05223_Non-small_cell_lung_cancer': 1.0,\n",
       "  'hsa05224_Breast_cancer': 1.0,\n",
       "  'hsa05225_Hepatocellular_carcinoma': 1.0,\n",
       "  'hsa05226_Gastric_cancer': 1.0},\n",
       " {'hsa05210_Colorectal_cancer': 1.0,\n",
       "  'hsa05211_Renal_cell_carcinoma': 1.0,\n",
       "  'hsa05212_Pancreatic_cancer': 1.0,\n",
       "  'hsa05213_Endometrial_cancer': 1.0,\n",
       "  'hsa05215_Prostate_cancer': 1.0,\n",
       "  'hsa05216_Thyroid_cancer': 1.0,\n",
       "  'hsa05217_Basal_cell_carcinoma': 1.0,\n",
       "  'hsa05219_Bladder_cancer': 1.0,\n",
       "  'hsa05222_Small_cell_lung_cancer': 1.0,\n",
       "  'hsa05223_Non-small_cell_lung_cancer': 1.0,\n",
       "  'hsa05224_Breast_cancer': 1.0,\n",
       "  'hsa05225_Hepatocellular_carcinoma': 1.0,\n",
       "  'hsa05226_Gastric_cancer': 1.0},\n",
       " {'hsa05210_Colorectal_cancer': 0.14738091449363805,\n",
       "  'hsa05211_Renal_cell_carcinoma': 0.2771761610172139,\n",
       "  'hsa05212_Pancreatic_cancer': 0.21515310172094598,\n",
       "  'hsa05213_Endometrial_cancer': 0.40228313841105345,\n",
       "  'hsa05215_Prostate_cancer': 0.5968556802793052,\n",
       "  'hsa05216_Thyroid_cancer': 0.7192053263121564,\n",
       "  'hsa05217_Basal_cell_carcinoma': 0.5247780406935328,\n",
       "  'hsa05219_Bladder_cancer': 0.9183292612808795,\n",
       "  'hsa05222_Small_cell_lung_cancer': 0.22429866722396857,\n",
       "  'hsa05223_Non-small_cell_lung_cancer': 0.7268218331747434,\n",
       "  'hsa05224_Breast_cancer': 0.8564059055239408,\n",
       "  'hsa05225_Hepatocellular_carcinoma': 0.7382962962923754,\n",
       "  'hsa05226_Gastric_cancer': 0.7811685033359442},\n",
       " {'hsa05210_Colorectal_cancer': 1.0,\n",
       "  'hsa05211_Renal_cell_carcinoma': 1.0,\n",
       "  'hsa05212_Pancreatic_cancer': 1.0,\n",
       "  'hsa05213_Endometrial_cancer': 1.0,\n",
       "  'hsa05215_Prostate_cancer': 1.0,\n",
       "  'hsa05216_Thyroid_cancer': 1.0,\n",
       "  'hsa05217_Basal_cell_carcinoma': 1.0,\n",
       "  'hsa05219_Bladder_cancer': 1.0,\n",
       "  'hsa05222_Small_cell_lung_cancer': 1.0,\n",
       "  'hsa05223_Non-small_cell_lung_cancer': 1.0,\n",
       "  'hsa05224_Breast_cancer': 1.0,\n",
       "  'hsa05225_Hepatocellular_carcinoma': 1.0,\n",
       "  'hsa05226_Gastric_cancer': 1.0},\n",
       " {'hsa05210_Colorectal_cancer': 1.0,\n",
       "  'hsa05211_Renal_cell_carcinoma': 1.0,\n",
       "  'hsa05212_Pancreatic_cancer': 1.0,\n",
       "  'hsa05213_Endometrial_cancer': 1.0,\n",
       "  'hsa05215_Prostate_cancer': 1.0,\n",
       "  'hsa05216_Thyroid_cancer': 1.0,\n",
       "  'hsa05217_Basal_cell_carcinoma': 1.0,\n",
       "  'hsa05219_Bladder_cancer': 1.0,\n",
       "  'hsa05222_Small_cell_lung_cancer': 1.0,\n",
       "  'hsa05223_Non-small_cell_lung_cancer': 1.0,\n",
       "  'hsa05224_Breast_cancer': 1.0,\n",
       "  'hsa05225_Hepatocellular_carcinoma': 1.0,\n",
       "  'hsa05226_Gastric_cancer': 1.0},\n",
       " {'hsa05210_Colorectal_cancer': 1.0,\n",
       "  'hsa05211_Renal_cell_carcinoma': 1.0,\n",
       "  'hsa05212_Pancreatic_cancer': 1.0,\n",
       "  'hsa05213_Endometrial_cancer': 1.0,\n",
       "  'hsa05215_Prostate_cancer': 1.0,\n",
       "  'hsa05216_Thyroid_cancer': 1.0,\n",
       "  'hsa05217_Basal_cell_carcinoma': 1.0,\n",
       "  'hsa05219_Bladder_cancer': 1.0,\n",
       "  'hsa05222_Small_cell_lung_cancer': 1.0,\n",
       "  'hsa05223_Non-small_cell_lung_cancer': 1.0,\n",
       "  'hsa05224_Breast_cancer': 1.0,\n",
       "  'hsa05225_Hepatocellular_carcinoma': 1.0,\n",
       "  'hsa05226_Gastric_cancer': 1.0},\n",
       " {'hsa05210_Colorectal_cancer': 1.0,\n",
       "  'hsa05211_Renal_cell_carcinoma': 1.0,\n",
       "  'hsa05212_Pancreatic_cancer': 1.0,\n",
       "  'hsa05213_Endometrial_cancer': 1.0,\n",
       "  'hsa05215_Prostate_cancer': 1.0,\n",
       "  'hsa05216_Thyroid_cancer': 1.0,\n",
       "  'hsa05217_Basal_cell_carcinoma': 1.0,\n",
       "  'hsa05219_Bladder_cancer': 1.0,\n",
       "  'hsa05222_Small_cell_lung_cancer': 1.0,\n",
       "  'hsa05223_Non-small_cell_lung_cancer': 1.0,\n",
       "  'hsa05224_Breast_cancer': 1.0,\n",
       "  'hsa05225_Hepatocellular_carcinoma': 1.0,\n",
       "  'hsa05226_Gastric_cancer': 1.0},\n",
       " {'hsa05210_Colorectal_cancer': 1.0,\n",
       "  'hsa05211_Renal_cell_carcinoma': 1.0,\n",
       "  'hsa05212_Pancreatic_cancer': 1.0,\n",
       "  'hsa05213_Endometrial_cancer': 1.0,\n",
       "  'hsa05215_Prostate_cancer': 1.0,\n",
       "  'hsa05216_Thyroid_cancer': 1.0,\n",
       "  'hsa05217_Basal_cell_carcinoma': 1.0,\n",
       "  'hsa05219_Bladder_cancer': 1.0,\n",
       "  'hsa05222_Small_cell_lung_cancer': 1.0,\n",
       "  'hsa05223_Non-small_cell_lung_cancer': 1.0,\n",
       "  'hsa05224_Breast_cancer': 1.0,\n",
       "  'hsa05225_Hepatocellular_carcinoma': 1.0,\n",
       "  'hsa05226_Gastric_cancer': 1.0},\n",
       " {'hsa05210_Colorectal_cancer': 0.9085090305607662,\n",
       "  'hsa05211_Renal_cell_carcinoma': 0.9573114624471155,\n",
       "  'hsa05212_Pancreatic_cancer': 0.6034249001757671,\n",
       "  'hsa05213_Endometrial_cancer': 0.892588163436994,\n",
       "  'hsa05215_Prostate_cancer': 0.5416213723667588,\n",
       "  'hsa05216_Thyroid_cancer': 0.9139826099154699,\n",
       "  'hsa05217_Basal_cell_carcinoma': 0.38584633223928294,\n",
       "  'hsa05219_Bladder_cancer': 0.463122698549421,\n",
       "  'hsa05222_Small_cell_lung_cancer': 0.7141007205465151,\n",
       "  'hsa05223_Non-small_cell_lung_cancer': 0.8453578221297823,\n",
       "  'hsa05224_Breast_cancer': 0.8292551409793905,\n",
       "  'hsa05225_Hepatocellular_carcinoma': 0.7332745020083589,\n",
       "  'hsa05226_Gastric_cancer': 0.6974230261771877},\n",
       " {'hsa05210_Colorectal_cancer': 0.7747805687930819,\n",
       "  'hsa05211_Renal_cell_carcinoma': 0.882883276342206,\n",
       "  'hsa05212_Pancreatic_cancer': 0.2892017018131881,\n",
       "  'hsa05213_Endometrial_cancer': 0.6733844777657634,\n",
       "  'hsa05215_Prostate_cancer': 0.5880217669386782,\n",
       "  'hsa05216_Thyroid_cancer': 0.9075980851444819,\n",
       "  'hsa05217_Basal_cell_carcinoma': 0.5582889524728516,\n",
       "  'hsa05219_Bladder_cancer': 0.6068033429922854,\n",
       "  'hsa05222_Small_cell_lung_cancer': 0.4916286321511625,\n",
       "  'hsa05223_Non-small_cell_lung_cancer': 0.47316906085886046,\n",
       "  'hsa05224_Breast_cancer': 0.726442254492321,\n",
       "  'hsa05225_Hepatocellular_carcinoma': 0.45273554802217075,\n",
       "  'hsa05226_Gastric_cancer': 0.4965972074845666}]"
      ]
     },
     "execution_count": 138,
     "metadata": {},
     "output_type": "execute_result"
    }
   ],
   "source": [
    "ora_result"
   ]
  },
  {
   "cell_type": "code",
   "execution_count": 159,
   "metadata": {},
   "outputs": [],
   "source": [
    "result = [\n",
    "    'hsa05224_Breast_cancer',\n",
    "    'hsa05213_Endometrial_cancer',\n",
    "    'hsa05219_Bladder_cancer',\n",
    "    'hsa05216_Thyroid_cancer',\n",
    "    'hsa05211_Renal_cell_carcinoma',\n",
    "    'hsa05222_Small_cell_lung_cancer',\n",
    "    'hsa05211_Renal_cell_carcinoma',\n",
    "    'hsa05210_Colorectal_cancer',\n",
    "    'hsa05224_Breast_cancer',\n",
    "    'hsa05222_Small_cell_lung_cancer',\n",
    "    'hsa05212_Pancreatic_cancer',\n",
    "    'hsa05212_Pancreatic_cancer',\n",
    "    'hsa05216_Thyroid_cancer'\n",
    "]"
   ]
  },
  {
   "cell_type": "code",
   "execution_count": 161,
   "metadata": {},
   "outputs": [
    {
     "name": "stdout",
     "output_type": "stream",
     "text": [
      "hsa05224_Breast_cancer\n",
      "hsa05213_Endometrial_cancer\n",
      "hsa05219_Bladder_cancer\n",
      "hsa05216_Thyroid_cancer\n",
      "hsa05211_Renal_cell_carcinoma\n",
      "hsa05222_Small_cell_lung_cancer\n",
      "hsa05211_Renal_cell_carcinoma\n",
      "hsa05210_Colorectal_cancer\n",
      "hsa05224_Breast_cancer\n",
      "hsa05222_Small_cell_lung_cancer\n",
      "hsa05212_Pancreatic_cancer\n",
      "hsa05212_Pancreatic_cancer\n",
      "hsa05216_Thyroid_cancer\n"
     ]
    }
   ],
   "source": [
    "print('\\n'.join(result))"
   ]
  }
 ],
 "metadata": {
  "kernelspec": {
   "display_name": "Python 3",
   "language": "python",
   "name": "python3"
  },
  "language_info": {
   "codemirror_mode": {
    "name": "ipython",
    "version": 3
   },
   "file_extension": ".py",
   "mimetype": "text/x-python",
   "name": "python",
   "nbconvert_exporter": "python",
   "pygments_lexer": "ipython3",
   "version": "3.8.6"
  }
 },
 "nbformat": 4,
 "nbformat_minor": 4
}
